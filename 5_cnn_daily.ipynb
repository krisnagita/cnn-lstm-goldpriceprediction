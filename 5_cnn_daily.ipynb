{
  "nbformat": 4,
  "nbformat_minor": 0,
  "metadata": {
    "colab": {
      "name": "5-cnn-daily.ipynb",
      "provenance": [],
      "collapsed_sections": []
    },
    "kernelspec": {
      "name": "python3",
      "display_name": "Python 3"
    },
    "accelerator": "GPU"
  },
  "cells": [
    {
      "cell_type": "markdown",
      "metadata": {
        "id": "Tu9DBBZ_9YpL"
      },
      "source": [
        "# **Gold Price Prediction Using CNN**\n",
        "\n",
        "\n"
      ]
    },
    {
      "cell_type": "markdown",
      "metadata": {
        "id": "S1OwGImOXmE9"
      },
      "source": [
        "## Import and Install Library"
      ]
    },
    {
      "cell_type": "code",
      "metadata": {
        "id": "mKDSFjlHXO6d"
      },
      "source": [
        "# !pip install -q keras"
      ],
      "execution_count": null,
      "outputs": []
    },
    {
      "cell_type": "code",
      "metadata": {
        "id": "-dIx5T4VVqNq"
      },
      "source": [
        "import pandas as pd\n",
        "import numpy as np\n",
        "import matplotlib.pyplot as plt\n",
        "import keras\n",
        "import tensorflow as tf\n",
        "from google.colab import drive\n",
        "\n",
        "from sklearn.preprocessing import StandardScaler\n",
        "from sklearn.preprocessing import MinMaxScaler\n",
        "from tensorflow.keras.models import Sequential\n",
        "from tensorflow.keras.layers import Dense, Dropout, LSTM, TimeDistributed, Conv1D\n",
        "from tensorflow.python.keras.layers.pooling import MaxPooling1D\n",
        "# from tensorflow,keras.wrappers.scikit_learn import KerasClassifier\n",
        "from tensorflow.keras.callbacks import EarlyStopping, ModelCheckpoint\n",
        "from tensorflow.keras.layers import Flatten\n",
        "from sklearn.model_selection import GridSearchCV\n",
        "\n",
        "import random as python_random\n",
        "\n",
        "from sklearn.model_selection import train_test_split\n",
        "from sklearn.metrics import mean_squared_error\n",
        "from sklearn.metrics import mean_absolute_error\n",
        "\n",
        "import datetime"
      ],
      "execution_count": null,
      "outputs": []
    },
    {
      "cell_type": "markdown",
      "metadata": {
        "id": "BkB-IBbPXt3N"
      },
      "source": [
        "## Load Dataset"
      ]
    },
    {
      "cell_type": "code",
      "metadata": {
        "id": "z3M3TMYfXvCk",
        "colab": {
          "base_uri": "https://localhost:8080/"
        },
        "outputId": "e82559cb-8ff0-4aea-ec4b-43dd7a0540df"
      },
      "source": [
        "#Mount to google drive\n",
        "drive.mount('/content/drive')"
      ],
      "execution_count": null,
      "outputs": [
        {
          "output_type": "stream",
          "text": [
            "Drive already mounted at /content/drive; to attempt to forcibly remount, call drive.mount(\"/content/drive\", force_remount=True).\n"
          ],
          "name": "stdout"
        }
      ]
    },
    {
      "cell_type": "code",
      "metadata": {
        "id": "RVpNndPsX-2c"
      },
      "source": [
        "# !ls \"/content/drive/MyDrive/TugasAkhir/Code/\""
      ],
      "execution_count": null,
      "outputs": []
    },
    {
      "cell_type": "code",
      "metadata": {
        "id": "oszy3Fk5Y-gk"
      },
      "source": [
        "data = pd.read_excel(\"/content/drive/MyDrive/TugasAkhir/Code/Dataset/1-daily.xlsx\")"
      ],
      "execution_count": null,
      "outputs": []
    },
    {
      "cell_type": "code",
      "metadata": {
        "id": "OeMA_gw3Ztfu",
        "colab": {
          "base_uri": "https://localhost:8080/",
          "height": 204
        },
        "outputId": "6b33518c-c0e5-49ef-d8aa-57028e8c44a3"
      },
      "source": [
        "data.head()"
      ],
      "execution_count": null,
      "outputs": [
        {
          "output_type": "execute_result",
          "data": {
            "text/html": [
              "<div>\n",
              "<style scoped>\n",
              "    .dataframe tbody tr th:only-of-type {\n",
              "        vertical-align: middle;\n",
              "    }\n",
              "\n",
              "    .dataframe tbody tr th {\n",
              "        vertical-align: top;\n",
              "    }\n",
              "\n",
              "    .dataframe thead th {\n",
              "        text-align: right;\n",
              "    }\n",
              "</style>\n",
              "<table border=\"1\" class=\"dataframe\">\n",
              "  <thead>\n",
              "    <tr style=\"text-align: right;\">\n",
              "      <th></th>\n",
              "      <th>Date</th>\n",
              "      <th>Prices</th>\n",
              "    </tr>\n",
              "  </thead>\n",
              "  <tbody>\n",
              "    <tr>\n",
              "      <th>0</th>\n",
              "      <td>1978-12-29</td>\n",
              "      <td>226.00</td>\n",
              "    </tr>\n",
              "    <tr>\n",
              "      <th>1</th>\n",
              "      <td>1979-01-01</td>\n",
              "      <td>226.00</td>\n",
              "    </tr>\n",
              "    <tr>\n",
              "      <th>2</th>\n",
              "      <td>1979-01-02</td>\n",
              "      <td>226.80</td>\n",
              "    </tr>\n",
              "    <tr>\n",
              "      <th>3</th>\n",
              "      <td>1979-01-03</td>\n",
              "      <td>218.60</td>\n",
              "    </tr>\n",
              "    <tr>\n",
              "      <th>4</th>\n",
              "      <td>1979-01-04</td>\n",
              "      <td>223.15</td>\n",
              "    </tr>\n",
              "  </tbody>\n",
              "</table>\n",
              "</div>"
            ],
            "text/plain": [
              "        Date  Prices\n",
              "0 1978-12-29  226.00\n",
              "1 1979-01-01  226.00\n",
              "2 1979-01-02  226.80\n",
              "3 1979-01-03  218.60\n",
              "4 1979-01-04  223.15"
            ]
          },
          "metadata": {
            "tags": []
          },
          "execution_count": 6
        }
      ]
    },
    {
      "cell_type": "code",
      "metadata": {
        "id": "uhoJJS5U7T0X",
        "colab": {
          "base_uri": "https://localhost:8080/",
          "height": 204
        },
        "outputId": "8844b351-469b-4733-bcb3-8f782a6a2f18"
      },
      "source": [
        "data.tail()"
      ],
      "execution_count": null,
      "outputs": [
        {
          "output_type": "execute_result",
          "data": {
            "text/html": [
              "<div>\n",
              "<style scoped>\n",
              "    .dataframe tbody tr th:only-of-type {\n",
              "        vertical-align: middle;\n",
              "    }\n",
              "\n",
              "    .dataframe tbody tr th {\n",
              "        vertical-align: top;\n",
              "    }\n",
              "\n",
              "    .dataframe thead th {\n",
              "        text-align: right;\n",
              "    }\n",
              "</style>\n",
              "<table border=\"1\" class=\"dataframe\">\n",
              "  <thead>\n",
              "    <tr style=\"text-align: right;\">\n",
              "      <th></th>\n",
              "      <th>Date</th>\n",
              "      <th>Prices</th>\n",
              "    </tr>\n",
              "  </thead>\n",
              "  <tbody>\n",
              "    <tr>\n",
              "      <th>11016</th>\n",
              "      <td>2021-03-22</td>\n",
              "      <td>1736.15</td>\n",
              "    </tr>\n",
              "    <tr>\n",
              "      <th>11017</th>\n",
              "      <td>2021-03-23</td>\n",
              "      <td>1726.20</td>\n",
              "    </tr>\n",
              "    <tr>\n",
              "      <th>11018</th>\n",
              "      <td>2021-03-24</td>\n",
              "      <td>1730.50</td>\n",
              "    </tr>\n",
              "    <tr>\n",
              "      <th>11019</th>\n",
              "      <td>2021-03-25</td>\n",
              "      <td>1737.30</td>\n",
              "    </tr>\n",
              "    <tr>\n",
              "      <th>11020</th>\n",
              "      <td>2021-03-26</td>\n",
              "      <td>1731.80</td>\n",
              "    </tr>\n",
              "  </tbody>\n",
              "</table>\n",
              "</div>"
            ],
            "text/plain": [
              "            Date   Prices\n",
              "11016 2021-03-22  1736.15\n",
              "11017 2021-03-23  1726.20\n",
              "11018 2021-03-24  1730.50\n",
              "11019 2021-03-25  1737.30\n",
              "11020 2021-03-26  1731.80"
            ]
          },
          "metadata": {
            "tags": []
          },
          "execution_count": 7
        }
      ]
    },
    {
      "cell_type": "code",
      "metadata": {
        "id": "gdUc3D5eROwi",
        "colab": {
          "base_uri": "https://localhost:8080/"
        },
        "outputId": "da1cac36-c9a8-4307-df9e-97c2541e43aa"
      },
      "source": [
        "data.info()"
      ],
      "execution_count": null,
      "outputs": [
        {
          "output_type": "stream",
          "text": [
            "<class 'pandas.core.frame.DataFrame'>\n",
            "RangeIndex: 11021 entries, 0 to 11020\n",
            "Data columns (total 2 columns):\n",
            " #   Column  Non-Null Count  Dtype         \n",
            "---  ------  --------------  -----         \n",
            " 0   Date    11021 non-null  datetime64[ns]\n",
            " 1   Prices  11021 non-null  float64       \n",
            "dtypes: datetime64[ns](1), float64(1)\n",
            "memory usage: 172.3 KB\n"
          ],
          "name": "stdout"
        }
      ]
    },
    {
      "cell_type": "markdown",
      "metadata": {
        "id": "HXF5U-t7ZzmI"
      },
      "source": [
        "## Pre-Processing"
      ]
    },
    {
      "cell_type": "code",
      "metadata": {
        "id": "Coux8tXMfmOS",
        "colab": {
          "base_uri": "https://localhost:8080/",
          "height": 627
        },
        "outputId": "4d4dfb34-65b8-41c7-b1b1-0c3a54979a75"
      },
      "source": [
        "#Check the pattern of dataset\n",
        "\n",
        "plt.figure(figsize=(20,10))\n",
        "plt.plot(data['Date'], data['Prices'])\n",
        "plt.title(\"Data Prices Gold Daily 1980 - 2020 \", fontsize=16)\n",
        "plt.ylabel(\"Prices\", fontsize=14)\n",
        "plt.xlabel(\"Years\", fontsize=14)\n",
        "plt.show()"
      ],
      "execution_count": null,
      "outputs": [
        {
          "output_type": "display_data",
          "data": {
            "image/png": "[encoded data removed]",
            "text/plain": [
              "<Figure size 1440x720 with 1 Axes>"
            ]
          },
          "metadata": {
            "tags": [],
            "needs_background": "light"
          }
        }
      ]
    },
    {
      "cell_type": "code",
      "metadata": {
        "id": "KLFQHeku8cW2"
      },
      "source": [
        "#Filter Data\n",
        "data = data[(data['Date'] >= pd.Timestamp(2005,3,26)) & (data['Date'] <= pd.Timestamp(2021,3,26))]  "
      ],
      "execution_count": null,
      "outputs": []
    },
    {
      "cell_type": "code",
      "metadata": {
        "id": "5B_Pq7jrAQQz"
      },
      "source": [
        "#Check the pattern of dataset after filter\n",
        "\n",
        "# plt.figure(figsize=(20,10))\n",
        "# plt.plot(data['Date'], data['Prices'])\n",
        "# plt.title(\"Data Prices Gold Daily 2005 - 2020 \", fontsize=16)\n",
        "# plt.ylabel(\"Prices\", fontsize=14)\n",
        "# plt.xlabel(\"Years\", fontsize=14)\n",
        "# plt.show()"
      ],
      "execution_count": null,
      "outputs": []
    },
    {
      "cell_type": "code",
      "metadata": {
        "id": "heAXVd5CYl8S",
        "colab": {
          "base_uri": "https://localhost:8080/"
        },
        "outputId": "f532a16a-f72b-4fd2-d5b0-f73562474cb1"
      },
      "source": [
        "#Check the types of all atributes\n",
        "data.dtypes"
      ],
      "execution_count": null,
      "outputs": [
        {
          "output_type": "execute_result",
          "data": {
            "text/plain": [
              "Date      datetime64[ns]\n",
              "Prices           float64\n",
              "dtype: object"
            ]
          },
          "metadata": {
            "tags": []
          },
          "execution_count": 12
        }
      ]
    },
    {
      "cell_type": "code",
      "metadata": {
        "id": "naC3sm1Z_9wd",
        "colab": {
          "base_uri": "https://localhost:8080/"
        },
        "outputId": "7ec4e6dd-9a26-44d2-f92c-338a501cb413"
      },
      "source": [
        "data.info()"
      ],
      "execution_count": null,
      "outputs": [
        {
          "output_type": "stream",
          "text": [
            "<class 'pandas.core.frame.DataFrame'>\n",
            "Int64Index: 4175 entries, 6846 to 11020\n",
            "Data columns (total 2 columns):\n",
            " #   Column  Non-Null Count  Dtype         \n",
            "---  ------  --------------  -----         \n",
            " 0   Date    4175 non-null   datetime64[ns]\n",
            " 1   Prices  4175 non-null   float64       \n",
            "dtypes: datetime64[ns](1), float64(1)\n",
            "memory usage: 97.9 KB\n"
          ],
          "name": "stdout"
        }
      ]
    },
    {
      "cell_type": "code",
      "metadata": {
        "colab": {
          "base_uri": "https://localhost:8080/",
          "height": 204
        },
        "id": "CClxn0MAF344",
        "outputId": "2fb3fde9-9c30-4569-fa55-7e0cb9bdfd5a"
      },
      "source": [
        "data.head()"
      ],
      "execution_count": null,
      "outputs": [
        {
          "output_type": "execute_result",
          "data": {
            "text/html": [
              "<div>\n",
              "<style scoped>\n",
              "    .dataframe tbody tr th:only-of-type {\n",
              "        vertical-align: middle;\n",
              "    }\n",
              "\n",
              "    .dataframe tbody tr th {\n",
              "        vertical-align: top;\n",
              "    }\n",
              "\n",
              "    .dataframe thead th {\n",
              "        text-align: right;\n",
              "    }\n",
              "</style>\n",
              "<table border=\"1\" class=\"dataframe\">\n",
              "  <thead>\n",
              "    <tr style=\"text-align: right;\">\n",
              "      <th></th>\n",
              "      <th>Date</th>\n",
              "      <th>Prices</th>\n",
              "    </tr>\n",
              "  </thead>\n",
              "  <tbody>\n",
              "    <tr>\n",
              "      <th>6846</th>\n",
              "      <td>2005-03-28</td>\n",
              "      <td>425.15</td>\n",
              "    </tr>\n",
              "    <tr>\n",
              "      <th>6847</th>\n",
              "      <td>2005-03-29</td>\n",
              "      <td>426.10</td>\n",
              "    </tr>\n",
              "    <tr>\n",
              "      <th>6848</th>\n",
              "      <td>2005-03-30</td>\n",
              "      <td>426.45</td>\n",
              "    </tr>\n",
              "    <tr>\n",
              "      <th>6849</th>\n",
              "      <td>2005-03-31</td>\n",
              "      <td>427.50</td>\n",
              "    </tr>\n",
              "    <tr>\n",
              "      <th>6850</th>\n",
              "      <td>2005-04-01</td>\n",
              "      <td>427.15</td>\n",
              "    </tr>\n",
              "  </tbody>\n",
              "</table>\n",
              "</div>"
            ],
            "text/plain": [
              "           Date  Prices\n",
              "6846 2005-03-28  425.15\n",
              "6847 2005-03-29  426.10\n",
              "6848 2005-03-30  426.45\n",
              "6849 2005-03-31  427.50\n",
              "6850 2005-04-01  427.15"
            ]
          },
          "metadata": {
            "tags": []
          },
          "execution_count": 14
        }
      ]
    },
    {
      "cell_type": "code",
      "metadata": {
        "id": "A4mGAoHW-01e",
        "colab": {
          "base_uri": "https://localhost:8080/"
        },
        "outputId": "f69e4ae0-52bf-4a98-d768-256671f031b4"
      },
      "source": [
        "#Split into Data Train and Data Test ( 60:40 and 80:20) \n",
        "train_size = int(len(data) * 0.80)\n",
        "test_size = (int(len(data) - train_size))\n",
        "\n",
        "#Data training\n",
        "data_train = data[0:train_size]\n",
        "\n",
        "#Data testing\n",
        "data_test = data[train_size:len(data)]\n",
        "\n",
        "print(\"The amount of data train: \", len(data_train))\n",
        "print(\"The amount of data train: \", len(data_test))"
      ],
      "execution_count": null,
      "outputs": [
        {
          "output_type": "stream",
          "text": [
            "The amount of data train:  3340\n",
            "The amount of data train:  835\n"
          ],
          "name": "stdout"
        }
      ]
    },
    {
      "cell_type": "code",
      "metadata": {
        "id": "IZ6Ix2x6fDgK",
        "colab": {
          "base_uri": "https://localhost:8080/"
        },
        "outputId": "d731ba93-fb9b-4fe2-fd38-271e64f105d0"
      },
      "source": [
        "#Check missing values in data train\n",
        "data_train.isnull().sum()"
      ],
      "execution_count": null,
      "outputs": [
        {
          "output_type": "execute_result",
          "data": {
            "text/plain": [
              "Date      0\n",
              "Prices    0\n",
              "dtype: int64"
            ]
          },
          "metadata": {
            "tags": []
          },
          "execution_count": 16
        }
      ]
    },
    {
      "cell_type": "code",
      "metadata": {
        "id": "1bSDCFwqAa87",
        "colab": {
          "base_uri": "https://localhost:8080/"
        },
        "outputId": "b7484a90-9124-4afd-9013-16e7db820457"
      },
      "source": [
        "#Check missing values in data test\n",
        "data_test.isnull().sum()"
      ],
      "execution_count": null,
      "outputs": [
        {
          "output_type": "execute_result",
          "data": {
            "text/plain": [
              "Date      0\n",
              "Prices    0\n",
              "dtype: int64"
            ]
          },
          "metadata": {
            "tags": []
          },
          "execution_count": 17
        }
      ]
    },
    {
      "cell_type": "code",
      "metadata": {
        "id": "DsoSP7D8ArQ8"
      },
      "source": [
        "#Make data train into numpy array\n",
        "arr_price_train = data_train['Prices'].to_numpy()\n",
        "# arr_date_train = data_train['Date'].to_numpy()\n",
        "\n",
        "#Make data test into numpy array\n",
        "arr_price_test = data_test['Prices'].to_numpy()\n",
        "# arr_date_test = data_test['Date'].to_numpy()"
      ],
      "execution_count": null,
      "outputs": []
    },
    {
      "cell_type": "code",
      "metadata": {
        "id": "74YyC7ptkYA7"
      },
      "source": [
        "# scaler = MinMaxScaler(feature_range=(0, 1))\n",
        "# rescaledX = scaler.fit_transform(X)"
      ],
      "execution_count": null,
      "outputs": []
    },
    {
      "cell_type": "code",
      "metadata": {
        "id": "MuBwDLtmBI36"
      },
      "source": [
        "scalerMinMax = MinMaxScaler(feature_range=(0, 1))\n",
        "# scalerStandard = StandardScaler() \n",
        "\n",
        "#Normalize the data train\n",
        "scaled_data_train = scalerMinMax.fit_transform(arr_price_train.reshape(-1,1))\n",
        "\n",
        "#Normalize the data test\n",
        "scaled_data_test = scalerMinMax.fit_transform(arr_price_test.reshape(-1,1))\n"
      ],
      "execution_count": null,
      "outputs": []
    },
    {
      "cell_type": "code",
      "metadata": {
        "id": "hhZrmB5wBbjO",
        "colab": {
          "base_uri": "https://localhost:8080/"
        },
        "outputId": "5bb985cb-a2b1-4a70-9ea0-1073f4ff61f2"
      },
      "source": [
        "#Checking the normalize result\n",
        "for i in range(len(scaled_data_train)):\n",
        "    if (i <= 5):\n",
        "        print(scaled_data_train[i])"
      ],
      "execution_count": null,
      "outputs": [
        {
          "output_type": "stream",
          "text": [
            "[0.00722704]\n",
            "[0.0078687]\n",
            "[0.0081051]\n",
            "[0.00881429]\n",
            "[0.00857789]\n",
            "[0.00638276]\n"
          ],
          "name": "stdout"
        }
      ]
    },
    {
      "cell_type": "markdown",
      "metadata": {
        "id": "wI1anp732e06"
      },
      "source": [
        "The first step is to split the input sequences into subsequences that can be processed by the CNN model. For example, we can first split our univariate time series data into input/output samples with four steps as input and one as output. Each sample can then be split into two sub-samples, each with two time steps. The CNN can interpret each subsequence of two time steps and provide a time series of interpretations of the subsequences to the LSTM model to process as input.\n",
        "\n",
        "We can parameterize this and define the number of subsequences as n_seq and the number of time steps per subsequence as n_steps. The input data can then be reshaped to have the required structure"
      ]
    },
    {
      "cell_type": "code",
      "metadata": {
        "id": "W-PUE1tblrTh"
      },
      "source": [
        "#Split a univariate sequence into samples\n",
        "def splitSequences(data, n_steps):\n",
        "    x, y = list(),list()\n",
        "    for i in range(len(data)):\n",
        "        #Find the end of this pattern\n",
        "        end = i + n_steps\n",
        "        #Check if we are beyond the sequence\n",
        "        if end > len(data)-1:\n",
        "            break\n",
        "        #Gather input and outputs part of the pattern\n",
        "        seq_x, seq_y = data[i:end], data[end]\n",
        "        x.append(seq_x)\n",
        "        y.append(seq_y)\n",
        "    return x, y"
      ],
      "execution_count": null,
      "outputs": []
    },
    {
      "cell_type": "code",
      "metadata": {
        "id": "e5oa983a35uD",
        "colab": {
          "base_uri": "https://localhost:8080/"
        },
        "outputId": "b20bab2e-5089-4816-a6a0-a34cfab44eb0"
      },
      "source": [
        "len(data_train)"
      ],
      "execution_count": null,
      "outputs": [
        {
          "output_type": "execute_result",
          "data": {
            "text/plain": [
              "3340"
            ]
          },
          "metadata": {
            "tags": []
          },
          "execution_count": 23
        }
      ]
    },
    {
      "cell_type": "code",
      "metadata": {
        "id": "hoZyfT1FB81N"
      },
      "source": [
        "#Scaled data train became the input sequence\n",
        "input_seq_train = scaled_data_train\n",
        "\n",
        "#Scaled data test became the input sequence\n",
        "input_seq_test = scaled_data_test"
      ],
      "execution_count": null,
      "outputs": []
    },
    {
      "cell_type": "code",
      "metadata": {
        "id": "TMSl4SDIBzwU",
        "colab": {
          "base_uri": "https://localhost:8080/"
        },
        "outputId": "200e2479-aa49-48cb-ea1a-91b9654224f1"
      },
      "source": [
        "#Choose a number of time steps (In this case time steps = 4)\n",
        "\n",
        "n_steps = 4\n",
        "train_X, train_y = splitSequences(input_seq_train, n_steps)\n",
        "test_X, test_y = splitSequences(input_seq_test, n_steps)\n",
        "\n",
        "print(\"The amount of data train: \", len(train_X))\n",
        "print(\"The amount of data train: \", len(test_X))"
      ],
      "execution_count": null,
      "outputs": [
        {
          "output_type": "stream",
          "text": [
            "The amount of data train:  3336\n",
            "The amount of data train:  831\n"
          ],
          "name": "stdout"
        }
      ]
    },
    {
      "cell_type": "code",
      "metadata": {
        "id": "g1ilyUvt8fvT"
      },
      "source": [
        "#Make data into numpy array\n",
        "\n",
        "train_X = np.asarray(train_X)\n",
        "train_y = np.asarray(train_y)\n",
        "\n",
        "test_X = np.asarray(test_X)\n",
        "test_y = np.asarray(test_y)"
      ],
      "execution_count": null,
      "outputs": []
    },
    {
      "cell_type": "code",
      "metadata": {
        "id": "pe_Y6huwmNiW"
      },
      "source": [
        "#Reshape from [samples, timesteps] into[samples, timesteps, features]\n",
        "n_features = 1\n",
        "# n_steps = 4\n",
        "# n_seq = 1\n",
        "\n",
        "# #Reshape for data train\n",
        "train_X = train_X.reshape((train_X.shape[0], train_X.shape[1], n_features))\n",
        "\n",
        "#Reshape for data test\n",
        "test_X = test_X.reshape((test_X.shape[0], test_X.shape[1], n_features))"
      ],
      "execution_count": null,
      "outputs": []
    },
    {
      "cell_type": "markdown",
      "metadata": {
        "id": "snThUCc1cg0r"
      },
      "source": [
        "## Building Model"
      ]
    },
    {
      "cell_type": "code",
      "metadata": {
        "id": "UGMKJ19pYlot"
      },
      "source": [
        "#Not get random result\n",
        "\n",
        "np.random.seed(123)\n",
        "python_random.seed(123)\n",
        "tf.random.set_seed(12345)"
      ],
      "execution_count": null,
      "outputs": []
    },
    {
      "cell_type": "code",
      "metadata": {
        "id": "DWPAnFOEnUPw"
      },
      "source": [
        "# Define Model CNN-LSTM\n",
        "model = Sequential()\n",
        "model.add(Conv1D(filters=128, kernel_size=2, activation='relu', input_shape=(n_steps, n_features)))\n",
        "model.add(MaxPooling1D(pool_size=2))\n",
        "model.add(Flatten())\n",
        "# model.add(Dropout(0.1))\n",
        "model.add(Dense(24, activation=\"relu\")) # Code for Fully Connected Layer\n",
        "model.add(Dense(1, activation=\"relu\")) # Output Layer\n",
        "model.compile(optimizer='Adam', loss='mean_squared_error', metrics=['accuracy'])\n",
        "earlyStop = EarlyStopping(monitor='val_loss', mode='min', verbose=1, patience=30)"
      ],
      "execution_count": null,
      "outputs": []
    },
    {
      "cell_type": "code",
      "metadata": {
        "id": "qLvYJVran0C2"
      },
      "source": [
        "# model = create_model()"
      ],
      "execution_count": null,
      "outputs": []
    },
    {
      "cell_type": "code",
      "metadata": {
        "id": "hBKR6e8saZ1t",
        "colab": {
          "base_uri": "https://localhost:8080/"
        },
        "outputId": "1252ce0e-74ca-46d2-d7c5-6b86a4b82c5e"
      },
      "source": [
        "model.summary()"
      ],
      "execution_count": null,
      "outputs": [
        {
          "output_type": "stream",
          "text": [
            "Model: \"sequential\"\n",
            "_________________________________________________________________\n",
            "Layer (type)                 Output Shape              Param #   \n",
            "=================================================================\n",
            "conv1d (Conv1D)              (None, 3, 128)            384       \n",
            "_________________________________________________________________\n",
            "max_pooling1d (MaxPooling1D) (None, 1, 128)            0         \n",
            "_________________________________________________________________\n",
            "flatten (Flatten)            (None, 128)               0         \n",
            "_________________________________________________________________\n",
            "dense (Dense)                (None, 24)                3096      \n",
            "_________________________________________________________________\n",
            "dense_1 (Dense)              (None, 1)                 25        \n",
            "=================================================================\n",
            "Total params: 3,505\n",
            "Trainable params: 3,505\n",
            "Non-trainable params: 0\n",
            "_________________________________________________________________\n"
          ],
          "name": "stdout"
        }
      ]
    },
    {
      "cell_type": "markdown",
      "metadata": {
        "id": "gwtnhRBDckxN"
      },
      "source": [
        "## Training Model"
      ]
    },
    {
      "cell_type": "code",
      "metadata": {
        "id": "NTwwJcUpnXNG",
        "colab": {
          "base_uri": "https://localhost:8080/"
        },
        "outputId": "d8b3940c-c874-456d-d1d4-05a7c31e9db2"
      },
      "source": [
        "#Training Model\n",
        "model_train = model.fit(train_X, train_y, validation_split=0.33, epochs=1000, batch_size=128, verbose=1, callbacks=[earlyStop])"
      ],
      "execution_count": null,
      "outputs": [
        {
          "output_type": "stream",
          "text": [
            "Epoch 1/1000\n",
            "18/18 [==============================] - 1s 12ms/step - loss: 0.1271 - accuracy: 4.4743e-04 - val_loss: 0.0335 - val_accuracy: 0.0000e+00\n",
            "Epoch 2/1000\n",
            "18/18 [==============================] - 0s 5ms/step - loss: 0.0131 - accuracy: 0.0013 - val_loss: 5.9781e-04 - val_accuracy: 0.0000e+00\n",
            "Epoch 3/1000\n",
            "18/18 [==============================] - 0s 3ms/step - loss: 0.0015 - accuracy: 0.0013 - val_loss: 1.7178e-04 - val_accuracy: 0.0000e+00\n",
            "Epoch 4/1000\n",
            "18/18 [==============================] - 0s 3ms/step - loss: 3.5202e-04 - accuracy: 0.0013 - val_loss: 1.8180e-04 - val_accuracy: 0.0000e+00\n",
            "Epoch 5/1000\n",
            "18/18 [==============================] - 0s 4ms/step - loss: 2.6317e-04 - accuracy: 0.0013 - val_loss: 1.4038e-04 - val_accuracy: 0.0000e+00\n",
            "Epoch 6/1000\n",
            "18/18 [==============================] - 0s 4ms/step - loss: 2.4981e-04 - accuracy: 0.0013 - val_loss: 1.5111e-04 - val_accuracy: 0.0000e+00\n",
            "Epoch 7/1000\n",
            "18/18 [==============================] - 0s 4ms/step - loss: 2.5371e-04 - accuracy: 0.0013 - val_loss: 1.3007e-04 - val_accuracy: 0.0000e+00\n",
            "Epoch 8/1000\n",
            "18/18 [==============================] - 0s 3ms/step - loss: 2.4676e-04 - accuracy: 0.0013 - val_loss: 1.2948e-04 - val_accuracy: 0.0000e+00\n",
            "Epoch 9/1000\n",
            "18/18 [==============================] - 0s 5ms/step - loss: 2.4397e-04 - accuracy: 0.0013 - val_loss: 1.3036e-04 - val_accuracy: 0.0000e+00\n",
            "Epoch 10/1000\n",
            "18/18 [==============================] - 0s 4ms/step - loss: 2.4546e-04 - accuracy: 0.0013 - val_loss: 1.3260e-04 - val_accuracy: 0.0000e+00\n",
            "Epoch 11/1000\n",
            "18/18 [==============================] - 0s 3ms/step - loss: 2.4331e-04 - accuracy: 0.0013 - val_loss: 1.2859e-04 - val_accuracy: 0.0000e+00\n",
            "Epoch 12/1000\n",
            "18/18 [==============================] - 0s 4ms/step - loss: 2.4289e-04 - accuracy: 0.0013 - val_loss: 1.3097e-04 - val_accuracy: 0.0000e+00\n",
            "Epoch 13/1000\n",
            "18/18 [==============================] - 0s 4ms/step - loss: 2.4411e-04 - accuracy: 0.0013 - val_loss: 1.3527e-04 - val_accuracy: 0.0000e+00\n",
            "Epoch 14/1000\n",
            "18/18 [==============================] - 0s 6ms/step - loss: 2.4333e-04 - accuracy: 0.0013 - val_loss: 1.4457e-04 - val_accuracy: 0.0000e+00\n",
            "Epoch 15/1000\n",
            "18/18 [==============================] - 0s 3ms/step - loss: 2.4524e-04 - accuracy: 0.0013 - val_loss: 1.3327e-04 - val_accuracy: 0.0000e+00\n",
            "Epoch 16/1000\n",
            "18/18 [==============================] - 0s 4ms/step - loss: 2.4262e-04 - accuracy: 0.0013 - val_loss: 1.3095e-04 - val_accuracy: 0.0000e+00\n",
            "Epoch 17/1000\n",
            "18/18 [==============================] - 0s 4ms/step - loss: 2.4333e-04 - accuracy: 0.0013 - val_loss: 1.2826e-04 - val_accuracy: 0.0000e+00\n",
            "Epoch 18/1000\n",
            "18/18 [==============================] - 0s 4ms/step - loss: 2.4172e-04 - accuracy: 0.0013 - val_loss: 1.2787e-04 - val_accuracy: 0.0000e+00\n",
            "Epoch 19/1000\n",
            "18/18 [==============================] - 0s 5ms/step - loss: 2.4768e-04 - accuracy: 0.0013 - val_loss: 1.2839e-04 - val_accuracy: 0.0000e+00\n",
            "Epoch 20/1000\n",
            "18/18 [==============================] - 0s 4ms/step - loss: 2.4506e-04 - accuracy: 0.0013 - val_loss: 1.2777e-04 - val_accuracy: 0.0000e+00\n",
            "Epoch 21/1000\n",
            "18/18 [==============================] - 0s 4ms/step - loss: 2.4275e-04 - accuracy: 0.0013 - val_loss: 1.4583e-04 - val_accuracy: 0.0000e+00\n",
            "Epoch 22/1000\n",
            "18/18 [==============================] - 0s 4ms/step - loss: 2.4372e-04 - accuracy: 0.0013 - val_loss: 1.2864e-04 - val_accuracy: 0.0000e+00\n",
            "Epoch 23/1000\n",
            "18/18 [==============================] - 0s 5ms/step - loss: 2.4281e-04 - accuracy: 0.0013 - val_loss: 1.3083e-04 - val_accuracy: 0.0000e+00\n",
            "Epoch 24/1000\n",
            "18/18 [==============================] - 0s 4ms/step - loss: 2.4357e-04 - accuracy: 0.0013 - val_loss: 1.2977e-04 - val_accuracy: 0.0000e+00\n",
            "Epoch 25/1000\n",
            "18/18 [==============================] - 0s 4ms/step - loss: 2.4633e-04 - accuracy: 0.0013 - val_loss: 1.3076e-04 - val_accuracy: 0.0000e+00\n",
            "Epoch 26/1000\n",
            "18/18 [==============================] - 0s 4ms/step - loss: 2.4597e-04 - accuracy: 0.0013 - val_loss: 1.3483e-04 - val_accuracy: 0.0000e+00\n",
            "Epoch 27/1000\n",
            "18/18 [==============================] - 0s 5ms/step - loss: 2.4243e-04 - accuracy: 0.0013 - val_loss: 1.2671e-04 - val_accuracy: 0.0000e+00\n",
            "Epoch 28/1000\n",
            "18/18 [==============================] - 0s 6ms/step - loss: 2.4303e-04 - accuracy: 0.0013 - val_loss: 1.2728e-04 - val_accuracy: 0.0000e+00\n",
            "Epoch 29/1000\n",
            "18/18 [==============================] - 0s 5ms/step - loss: 2.4188e-04 - accuracy: 0.0013 - val_loss: 1.2714e-04 - val_accuracy: 0.0000e+00\n",
            "Epoch 30/1000\n",
            "18/18 [==============================] - 0s 5ms/step - loss: 2.4541e-04 - accuracy: 0.0013 - val_loss: 1.5312e-04 - val_accuracy: 0.0000e+00\n",
            "Epoch 31/1000\n",
            "18/18 [==============================] - 0s 4ms/step - loss: 2.4893e-04 - accuracy: 0.0013 - val_loss: 1.2683e-04 - val_accuracy: 0.0000e+00\n",
            "Epoch 32/1000\n",
            "18/18 [==============================] - 0s 4ms/step - loss: 2.4417e-04 - accuracy: 0.0013 - val_loss: 1.2654e-04 - val_accuracy: 0.0000e+00\n",
            "Epoch 33/1000\n",
            "18/18 [==============================] - 0s 4ms/step - loss: 2.3983e-04 - accuracy: 0.0013 - val_loss: 1.4273e-04 - val_accuracy: 0.0000e+00\n",
            "Epoch 34/1000\n",
            "18/18 [==============================] - 0s 4ms/step - loss: 2.3971e-04 - accuracy: 0.0013 - val_loss: 1.2566e-04 - val_accuracy: 0.0000e+00\n",
            "Epoch 35/1000\n",
            "18/18 [==============================] - 0s 4ms/step - loss: 2.3803e-04 - accuracy: 0.0013 - val_loss: 1.2598e-04 - val_accuracy: 0.0000e+00\n",
            "Epoch 36/1000\n",
            "18/18 [==============================] - 0s 4ms/step - loss: 2.4012e-04 - accuracy: 0.0013 - val_loss: 1.3171e-04 - val_accuracy: 0.0000e+00\n",
            "Epoch 37/1000\n",
            "18/18 [==============================] - 0s 5ms/step - loss: 2.4104e-04 - accuracy: 0.0013 - val_loss: 1.2542e-04 - val_accuracy: 0.0000e+00\n",
            "Epoch 38/1000\n",
            "18/18 [==============================] - 0s 4ms/step - loss: 2.3893e-04 - accuracy: 0.0013 - val_loss: 1.2559e-04 - val_accuracy: 0.0000e+00\n",
            "Epoch 39/1000\n",
            "18/18 [==============================] - 0s 4ms/step - loss: 2.3667e-04 - accuracy: 0.0013 - val_loss: 1.2804e-04 - val_accuracy: 0.0000e+00\n",
            "Epoch 40/1000\n",
            "18/18 [==============================] - 0s 4ms/step - loss: 2.4014e-04 - accuracy: 0.0013 - val_loss: 1.2522e-04 - val_accuracy: 0.0000e+00\n",
            "Epoch 41/1000\n",
            "18/18 [==============================] - 0s 4ms/step - loss: 2.3899e-04 - accuracy: 0.0013 - val_loss: 1.2764e-04 - val_accuracy: 0.0000e+00\n",
            "Epoch 42/1000\n",
            "18/18 [==============================] - 0s 4ms/step - loss: 2.4077e-04 - accuracy: 0.0013 - val_loss: 1.3313e-04 - val_accuracy: 0.0000e+00\n",
            "Epoch 43/1000\n",
            "18/18 [==============================] - 0s 4ms/step - loss: 2.4410e-04 - accuracy: 0.0013 - val_loss: 1.2488e-04 - val_accuracy: 0.0000e+00\n",
            "Epoch 44/1000\n",
            "18/18 [==============================] - 0s 4ms/step - loss: 2.3557e-04 - accuracy: 0.0013 - val_loss: 1.3227e-04 - val_accuracy: 0.0000e+00\n",
            "Epoch 45/1000\n",
            "18/18 [==============================] - 0s 4ms/step - loss: 2.3499e-04 - accuracy: 0.0013 - val_loss: 1.3998e-04 - val_accuracy: 0.0000e+00\n",
            "Epoch 46/1000\n",
            "18/18 [==============================] - 0s 4ms/step - loss: 2.3928e-04 - accuracy: 0.0013 - val_loss: 1.2566e-04 - val_accuracy: 0.0000e+00\n",
            "Epoch 47/1000\n",
            "18/18 [==============================] - 0s 3ms/step - loss: 2.3706e-04 - accuracy: 0.0013 - val_loss: 1.3657e-04 - val_accuracy: 0.0000e+00\n",
            "Epoch 48/1000\n",
            "18/18 [==============================] - 0s 5ms/step - loss: 2.3941e-04 - accuracy: 0.0013 - val_loss: 1.4650e-04 - val_accuracy: 0.0000e+00\n",
            "Epoch 49/1000\n",
            "18/18 [==============================] - 0s 4ms/step - loss: 2.3661e-04 - accuracy: 0.0013 - val_loss: 1.2435e-04 - val_accuracy: 0.0000e+00\n",
            "Epoch 50/1000\n",
            "18/18 [==============================] - 0s 4ms/step - loss: 2.3623e-04 - accuracy: 0.0013 - val_loss: 1.3096e-04 - val_accuracy: 0.0000e+00\n",
            "Epoch 51/1000\n",
            "18/18 [==============================] - 0s 5ms/step - loss: 2.3490e-04 - accuracy: 0.0013 - val_loss: 1.2559e-04 - val_accuracy: 0.0000e+00\n",
            "Epoch 52/1000\n",
            "18/18 [==============================] - 0s 4ms/step - loss: 2.3531e-04 - accuracy: 0.0013 - val_loss: 1.2808e-04 - val_accuracy: 0.0000e+00\n",
            "Epoch 53/1000\n",
            "18/18 [==============================] - 0s 4ms/step - loss: 2.4447e-04 - accuracy: 0.0013 - val_loss: 1.2600e-04 - val_accuracy: 0.0000e+00\n",
            "Epoch 54/1000\n",
            "18/18 [==============================] - 0s 5ms/step - loss: 2.4012e-04 - accuracy: 0.0013 - val_loss: 1.2555e-04 - val_accuracy: 0.0000e+00\n",
            "Epoch 55/1000\n",
            "18/18 [==============================] - 0s 5ms/step - loss: 2.3851e-04 - accuracy: 0.0013 - val_loss: 1.2299e-04 - val_accuracy: 0.0000e+00\n",
            "Epoch 56/1000\n",
            "18/18 [==============================] - 0s 4ms/step - loss: 2.3481e-04 - accuracy: 0.0013 - val_loss: 1.2742e-04 - val_accuracy: 0.0000e+00\n",
            "Epoch 57/1000\n",
            "18/18 [==============================] - 0s 5ms/step - loss: 2.3861e-04 - accuracy: 0.0013 - val_loss: 1.2523e-04 - val_accuracy: 0.0000e+00\n",
            "Epoch 58/1000\n",
            "18/18 [==============================] - 0s 4ms/step - loss: 2.3724e-04 - accuracy: 0.0013 - val_loss: 1.5085e-04 - val_accuracy: 0.0000e+00\n",
            "Epoch 59/1000\n",
            "18/18 [==============================] - 0s 4ms/step - loss: 2.3568e-04 - accuracy: 0.0013 - val_loss: 1.6403e-04 - val_accuracy: 0.0000e+00\n",
            "Epoch 60/1000\n",
            "18/18 [==============================] - 0s 4ms/step - loss: 2.3803e-04 - accuracy: 0.0013 - val_loss: 1.3746e-04 - val_accuracy: 0.0000e+00\n",
            "Epoch 61/1000\n",
            "18/18 [==============================] - 0s 4ms/step - loss: 2.3355e-04 - accuracy: 0.0013 - val_loss: 1.3837e-04 - val_accuracy: 0.0000e+00\n",
            "Epoch 62/1000\n",
            "18/18 [==============================] - 0s 4ms/step - loss: 2.3703e-04 - accuracy: 0.0013 - val_loss: 1.2839e-04 - val_accuracy: 0.0000e+00\n",
            "Epoch 63/1000\n",
            "18/18 [==============================] - 0s 5ms/step - loss: 2.3375e-04 - accuracy: 0.0013 - val_loss: 1.2279e-04 - val_accuracy: 0.0000e+00\n",
            "Epoch 64/1000\n",
            "18/18 [==============================] - 0s 5ms/step - loss: 2.3319e-04 - accuracy: 0.0013 - val_loss: 1.3439e-04 - val_accuracy: 0.0000e+00\n",
            "Epoch 65/1000\n",
            "18/18 [==============================] - 0s 4ms/step - loss: 2.3118e-04 - accuracy: 0.0013 - val_loss: 1.2128e-04 - val_accuracy: 0.0000e+00\n",
            "Epoch 66/1000\n",
            "18/18 [==============================] - 0s 4ms/step - loss: 2.3190e-04 - accuracy: 0.0013 - val_loss: 1.2752e-04 - val_accuracy: 0.0000e+00\n",
            "Epoch 67/1000\n",
            "18/18 [==============================] - 0s 4ms/step - loss: 2.2901e-04 - accuracy: 0.0013 - val_loss: 1.2113e-04 - val_accuracy: 0.0000e+00\n",
            "Epoch 68/1000\n",
            "18/18 [==============================] - 0s 4ms/step - loss: 2.2931e-04 - accuracy: 0.0013 - val_loss: 1.2662e-04 - val_accuracy: 0.0000e+00\n",
            "Epoch 69/1000\n",
            "18/18 [==============================] - 0s 4ms/step - loss: 2.3759e-04 - accuracy: 0.0013 - val_loss: 1.2115e-04 - val_accuracy: 0.0000e+00\n",
            "Epoch 70/1000\n",
            "18/18 [==============================] - 0s 4ms/step - loss: 2.3145e-04 - accuracy: 0.0013 - val_loss: 1.5537e-04 - val_accuracy: 0.0000e+00\n",
            "Epoch 71/1000\n",
            "18/18 [==============================] - 0s 4ms/step - loss: 2.3896e-04 - accuracy: 0.0013 - val_loss: 1.6845e-04 - val_accuracy: 0.0000e+00\n",
            "Epoch 72/1000\n",
            "18/18 [==============================] - 0s 3ms/step - loss: 2.3660e-04 - accuracy: 0.0013 - val_loss: 1.8543e-04 - val_accuracy: 0.0000e+00\n",
            "Epoch 73/1000\n",
            "18/18 [==============================] - 0s 4ms/step - loss: 2.4803e-04 - accuracy: 0.0013 - val_loss: 1.4784e-04 - val_accuracy: 0.0000e+00\n",
            "Epoch 74/1000\n",
            "18/18 [==============================] - 0s 4ms/step - loss: 2.3183e-04 - accuracy: 0.0013 - val_loss: 1.2181e-04 - val_accuracy: 0.0000e+00\n",
            "Epoch 75/1000\n",
            "18/18 [==============================] - 0s 5ms/step - loss: 2.2952e-04 - accuracy: 0.0013 - val_loss: 1.2564e-04 - val_accuracy: 0.0000e+00\n",
            "Epoch 76/1000\n",
            "18/18 [==============================] - 0s 5ms/step - loss: 2.3114e-04 - accuracy: 0.0013 - val_loss: 1.2178e-04 - val_accuracy: 0.0000e+00\n",
            "Epoch 77/1000\n",
            "18/18 [==============================] - 0s 4ms/step - loss: 2.2780e-04 - accuracy: 0.0013 - val_loss: 1.2829e-04 - val_accuracy: 0.0000e+00\n",
            "Epoch 78/1000\n",
            "18/18 [==============================] - 0s 5ms/step - loss: 2.2758e-04 - accuracy: 0.0013 - val_loss: 1.2850e-04 - val_accuracy: 0.0000e+00\n",
            "Epoch 79/1000\n",
            "18/18 [==============================] - 0s 4ms/step - loss: 2.3199e-04 - accuracy: 0.0013 - val_loss: 1.3837e-04 - val_accuracy: 0.0000e+00\n",
            "Epoch 80/1000\n",
            "18/18 [==============================] - 0s 4ms/step - loss: 2.3878e-04 - accuracy: 0.0013 - val_loss: 1.8592e-04 - val_accuracy: 0.0000e+00\n",
            "Epoch 81/1000\n",
            "18/18 [==============================] - 0s 4ms/step - loss: 2.3762e-04 - accuracy: 0.0013 - val_loss: 1.6989e-04 - val_accuracy: 0.0000e+00\n",
            "Epoch 82/1000\n",
            "18/18 [==============================] - 0s 5ms/step - loss: 2.3087e-04 - accuracy: 0.0013 - val_loss: 1.3170e-04 - val_accuracy: 0.0000e+00\n",
            "Epoch 83/1000\n",
            "18/18 [==============================] - 0s 4ms/step - loss: 2.2995e-04 - accuracy: 0.0013 - val_loss: 1.2035e-04 - val_accuracy: 0.0000e+00\n",
            "Epoch 84/1000\n",
            "18/18 [==============================] - 0s 4ms/step - loss: 2.4017e-04 - accuracy: 0.0013 - val_loss: 1.2591e-04 - val_accuracy: 0.0000e+00\n",
            "Epoch 85/1000\n",
            "18/18 [==============================] - 0s 4ms/step - loss: 2.3144e-04 - accuracy: 0.0013 - val_loss: 1.2067e-04 - val_accuracy: 0.0000e+00\n",
            "Epoch 86/1000\n",
            "18/18 [==============================] - 0s 5ms/step - loss: 2.2856e-04 - accuracy: 0.0013 - val_loss: 1.3630e-04 - val_accuracy: 0.0000e+00\n",
            "Epoch 87/1000\n",
            "18/18 [==============================] - 0s 4ms/step - loss: 2.2847e-04 - accuracy: 0.0013 - val_loss: 1.5386e-04 - val_accuracy: 0.0000e+00\n",
            "Epoch 88/1000\n",
            "18/18 [==============================] - 0s 4ms/step - loss: 2.3722e-04 - accuracy: 0.0013 - val_loss: 1.4602e-04 - val_accuracy: 0.0000e+00\n",
            "Epoch 89/1000\n",
            "18/18 [==============================] - 0s 6ms/step - loss: 2.3152e-04 - accuracy: 0.0013 - val_loss: 1.2837e-04 - val_accuracy: 0.0000e+00\n",
            "Epoch 90/1000\n",
            "18/18 [==============================] - 0s 5ms/step - loss: 2.2430e-04 - accuracy: 0.0013 - val_loss: 1.3722e-04 - val_accuracy: 0.0000e+00\n",
            "Epoch 91/1000\n",
            "18/18 [==============================] - 0s 4ms/step - loss: 2.2645e-04 - accuracy: 0.0013 - val_loss: 1.2137e-04 - val_accuracy: 0.0000e+00\n",
            "Epoch 92/1000\n",
            "18/18 [==============================] - 0s 4ms/step - loss: 2.2689e-04 - accuracy: 0.0013 - val_loss: 1.5077e-04 - val_accuracy: 0.0000e+00\n",
            "Epoch 93/1000\n",
            "18/18 [==============================] - 0s 4ms/step - loss: 2.3402e-04 - accuracy: 0.0013 - val_loss: 1.6138e-04 - val_accuracy: 0.0000e+00\n",
            "Epoch 94/1000\n",
            "18/18 [==============================] - 0s 4ms/step - loss: 2.3157e-04 - accuracy: 0.0013 - val_loss: 1.2148e-04 - val_accuracy: 0.0000e+00\n",
            "Epoch 95/1000\n",
            "18/18 [==============================] - 0s 5ms/step - loss: 2.2545e-04 - accuracy: 0.0013 - val_loss: 1.7718e-04 - val_accuracy: 0.0000e+00\n",
            "Epoch 96/1000\n",
            "18/18 [==============================] - 0s 5ms/step - loss: 2.3230e-04 - accuracy: 0.0013 - val_loss: 1.2506e-04 - val_accuracy: 0.0000e+00\n",
            "Epoch 97/1000\n",
            "18/18 [==============================] - 0s 4ms/step - loss: 2.2304e-04 - accuracy: 0.0013 - val_loss: 1.1815e-04 - val_accuracy: 0.0000e+00\n",
            "Epoch 98/1000\n",
            "18/18 [==============================] - 0s 5ms/step - loss: 2.2783e-04 - accuracy: 0.0013 - val_loss: 1.1810e-04 - val_accuracy: 0.0000e+00\n",
            "Epoch 99/1000\n",
            "18/18 [==============================] - 0s 5ms/step - loss: 2.2699e-04 - accuracy: 0.0013 - val_loss: 1.1729e-04 - val_accuracy: 0.0000e+00\n",
            "Epoch 100/1000\n",
            "18/18 [==============================] - 0s 4ms/step - loss: 2.2094e-04 - accuracy: 0.0013 - val_loss: 1.2706e-04 - val_accuracy: 0.0000e+00\n",
            "Epoch 101/1000\n",
            "18/18 [==============================] - 0s 4ms/step - loss: 2.2409e-04 - accuracy: 0.0013 - val_loss: 1.1799e-04 - val_accuracy: 0.0000e+00\n",
            "Epoch 102/1000\n",
            "18/18 [==============================] - 0s 5ms/step - loss: 2.2630e-04 - accuracy: 0.0013 - val_loss: 1.3054e-04 - val_accuracy: 0.0000e+00\n",
            "Epoch 103/1000\n",
            "18/18 [==============================] - 0s 3ms/step - loss: 2.3252e-04 - accuracy: 0.0013 - val_loss: 1.2505e-04 - val_accuracy: 0.0000e+00\n",
            "Epoch 104/1000\n",
            "18/18 [==============================] - 0s 4ms/step - loss: 2.2212e-04 - accuracy: 0.0013 - val_loss: 1.1810e-04 - val_accuracy: 0.0000e+00\n",
            "Epoch 105/1000\n",
            "18/18 [==============================] - 0s 4ms/step - loss: 2.2334e-04 - accuracy: 0.0013 - val_loss: 1.3142e-04 - val_accuracy: 0.0000e+00\n",
            "Epoch 106/1000\n",
            "18/18 [==============================] - 0s 4ms/step - loss: 2.3350e-04 - accuracy: 0.0013 - val_loss: 1.1846e-04 - val_accuracy: 0.0000e+00\n",
            "Epoch 107/1000\n",
            "18/18 [==============================] - 0s 5ms/step - loss: 2.2508e-04 - accuracy: 0.0013 - val_loss: 1.4257e-04 - val_accuracy: 0.0000e+00\n",
            "Epoch 108/1000\n",
            "18/18 [==============================] - 0s 4ms/step - loss: 2.2149e-04 - accuracy: 0.0013 - val_loss: 1.2885e-04 - val_accuracy: 0.0000e+00\n",
            "Epoch 109/1000\n",
            "18/18 [==============================] - 0s 5ms/step - loss: 2.2508e-04 - accuracy: 0.0013 - val_loss: 1.8175e-04 - val_accuracy: 0.0000e+00\n",
            "Epoch 110/1000\n",
            "18/18 [==============================] - 0s 4ms/step - loss: 2.5052e-04 - accuracy: 0.0013 - val_loss: 1.2542e-04 - val_accuracy: 0.0000e+00\n",
            "Epoch 111/1000\n",
            "18/18 [==============================] - 0s 5ms/step - loss: 2.3069e-04 - accuracy: 0.0013 - val_loss: 1.1862e-04 - val_accuracy: 0.0000e+00\n",
            "Epoch 112/1000\n",
            "18/18 [==============================] - 0s 4ms/step - loss: 2.2182e-04 - accuracy: 0.0013 - val_loss: 1.1880e-04 - val_accuracy: 0.0000e+00\n",
            "Epoch 113/1000\n",
            "18/18 [==============================] - 0s 5ms/step - loss: 2.2109e-04 - accuracy: 0.0013 - val_loss: 1.5181e-04 - val_accuracy: 0.0000e+00\n",
            "Epoch 114/1000\n",
            "18/18 [==============================] - 0s 4ms/step - loss: 2.2228e-04 - accuracy: 0.0013 - val_loss: 1.3351e-04 - val_accuracy: 0.0000e+00\n",
            "Epoch 115/1000\n",
            "18/18 [==============================] - 0s 4ms/step - loss: 2.3047e-04 - accuracy: 0.0013 - val_loss: 1.9237e-04 - val_accuracy: 0.0000e+00\n",
            "Epoch 116/1000\n",
            "18/18 [==============================] - 0s 6ms/step - loss: 2.2717e-04 - accuracy: 0.0013 - val_loss: 1.1704e-04 - val_accuracy: 0.0000e+00\n",
            "Epoch 117/1000\n",
            "18/18 [==============================] - 0s 5ms/step - loss: 2.1984e-04 - accuracy: 0.0013 - val_loss: 1.2949e-04 - val_accuracy: 0.0000e+00\n",
            "Epoch 118/1000\n",
            "18/18 [==============================] - 0s 5ms/step - loss: 2.2132e-04 - accuracy: 0.0013 - val_loss: 1.1685e-04 - val_accuracy: 0.0000e+00\n",
            "Epoch 119/1000\n",
            "18/18 [==============================] - 0s 5ms/step - loss: 2.1883e-04 - accuracy: 0.0013 - val_loss: 1.1585e-04 - val_accuracy: 0.0000e+00\n",
            "Epoch 120/1000\n",
            "18/18 [==============================] - 0s 4ms/step - loss: 2.1890e-04 - accuracy: 0.0013 - val_loss: 1.1791e-04 - val_accuracy: 0.0000e+00\n",
            "Epoch 121/1000\n",
            "18/18 [==============================] - 0s 4ms/step - loss: 2.1791e-04 - accuracy: 0.0013 - val_loss: 1.2719e-04 - val_accuracy: 0.0000e+00\n",
            "Epoch 122/1000\n",
            "18/18 [==============================] - 0s 4ms/step - loss: 2.2490e-04 - accuracy: 0.0013 - val_loss: 1.1610e-04 - val_accuracy: 0.0000e+00\n",
            "Epoch 123/1000\n",
            "18/18 [==============================] - 0s 4ms/step - loss: 2.2021e-04 - accuracy: 0.0013 - val_loss: 1.1532e-04 - val_accuracy: 0.0000e+00\n",
            "Epoch 124/1000\n",
            "18/18 [==============================] - 0s 4ms/step - loss: 2.1905e-04 - accuracy: 0.0013 - val_loss: 1.1516e-04 - val_accuracy: 0.0000e+00\n",
            "Epoch 125/1000\n",
            "18/18 [==============================] - 0s 4ms/step - loss: 2.2266e-04 - accuracy: 0.0013 - val_loss: 1.3951e-04 - val_accuracy: 0.0000e+00\n",
            "Epoch 126/1000\n",
            "18/18 [==============================] - 0s 4ms/step - loss: 2.1879e-04 - accuracy: 0.0013 - val_loss: 1.1558e-04 - val_accuracy: 0.0000e+00\n",
            "Epoch 127/1000\n",
            "18/18 [==============================] - 0s 3ms/step - loss: 2.1820e-04 - accuracy: 0.0013 - val_loss: 1.1481e-04 - val_accuracy: 0.0000e+00\n",
            "Epoch 128/1000\n",
            "18/18 [==============================] - 0s 4ms/step - loss: 2.1847e-04 - accuracy: 0.0013 - val_loss: 1.1450e-04 - val_accuracy: 0.0000e+00\n",
            "Epoch 129/1000\n",
            "18/18 [==============================] - 0s 4ms/step - loss: 2.2239e-04 - accuracy: 0.0013 - val_loss: 1.1707e-04 - val_accuracy: 0.0000e+00\n",
            "Epoch 130/1000\n",
            "18/18 [==============================] - 0s 4ms/step - loss: 2.2468e-04 - accuracy: 0.0013 - val_loss: 1.2110e-04 - val_accuracy: 0.0000e+00\n",
            "Epoch 131/1000\n",
            "18/18 [==============================] - 0s 4ms/step - loss: 2.1716e-04 - accuracy: 0.0013 - val_loss: 1.2430e-04 - val_accuracy: 0.0000e+00\n",
            "Epoch 132/1000\n",
            "18/18 [==============================] - 0s 4ms/step - loss: 2.2032e-04 - accuracy: 0.0013 - val_loss: 1.1615e-04 - val_accuracy: 0.0000e+00\n",
            "Epoch 133/1000\n",
            "18/18 [==============================] - 0s 4ms/step - loss: 2.1572e-04 - accuracy: 0.0013 - val_loss: 1.2436e-04 - val_accuracy: 0.0000e+00\n",
            "Epoch 134/1000\n",
            "18/18 [==============================] - 0s 4ms/step - loss: 2.2086e-04 - accuracy: 0.0013 - val_loss: 1.3999e-04 - val_accuracy: 0.0000e+00\n",
            "Epoch 135/1000\n",
            "18/18 [==============================] - 0s 4ms/step - loss: 2.1984e-04 - accuracy: 0.0013 - val_loss: 1.1857e-04 - val_accuracy: 0.0000e+00\n",
            "Epoch 136/1000\n",
            "18/18 [==============================] - 0s 4ms/step - loss: 2.1380e-04 - accuracy: 0.0013 - val_loss: 1.2131e-04 - val_accuracy: 0.0000e+00\n",
            "Epoch 137/1000\n",
            "18/18 [==============================] - 0s 4ms/step - loss: 2.1875e-04 - accuracy: 0.0013 - val_loss: 1.1634e-04 - val_accuracy: 0.0000e+00\n",
            "Epoch 138/1000\n",
            "18/18 [==============================] - 0s 5ms/step - loss: 2.1679e-04 - accuracy: 0.0013 - val_loss: 1.1624e-04 - val_accuracy: 0.0000e+00\n",
            "Epoch 139/1000\n",
            "18/18 [==============================] - 0s 5ms/step - loss: 2.2453e-04 - accuracy: 0.0013 - val_loss: 1.3130e-04 - val_accuracy: 0.0000e+00\n",
            "Epoch 140/1000\n",
            "18/18 [==============================] - 0s 4ms/step - loss: 2.3077e-04 - accuracy: 0.0013 - val_loss: 1.2211e-04 - val_accuracy: 0.0000e+00\n",
            "Epoch 141/1000\n",
            "18/18 [==============================] - 0s 4ms/step - loss: 2.1915e-04 - accuracy: 0.0013 - val_loss: 1.1545e-04 - val_accuracy: 0.0000e+00\n",
            "Epoch 142/1000\n",
            "18/18 [==============================] - 0s 4ms/step - loss: 2.2099e-04 - accuracy: 0.0013 - val_loss: 1.2151e-04 - val_accuracy: 0.0000e+00\n",
            "Epoch 143/1000\n",
            "18/18 [==============================] - 0s 4ms/step - loss: 2.1945e-04 - accuracy: 0.0013 - val_loss: 1.3088e-04 - val_accuracy: 0.0000e+00\n",
            "Epoch 144/1000\n",
            "18/18 [==============================] - 0s 4ms/step - loss: 2.1605e-04 - accuracy: 0.0013 - val_loss: 1.1574e-04 - val_accuracy: 0.0000e+00\n",
            "Epoch 145/1000\n",
            "18/18 [==============================] - 0s 4ms/step - loss: 2.2087e-04 - accuracy: 0.0013 - val_loss: 1.1408e-04 - val_accuracy: 0.0000e+00\n",
            "Epoch 146/1000\n",
            "18/18 [==============================] - 0s 4ms/step - loss: 2.1527e-04 - accuracy: 0.0013 - val_loss: 1.1377e-04 - val_accuracy: 0.0000e+00\n",
            "Epoch 147/1000\n",
            "18/18 [==============================] - 0s 5ms/step - loss: 2.1281e-04 - accuracy: 0.0013 - val_loss: 1.2135e-04 - val_accuracy: 0.0000e+00\n",
            "Epoch 148/1000\n",
            "18/18 [==============================] - 0s 5ms/step - loss: 2.2015e-04 - accuracy: 0.0013 - val_loss: 1.1342e-04 - val_accuracy: 0.0000e+00\n",
            "Epoch 149/1000\n",
            "18/18 [==============================] - 0s 3ms/step - loss: 2.2197e-04 - accuracy: 0.0013 - val_loss: 1.4986e-04 - val_accuracy: 0.0000e+00\n",
            "Epoch 150/1000\n",
            "18/18 [==============================] - 0s 4ms/step - loss: 2.2832e-04 - accuracy: 0.0013 - val_loss: 1.1354e-04 - val_accuracy: 0.0000e+00\n",
            "Epoch 151/1000\n",
            "18/18 [==============================] - 0s 4ms/step - loss: 2.2020e-04 - accuracy: 0.0013 - val_loss: 1.3474e-04 - val_accuracy: 0.0000e+00\n",
            "Epoch 152/1000\n",
            "18/18 [==============================] - 0s 4ms/step - loss: 2.1455e-04 - accuracy: 0.0013 - val_loss: 1.3202e-04 - val_accuracy: 0.0000e+00\n",
            "Epoch 153/1000\n",
            "18/18 [==============================] - 0s 4ms/step - loss: 2.2368e-04 - accuracy: 0.0013 - val_loss: 1.3872e-04 - val_accuracy: 0.0000e+00\n",
            "Epoch 154/1000\n",
            "18/18 [==============================] - 0s 4ms/step - loss: 2.1750e-04 - accuracy: 0.0013 - val_loss: 1.1461e-04 - val_accuracy: 0.0000e+00\n",
            "Epoch 155/1000\n",
            "18/18 [==============================] - 0s 4ms/step - loss: 2.1301e-04 - accuracy: 0.0013 - val_loss: 1.2652e-04 - val_accuracy: 0.0000e+00\n",
            "Epoch 156/1000\n",
            "18/18 [==============================] - 0s 4ms/step - loss: 2.1886e-04 - accuracy: 0.0013 - val_loss: 1.1471e-04 - val_accuracy: 0.0000e+00\n",
            "Epoch 157/1000\n",
            "18/18 [==============================] - 0s 5ms/step - loss: 2.1452e-04 - accuracy: 0.0013 - val_loss: 1.1470e-04 - val_accuracy: 0.0000e+00\n",
            "Epoch 158/1000\n",
            "18/18 [==============================] - 0s 4ms/step - loss: 2.1796e-04 - accuracy: 0.0013 - val_loss: 1.1842e-04 - val_accuracy: 0.0000e+00\n",
            "Epoch 159/1000\n",
            "18/18 [==============================] - 0s 5ms/step - loss: 2.1663e-04 - accuracy: 0.0013 - val_loss: 1.1278e-04 - val_accuracy: 0.0000e+00\n",
            "Epoch 160/1000\n",
            "18/18 [==============================] - 0s 4ms/step - loss: 2.2960e-04 - accuracy: 0.0013 - val_loss: 1.1263e-04 - val_accuracy: 0.0000e+00\n",
            "Epoch 161/1000\n",
            "18/18 [==============================] - 0s 5ms/step - loss: 2.2142e-04 - accuracy: 0.0013 - val_loss: 1.3654e-04 - val_accuracy: 0.0000e+00\n",
            "Epoch 162/1000\n",
            "18/18 [==============================] - 0s 4ms/step - loss: 2.3837e-04 - accuracy: 0.0013 - val_loss: 1.4236e-04 - val_accuracy: 0.0000e+00\n",
            "Epoch 163/1000\n",
            "18/18 [==============================] - 0s 4ms/step - loss: 2.1286e-04 - accuracy: 0.0013 - val_loss: 1.1376e-04 - val_accuracy: 0.0000e+00\n",
            "Epoch 164/1000\n",
            "18/18 [==============================] - 0s 4ms/step - loss: 2.1621e-04 - accuracy: 0.0013 - val_loss: 1.1980e-04 - val_accuracy: 0.0000e+00\n",
            "Epoch 165/1000\n",
            "18/18 [==============================] - 0s 4ms/step - loss: 2.1318e-04 - accuracy: 0.0013 - val_loss: 1.1473e-04 - val_accuracy: 0.0000e+00\n",
            "Epoch 166/1000\n",
            "18/18 [==============================] - 0s 5ms/step - loss: 2.1592e-04 - accuracy: 0.0013 - val_loss: 1.1543e-04 - val_accuracy: 0.0000e+00\n",
            "Epoch 167/1000\n",
            "18/18 [==============================] - 0s 4ms/step - loss: 2.2121e-04 - accuracy: 0.0013 - val_loss: 1.1649e-04 - val_accuracy: 0.0000e+00\n",
            "Epoch 168/1000\n",
            "18/18 [==============================] - 0s 4ms/step - loss: 2.1539e-04 - accuracy: 0.0013 - val_loss: 1.1218e-04 - val_accuracy: 0.0000e+00\n",
            "Epoch 169/1000\n",
            "18/18 [==============================] - 0s 4ms/step - loss: 2.1756e-04 - accuracy: 0.0013 - val_loss: 1.2971e-04 - val_accuracy: 0.0000e+00\n",
            "Epoch 170/1000\n",
            "18/18 [==============================] - 0s 4ms/step - loss: 2.1678e-04 - accuracy: 0.0013 - val_loss: 1.2614e-04 - val_accuracy: 0.0000e+00\n",
            "Epoch 171/1000\n",
            "18/18 [==============================] - 0s 4ms/step - loss: 2.1379e-04 - accuracy: 0.0013 - val_loss: 1.1756e-04 - val_accuracy: 0.0000e+00\n",
            "Epoch 172/1000\n",
            "18/18 [==============================] - 0s 4ms/step - loss: 2.2302e-04 - accuracy: 0.0013 - val_loss: 1.1846e-04 - val_accuracy: 0.0000e+00\n",
            "Epoch 173/1000\n",
            "18/18 [==============================] - 0s 4ms/step - loss: 2.2340e-04 - accuracy: 0.0013 - val_loss: 1.1179e-04 - val_accuracy: 0.0000e+00\n",
            "Epoch 174/1000\n",
            "18/18 [==============================] - 0s 5ms/step - loss: 2.4086e-04 - accuracy: 0.0013 - val_loss: 1.1312e-04 - val_accuracy: 0.0000e+00\n",
            "Epoch 175/1000\n",
            "18/18 [==============================] - 0s 4ms/step - loss: 2.2931e-04 - accuracy: 0.0013 - val_loss: 1.1580e-04 - val_accuracy: 0.0000e+00\n",
            "Epoch 176/1000\n",
            "18/18 [==============================] - 0s 5ms/step - loss: 2.1264e-04 - accuracy: 0.0013 - val_loss: 1.2373e-04 - val_accuracy: 0.0000e+00\n",
            "Epoch 177/1000\n",
            "18/18 [==============================] - 0s 4ms/step - loss: 2.1151e-04 - accuracy: 0.0013 - val_loss: 1.1517e-04 - val_accuracy: 0.0000e+00\n",
            "Epoch 178/1000\n",
            "18/18 [==============================] - 0s 4ms/step - loss: 2.2486e-04 - accuracy: 0.0013 - val_loss: 1.1693e-04 - val_accuracy: 0.0000e+00\n",
            "Epoch 179/1000\n",
            "18/18 [==============================] - 0s 4ms/step - loss: 2.1723e-04 - accuracy: 0.0013 - val_loss: 1.1204e-04 - val_accuracy: 0.0000e+00\n",
            "Epoch 180/1000\n",
            "18/18 [==============================] - 0s 4ms/step - loss: 2.1473e-04 - accuracy: 0.0013 - val_loss: 1.2365e-04 - val_accuracy: 0.0000e+00\n",
            "Epoch 181/1000\n",
            "18/18 [==============================] - 0s 4ms/step - loss: 2.1389e-04 - accuracy: 0.0013 - val_loss: 1.5572e-04 - val_accuracy: 0.0000e+00\n",
            "Epoch 182/1000\n",
            "18/18 [==============================] - 0s 4ms/step - loss: 2.2595e-04 - accuracy: 0.0013 - val_loss: 1.2181e-04 - val_accuracy: 0.0000e+00\n",
            "Epoch 183/1000\n",
            "18/18 [==============================] - 0s 4ms/step - loss: 2.2955e-04 - accuracy: 0.0013 - val_loss: 1.2689e-04 - val_accuracy: 0.0000e+00\n",
            "Epoch 184/1000\n",
            "18/18 [==============================] - 0s 6ms/step - loss: 2.1322e-04 - accuracy: 0.0013 - val_loss: 1.1454e-04 - val_accuracy: 0.0000e+00\n",
            "Epoch 185/1000\n",
            "18/18 [==============================] - 0s 4ms/step - loss: 2.1536e-04 - accuracy: 0.0013 - val_loss: 1.1463e-04 - val_accuracy: 0.0000e+00\n",
            "Epoch 186/1000\n",
            "18/18 [==============================] - 0s 5ms/step - loss: 2.0937e-04 - accuracy: 0.0013 - val_loss: 1.1180e-04 - val_accuracy: 0.0000e+00\n",
            "Epoch 187/1000\n",
            "18/18 [==============================] - 0s 4ms/step - loss: 2.1179e-04 - accuracy: 0.0013 - val_loss: 1.1890e-04 - val_accuracy: 0.0000e+00\n",
            "Epoch 188/1000\n",
            "18/18 [==============================] - 0s 4ms/step - loss: 2.1716e-04 - accuracy: 0.0013 - val_loss: 1.1207e-04 - val_accuracy: 0.0000e+00\n",
            "Epoch 189/1000\n",
            "18/18 [==============================] - 0s 4ms/step - loss: 2.1427e-04 - accuracy: 0.0013 - val_loss: 1.2540e-04 - val_accuracy: 0.0000e+00\n",
            "Epoch 190/1000\n",
            "18/18 [==============================] - 0s 4ms/step - loss: 2.3128e-04 - accuracy: 0.0013 - val_loss: 1.1601e-04 - val_accuracy: 0.0000e+00\n",
            "Epoch 191/1000\n",
            "18/18 [==============================] - 0s 4ms/step - loss: 2.0822e-04 - accuracy: 0.0013 - val_loss: 1.1600e-04 - val_accuracy: 0.0000e+00\n",
            "Epoch 192/1000\n",
            "18/18 [==============================] - 0s 5ms/step - loss: 2.1882e-04 - accuracy: 0.0013 - val_loss: 1.3047e-04 - val_accuracy: 0.0000e+00\n",
            "Epoch 193/1000\n",
            "18/18 [==============================] - 0s 4ms/step - loss: 2.1661e-04 - accuracy: 0.0013 - val_loss: 1.1265e-04 - val_accuracy: 0.0000e+00\n",
            "Epoch 194/1000\n",
            "18/18 [==============================] - 0s 5ms/step - loss: 2.0969e-04 - accuracy: 0.0013 - val_loss: 1.1085e-04 - val_accuracy: 0.0000e+00\n",
            "Epoch 195/1000\n",
            "18/18 [==============================] - 0s 5ms/step - loss: 2.1764e-04 - accuracy: 0.0013 - val_loss: 1.2133e-04 - val_accuracy: 0.0000e+00\n",
            "Epoch 196/1000\n",
            "18/18 [==============================] - 0s 4ms/step - loss: 2.1133e-04 - accuracy: 0.0013 - val_loss: 1.1146e-04 - val_accuracy: 0.0000e+00\n",
            "Epoch 197/1000\n",
            "18/18 [==============================] - 0s 5ms/step - loss: 2.0865e-04 - accuracy: 0.0013 - val_loss: 1.2695e-04 - val_accuracy: 0.0000e+00\n",
            "Epoch 198/1000\n",
            "18/18 [==============================] - 0s 4ms/step - loss: 2.2700e-04 - accuracy: 0.0013 - val_loss: 1.2247e-04 - val_accuracy: 0.0000e+00\n",
            "Epoch 199/1000\n",
            "18/18 [==============================] - 0s 4ms/step - loss: 2.1610e-04 - accuracy: 0.0013 - val_loss: 1.1916e-04 - val_accuracy: 0.0000e+00\n",
            "Epoch 200/1000\n",
            "18/18 [==============================] - 0s 4ms/step - loss: 2.2065e-04 - accuracy: 0.0013 - val_loss: 1.1187e-04 - val_accuracy: 0.0000e+00\n",
            "Epoch 201/1000\n",
            "18/18 [==============================] - 0s 5ms/step - loss: 2.1494e-04 - accuracy: 0.0013 - val_loss: 1.3265e-04 - val_accuracy: 0.0000e+00\n",
            "Epoch 202/1000\n",
            "18/18 [==============================] - 0s 5ms/step - loss: 2.2265e-04 - accuracy: 0.0013 - val_loss: 1.2302e-04 - val_accuracy: 0.0000e+00\n",
            "Epoch 203/1000\n",
            "18/18 [==============================] - 0s 4ms/step - loss: 2.1270e-04 - accuracy: 0.0013 - val_loss: 1.1607e-04 - val_accuracy: 0.0000e+00\n",
            "Epoch 204/1000\n",
            "18/18 [==============================] - 0s 5ms/step - loss: 2.1037e-04 - accuracy: 0.0013 - val_loss: 1.1072e-04 - val_accuracy: 0.0000e+00\n",
            "Epoch 205/1000\n",
            "18/18 [==============================] - 0s 6ms/step - loss: 2.1290e-04 - accuracy: 0.0013 - val_loss: 1.1035e-04 - val_accuracy: 0.0000e+00\n",
            "Epoch 206/1000\n",
            "18/18 [==============================] - 0s 4ms/step - loss: 2.1107e-04 - accuracy: 0.0013 - val_loss: 1.1063e-04 - val_accuracy: 0.0000e+00\n",
            "Epoch 207/1000\n",
            "18/18 [==============================] - 0s 4ms/step - loss: 2.1283e-04 - accuracy: 0.0013 - val_loss: 1.1747e-04 - val_accuracy: 0.0000e+00\n",
            "Epoch 208/1000\n",
            "18/18 [==============================] - 0s 4ms/step - loss: 2.1341e-04 - accuracy: 0.0013 - val_loss: 1.1041e-04 - val_accuracy: 0.0000e+00\n",
            "Epoch 209/1000\n",
            "18/18 [==============================] - 0s 5ms/step - loss: 2.0721e-04 - accuracy: 0.0013 - val_loss: 1.1509e-04 - val_accuracy: 0.0000e+00\n",
            "Epoch 210/1000\n",
            "18/18 [==============================] - 0s 4ms/step - loss: 2.1176e-04 - accuracy: 0.0013 - val_loss: 1.2083e-04 - val_accuracy: 0.0000e+00\n",
            "Epoch 211/1000\n",
            "18/18 [==============================] - 0s 5ms/step - loss: 2.0808e-04 - accuracy: 0.0013 - val_loss: 1.1117e-04 - val_accuracy: 0.0000e+00\n",
            "Epoch 212/1000\n",
            "18/18 [==============================] - 0s 4ms/step - loss: 2.0857e-04 - accuracy: 0.0013 - val_loss: 1.3682e-04 - val_accuracy: 0.0000e+00\n",
            "Epoch 213/1000\n",
            "18/18 [==============================] - 0s 4ms/step - loss: 2.0845e-04 - accuracy: 0.0013 - val_loss: 1.3348e-04 - val_accuracy: 0.0000e+00\n",
            "Epoch 214/1000\n",
            "18/18 [==============================] - 0s 5ms/step - loss: 2.0858e-04 - accuracy: 0.0013 - val_loss: 1.1476e-04 - val_accuracy: 0.0000e+00\n",
            "Epoch 215/1000\n",
            "18/18 [==============================] - 0s 5ms/step - loss: 2.1357e-04 - accuracy: 0.0013 - val_loss: 1.1453e-04 - val_accuracy: 0.0000e+00\n",
            "Epoch 216/1000\n",
            "18/18 [==============================] - 0s 4ms/step - loss: 2.1671e-04 - accuracy: 0.0013 - val_loss: 1.1561e-04 - val_accuracy: 0.0000e+00\n",
            "Epoch 217/1000\n",
            "18/18 [==============================] - 0s 4ms/step - loss: 2.2545e-04 - accuracy: 0.0013 - val_loss: 1.1115e-04 - val_accuracy: 0.0000e+00\n",
            "Epoch 218/1000\n",
            "18/18 [==============================] - 0s 6ms/step - loss: 2.1355e-04 - accuracy: 0.0013 - val_loss: 1.1422e-04 - val_accuracy: 0.0000e+00\n",
            "Epoch 219/1000\n",
            "18/18 [==============================] - 0s 4ms/step - loss: 2.0654e-04 - accuracy: 0.0013 - val_loss: 2.4306e-04 - val_accuracy: 0.0000e+00\n",
            "Epoch 220/1000\n",
            "18/18 [==============================] - 0s 4ms/step - loss: 2.2472e-04 - accuracy: 0.0013 - val_loss: 1.3152e-04 - val_accuracy: 0.0000e+00\n",
            "Epoch 221/1000\n",
            "18/18 [==============================] - 0s 4ms/step - loss: 2.1649e-04 - accuracy: 0.0013 - val_loss: 1.3638e-04 - val_accuracy: 0.0000e+00\n",
            "Epoch 222/1000\n",
            "18/18 [==============================] - 0s 4ms/step - loss: 2.0946e-04 - accuracy: 0.0013 - val_loss: 1.1071e-04 - val_accuracy: 0.0000e+00\n",
            "Epoch 223/1000\n",
            "18/18 [==============================] - 0s 5ms/step - loss: 2.1325e-04 - accuracy: 0.0013 - val_loss: 1.6068e-04 - val_accuracy: 0.0000e+00\n",
            "Epoch 224/1000\n",
            "18/18 [==============================] - 0s 4ms/step - loss: 2.2462e-04 - accuracy: 0.0013 - val_loss: 1.1136e-04 - val_accuracy: 0.0000e+00\n",
            "Epoch 225/1000\n",
            "18/18 [==============================] - 0s 6ms/step - loss: 2.1370e-04 - accuracy: 0.0013 - val_loss: 1.1146e-04 - val_accuracy: 0.0000e+00\n",
            "Epoch 226/1000\n",
            "18/18 [==============================] - 0s 4ms/step - loss: 2.3515e-04 - accuracy: 0.0013 - val_loss: 1.8153e-04 - val_accuracy: 0.0000e+00\n",
            "Epoch 227/1000\n",
            "18/18 [==============================] - 0s 4ms/step - loss: 2.2493e-04 - accuracy: 0.0013 - val_loss: 1.2924e-04 - val_accuracy: 0.0000e+00\n",
            "Epoch 228/1000\n",
            "18/18 [==============================] - 0s 5ms/step - loss: 2.1211e-04 - accuracy: 0.0013 - val_loss: 1.1152e-04 - val_accuracy: 0.0000e+00\n",
            "Epoch 229/1000\n",
            "18/18 [==============================] - 0s 4ms/step - loss: 2.1326e-04 - accuracy: 0.0013 - val_loss: 1.1025e-04 - val_accuracy: 0.0000e+00\n",
            "Epoch 230/1000\n",
            "18/18 [==============================] - 0s 5ms/step - loss: 2.1523e-04 - accuracy: 0.0013 - val_loss: 1.1626e-04 - val_accuracy: 0.0000e+00\n",
            "Epoch 231/1000\n",
            "18/18 [==============================] - 0s 4ms/step - loss: 2.1754e-04 - accuracy: 0.0013 - val_loss: 1.2140e-04 - val_accuracy: 0.0000e+00\n",
            "Epoch 232/1000\n",
            "18/18 [==============================] - 0s 4ms/step - loss: 2.0762e-04 - accuracy: 0.0013 - val_loss: 1.8247e-04 - val_accuracy: 0.0000e+00\n",
            "Epoch 233/1000\n",
            "18/18 [==============================] - 0s 4ms/step - loss: 2.2702e-04 - accuracy: 0.0013 - val_loss: 1.1111e-04 - val_accuracy: 0.0000e+00\n",
            "Epoch 234/1000\n",
            "18/18 [==============================] - 0s 5ms/step - loss: 2.1607e-04 - accuracy: 0.0013 - val_loss: 1.1145e-04 - val_accuracy: 0.0000e+00\n",
            "Epoch 235/1000\n",
            "18/18 [==============================] - 0s 4ms/step - loss: 2.0878e-04 - accuracy: 0.0013 - val_loss: 1.1481e-04 - val_accuracy: 0.0000e+00\n",
            "Epoch 236/1000\n",
            "18/18 [==============================] - 0s 5ms/step - loss: 2.1201e-04 - accuracy: 0.0013 - val_loss: 1.1000e-04 - val_accuracy: 0.0000e+00\n",
            "Epoch 237/1000\n",
            "18/18 [==============================] - 0s 4ms/step - loss: 2.0601e-04 - accuracy: 0.0013 - val_loss: 1.0984e-04 - val_accuracy: 0.0000e+00\n",
            "Epoch 238/1000\n",
            "18/18 [==============================] - 0s 4ms/step - loss: 2.1647e-04 - accuracy: 0.0013 - val_loss: 1.0958e-04 - val_accuracy: 0.0000e+00\n",
            "Epoch 239/1000\n",
            "18/18 [==============================] - 0s 5ms/step - loss: 2.1270e-04 - accuracy: 0.0013 - val_loss: 1.1066e-04 - val_accuracy: 0.0000e+00\n",
            "Epoch 240/1000\n",
            "18/18 [==============================] - 0s 4ms/step - loss: 2.1065e-04 - accuracy: 0.0013 - val_loss: 1.1013e-04 - val_accuracy: 0.0000e+00\n",
            "Epoch 241/1000\n",
            "18/18 [==============================] - 0s 4ms/step - loss: 2.0720e-04 - accuracy: 0.0013 - val_loss: 1.1014e-04 - val_accuracy: 0.0000e+00\n",
            "Epoch 242/1000\n",
            "18/18 [==============================] - 0s 4ms/step - loss: 2.0979e-04 - accuracy: 0.0013 - val_loss: 1.1121e-04 - val_accuracy: 0.0000e+00\n",
            "Epoch 243/1000\n",
            "18/18 [==============================] - 0s 4ms/step - loss: 2.0603e-04 - accuracy: 0.0013 - val_loss: 1.2520e-04 - val_accuracy: 0.0000e+00\n",
            "Epoch 244/1000\n",
            "18/18 [==============================] - 0s 5ms/step - loss: 2.1143e-04 - accuracy: 0.0013 - val_loss: 1.2327e-04 - val_accuracy: 0.0000e+00\n",
            "Epoch 245/1000\n",
            "18/18 [==============================] - 0s 5ms/step - loss: 2.0791e-04 - accuracy: 0.0013 - val_loss: 1.1879e-04 - val_accuracy: 0.0000e+00\n",
            "Epoch 246/1000\n",
            "18/18 [==============================] - 0s 4ms/step - loss: 2.1829e-04 - accuracy: 0.0013 - val_loss: 1.1791e-04 - val_accuracy: 0.0000e+00\n",
            "Epoch 247/1000\n",
            "18/18 [==============================] - 0s 4ms/step - loss: 2.2099e-04 - accuracy: 0.0013 - val_loss: 1.0980e-04 - val_accuracy: 0.0000e+00\n",
            "Epoch 248/1000\n",
            "18/18 [==============================] - 0s 4ms/step - loss: 2.0825e-04 - accuracy: 0.0013 - val_loss: 1.4087e-04 - val_accuracy: 0.0000e+00\n",
            "Epoch 249/1000\n",
            "18/18 [==============================] - 0s 4ms/step - loss: 2.2894e-04 - accuracy: 0.0013 - val_loss: 1.1159e-04 - val_accuracy: 0.0000e+00\n",
            "Epoch 250/1000\n",
            "18/18 [==============================] - 0s 5ms/step - loss: 2.0929e-04 - accuracy: 0.0013 - val_loss: 1.2823e-04 - val_accuracy: 0.0000e+00\n",
            "Epoch 251/1000\n",
            "18/18 [==============================] - 0s 4ms/step - loss: 2.2260e-04 - accuracy: 0.0013 - val_loss: 1.2779e-04 - val_accuracy: 0.0000e+00\n",
            "Epoch 252/1000\n",
            "18/18 [==============================] - 0s 4ms/step - loss: 2.2085e-04 - accuracy: 0.0013 - val_loss: 1.1007e-04 - val_accuracy: 0.0000e+00\n",
            "Epoch 253/1000\n",
            "18/18 [==============================] - 0s 6ms/step - loss: 2.1271e-04 - accuracy: 0.0013 - val_loss: 1.0911e-04 - val_accuracy: 0.0000e+00\n",
            "Epoch 254/1000\n",
            "18/18 [==============================] - 0s 4ms/step - loss: 2.0426e-04 - accuracy: 0.0013 - val_loss: 1.3391e-04 - val_accuracy: 0.0000e+00\n",
            "Epoch 255/1000\n",
            "18/18 [==============================] - 0s 4ms/step - loss: 2.3462e-04 - accuracy: 0.0013 - val_loss: 1.2079e-04 - val_accuracy: 0.0000e+00\n",
            "Epoch 256/1000\n",
            "18/18 [==============================] - 0s 4ms/step - loss: 2.1946e-04 - accuracy: 0.0013 - val_loss: 1.1026e-04 - val_accuracy: 0.0000e+00\n",
            "Epoch 257/1000\n",
            "18/18 [==============================] - 0s 4ms/step - loss: 2.1231e-04 - accuracy: 0.0013 - val_loss: 1.1459e-04 - val_accuracy: 0.0000e+00\n",
            "Epoch 258/1000\n",
            "18/18 [==============================] - 0s 4ms/step - loss: 2.3461e-04 - accuracy: 0.0013 - val_loss: 1.1360e-04 - val_accuracy: 0.0000e+00\n",
            "Epoch 259/1000\n",
            "18/18 [==============================] - 0s 4ms/step - loss: 2.1553e-04 - accuracy: 0.0013 - val_loss: 2.1439e-04 - val_accuracy: 0.0000e+00\n",
            "Epoch 260/1000\n",
            "18/18 [==============================] - 0s 4ms/step - loss: 2.4971e-04 - accuracy: 0.0013 - val_loss: 1.0965e-04 - val_accuracy: 0.0000e+00\n",
            "Epoch 261/1000\n",
            "18/18 [==============================] - 0s 4ms/step - loss: 2.3523e-04 - accuracy: 0.0013 - val_loss: 1.1402e-04 - val_accuracy: 0.0000e+00\n",
            "Epoch 262/1000\n",
            "18/18 [==============================] - 0s 4ms/step - loss: 2.1000e-04 - accuracy: 0.0013 - val_loss: 1.0994e-04 - val_accuracy: 0.0000e+00\n",
            "Epoch 263/1000\n",
            "18/18 [==============================] - 0s 4ms/step - loss: 2.0696e-04 - accuracy: 0.0013 - val_loss: 1.1351e-04 - val_accuracy: 0.0000e+00\n",
            "Epoch 264/1000\n",
            "18/18 [==============================] - 0s 5ms/step - loss: 2.1160e-04 - accuracy: 0.0013 - val_loss: 1.3677e-04 - val_accuracy: 0.0000e+00\n",
            "Epoch 265/1000\n",
            "18/18 [==============================] - 0s 4ms/step - loss: 2.2076e-04 - accuracy: 0.0013 - val_loss: 1.0933e-04 - val_accuracy: 0.0000e+00\n",
            "Epoch 266/1000\n",
            "18/18 [==============================] - 0s 5ms/step - loss: 2.0895e-04 - accuracy: 0.0013 - val_loss: 1.0944e-04 - val_accuracy: 0.0000e+00\n",
            "Epoch 267/1000\n",
            "18/18 [==============================] - 0s 4ms/step - loss: 2.1123e-04 - accuracy: 0.0013 - val_loss: 1.0966e-04 - val_accuracy: 0.0000e+00\n",
            "Epoch 268/1000\n",
            "18/18 [==============================] - 0s 5ms/step - loss: 2.2542e-04 - accuracy: 0.0013 - val_loss: 1.1032e-04 - val_accuracy: 0.0000e+00\n",
            "Epoch 269/1000\n",
            "18/18 [==============================] - 0s 4ms/step - loss: 2.0751e-04 - accuracy: 0.0013 - val_loss: 1.4798e-04 - val_accuracy: 0.0000e+00\n",
            "Epoch 270/1000\n",
            "18/18 [==============================] - 0s 5ms/step - loss: 2.2562e-04 - accuracy: 0.0013 - val_loss: 1.1242e-04 - val_accuracy: 0.0000e+00\n",
            "Epoch 271/1000\n",
            "18/18 [==============================] - 0s 5ms/step - loss: 2.1830e-04 - accuracy: 0.0013 - val_loss: 2.2128e-04 - val_accuracy: 0.0000e+00\n",
            "Epoch 272/1000\n",
            "18/18 [==============================] - 0s 4ms/step - loss: 2.1962e-04 - accuracy: 0.0013 - val_loss: 1.2598e-04 - val_accuracy: 0.0000e+00\n",
            "Epoch 273/1000\n",
            "18/18 [==============================] - 0s 4ms/step - loss: 2.1237e-04 - accuracy: 0.0013 - val_loss: 1.0989e-04 - val_accuracy: 0.0000e+00\n",
            "Epoch 274/1000\n",
            "18/18 [==============================] - 0s 4ms/step - loss: 2.0609e-04 - accuracy: 0.0013 - val_loss: 1.1081e-04 - val_accuracy: 0.0000e+00\n",
            "Epoch 275/1000\n",
            "18/18 [==============================] - 0s 6ms/step - loss: 2.1385e-04 - accuracy: 0.0013 - val_loss: 1.1044e-04 - val_accuracy: 0.0000e+00\n",
            "Epoch 276/1000\n",
            "18/18 [==============================] - 0s 5ms/step - loss: 2.1679e-04 - accuracy: 0.0013 - val_loss: 1.3356e-04 - val_accuracy: 0.0000e+00\n",
            "Epoch 277/1000\n",
            "18/18 [==============================] - 0s 4ms/step - loss: 2.1052e-04 - accuracy: 0.0013 - val_loss: 1.1985e-04 - val_accuracy: 0.0000e+00\n",
            "Epoch 278/1000\n",
            "18/18 [==============================] - 0s 4ms/step - loss: 2.0885e-04 - accuracy: 0.0013 - val_loss: 1.1972e-04 - val_accuracy: 0.0000e+00\n",
            "Epoch 279/1000\n",
            "18/18 [==============================] - 0s 4ms/step - loss: 2.0541e-04 - accuracy: 0.0013 - val_loss: 1.0997e-04 - val_accuracy: 0.0000e+00\n",
            "Epoch 280/1000\n",
            "18/18 [==============================] - 0s 5ms/step - loss: 2.0593e-04 - accuracy: 0.0013 - val_loss: 1.1686e-04 - val_accuracy: 0.0000e+00\n",
            "Epoch 281/1000\n",
            "18/18 [==============================] - 0s 5ms/step - loss: 2.0694e-04 - accuracy: 0.0013 - val_loss: 1.2119e-04 - val_accuracy: 0.0000e+00\n",
            "Epoch 282/1000\n",
            "18/18 [==============================] - 0s 5ms/step - loss: 2.1011e-04 - accuracy: 0.0013 - val_loss: 1.4984e-04 - val_accuracy: 0.0000e+00\n",
            "Epoch 283/1000\n",
            "18/18 [==============================] - 0s 4ms/step - loss: 2.2192e-04 - accuracy: 0.0013 - val_loss: 1.5057e-04 - val_accuracy: 0.0000e+00\n",
            "Epoch 00283: early stopping\n"
          ],
          "name": "stdout"
        }
      ]
    },
    {
      "cell_type": "code",
      "metadata": {
        "id": "Jia2AuRNhbd6",
        "colab": {
          "base_uri": "https://localhost:8080/",
          "height": 621
        },
        "outputId": "2ca8a1c2-544f-4478-ea67-42f048506da5"
      },
      "source": [
        "#Loss Visualization for data training and validation\n",
        "\n",
        "plt.figure(figsize=(15,10))\n",
        "plt.plot(model_train.history['loss'])\n",
        "plt.plot(model_train.history['val_loss'])\n",
        "plt.title('Model Performance')\n",
        "plt.xlabel('Epoch')\n",
        "plt.ylabel('Loss')\n",
        "plt.legend(['Train','Validation'], loc='upper right')\n",
        "plt.show()"
      ],
      "execution_count": null,
      "outputs": [
        {
          "output_type": "display_data",
          "data": {
            "image/png": "[encoded data removed]",
            "text/plain": [
              "<Figure size 1080x720 with 1 Axes>"
            ]
          },
          "metadata": {
            "tags": [],
            "needs_background": "light"
          }
        }
      ]
    },
    {
      "cell_type": "code",
      "metadata": {
        "id": "hdERW9EDqi6k"
      },
      "source": [
        "result = model.predict(train_X)"
      ],
      "execution_count": null,
      "outputs": []
    },
    {
      "cell_type": "code",
      "metadata": {
        "id": "xFdVI87HKZhv",
        "colab": {
          "base_uri": "https://localhost:8080/"
        },
        "outputId": "4829f51a-b8d3-487e-ec9d-13be7fee0b94"
      },
      "source": [
        "train_y.shape"
      ],
      "execution_count": null,
      "outputs": [
        {
          "output_type": "execute_result",
          "data": {
            "text/plain": [
              "(3336, 1)"
            ]
          },
          "metadata": {
            "tags": []
          },
          "execution_count": 35
        }
      ]
    },
    {
      "cell_type": "code",
      "metadata": {
        "id": "65qYrb8Q2XSV",
        "colab": {
          "base_uri": "https://localhost:8080/"
        },
        "outputId": "78f1cf1f-8cbc-4cf1-ce90-16dfd2221654"
      },
      "source": [
        "result.shape"
      ],
      "execution_count": null,
      "outputs": [
        {
          "output_type": "execute_result",
          "data": {
            "text/plain": [
              "(3336, 1)"
            ]
          },
          "metadata": {
            "tags": []
          },
          "execution_count": 36
        }
      ]
    },
    {
      "cell_type": "code",
      "metadata": {
        "id": "kUrNIJocPNWs"
      },
      "source": [
        "#Invert Scalled Value into Actual Value\n",
        "\n",
        "result = scalerMinMax.inverse_transform(result.reshape(-1,1))\n",
        "train_y = scalerMinMax.inverse_transform(train_y.reshape(-1,1))"
      ],
      "execution_count": null,
      "outputs": []
    },
    {
      "cell_type": "code",
      "metadata": {
        "id": "kgvy01zdJStf"
      },
      "source": [
        "#Flatten the Data\n",
        "\n",
        "result = result.flatten()\n",
        "train_y = train_y.flatten()"
      ],
      "execution_count": null,
      "outputs": []
    },
    {
      "cell_type": "code",
      "metadata": {
        "id": "KTSl0BqIQRc_",
        "colab": {
          "base_uri": "https://localhost:8080/"
        },
        "outputId": "60f9665a-d6e4-40cd-9df2-ef69da038467"
      },
      "source": [
        "#Check the RMSE and MAE (Training Process)\n",
        "\n",
        "rmse_train = np.sqrt(mean_squared_error(train_y, result))\n",
        "print('Train Root Mean Squared Error:', rmse_train)\n",
        "\n",
        "mae_train = (mean_absolute_error(train_y, result))\n",
        "print('Train Mean Absolute Error:', mae_train)"
      ],
      "execution_count": null,
      "outputs": [
        {
          "output_type": "stream",
          "text": [
            "Train Root Mean Squared Error: 13.139747912737299\n",
            "Train Mean Absolute Error: 10.03312159021117\n"
          ],
          "name": "stdout"
        }
      ]
    },
    {
      "cell_type": "code",
      "metadata": {
        "id": "1SEw1kHNywbP"
      },
      "source": [
        "#Make the length date the same with result\n",
        "data_train = data_train[4:]\n",
        "data_test = data_test[4:]"
      ],
      "execution_count": null,
      "outputs": []
    },
    {
      "cell_type": "code",
      "metadata": {
        "id": "jTqcX8yrHG38",
        "colab": {
          "base_uri": "https://localhost:8080/",
          "height": 204
        },
        "outputId": "43606872-9bf7-4504-e9e1-b912e6ebc6d7"
      },
      "source": [
        "data_train.head()"
      ],
      "execution_count": null,
      "outputs": [
        {
          "output_type": "execute_result",
          "data": {
            "text/html": [
              "<div>\n",
              "<style scoped>\n",
              "    .dataframe tbody tr th:only-of-type {\n",
              "        vertical-align: middle;\n",
              "    }\n",
              "\n",
              "    .dataframe tbody tr th {\n",
              "        vertical-align: top;\n",
              "    }\n",
              "\n",
              "    .dataframe thead th {\n",
              "        text-align: right;\n",
              "    }\n",
              "</style>\n",
              "<table border=\"1\" class=\"dataframe\">\n",
              "  <thead>\n",
              "    <tr style=\"text-align: right;\">\n",
              "      <th></th>\n",
              "      <th>Date</th>\n",
              "      <th>Prices</th>\n",
              "    </tr>\n",
              "  </thead>\n",
              "  <tbody>\n",
              "    <tr>\n",
              "      <th>6850</th>\n",
              "      <td>2005-04-01</td>\n",
              "      <td>427.15</td>\n",
              "    </tr>\n",
              "    <tr>\n",
              "      <th>6851</th>\n",
              "      <td>2005-04-04</td>\n",
              "      <td>423.90</td>\n",
              "    </tr>\n",
              "    <tr>\n",
              "      <th>6852</th>\n",
              "      <td>2005-04-05</td>\n",
              "      <td>424.60</td>\n",
              "    </tr>\n",
              "    <tr>\n",
              "      <th>6853</th>\n",
              "      <td>2005-04-06</td>\n",
              "      <td>425.75</td>\n",
              "    </tr>\n",
              "    <tr>\n",
              "      <th>6854</th>\n",
              "      <td>2005-04-07</td>\n",
              "      <td>428.00</td>\n",
              "    </tr>\n",
              "  </tbody>\n",
              "</table>\n",
              "</div>"
            ],
            "text/plain": [
              "           Date  Prices\n",
              "6850 2005-04-01  427.15\n",
              "6851 2005-04-04  423.90\n",
              "6852 2005-04-05  424.60\n",
              "6853 2005-04-06  425.75\n",
              "6854 2005-04-07  428.00"
            ]
          },
          "metadata": {
            "tags": []
          },
          "execution_count": 41
        }
      ]
    },
    {
      "cell_type": "code",
      "metadata": {
        "id": "_7qMIFzpqyO0",
        "colab": {
          "base_uri": "https://localhost:8080/",
          "height": 621
        },
        "outputId": "5f46b956-0274-4e2c-89a5-a388eb86b5f4"
      },
      "source": [
        "#Visuzalize the Predicted Result and Actual Data Train\n",
        "\n",
        "plt.figure(figsize=(20,10))\n",
        "plt.title(\"Training Predicted Price\")\n",
        "plt.xlabel('Date')\n",
        "plt.ylabel('Price')\n",
        "plt.plot(data_train['Date'],result)\n",
        "plt.plot(data_train['Date'],train_y)\n",
        "plt.legend(['True','Predict'], loc='upper right')\n",
        "plt.show()"
      ],
      "execution_count": null,
      "outputs": [
        {
          "output_type": "display_data",
          "data": {
            "image/png": "[encoded data removed]",
            "text/plain": [
              "<Figure size 1440x720 with 1 Axes>"
            ]
          },
          "metadata": {
            "tags": [],
            "needs_background": "light"
          }
        }
      ]
    },
    {
      "cell_type": "markdown",
      "metadata": {
        "id": "8kGNBcCKeXFO"
      },
      "source": [
        "## Testing"
      ]
    },
    {
      "cell_type": "code",
      "metadata": {
        "id": "5OzXHKXXK9uc"
      },
      "source": [
        "#Testing\n",
        "predicted_result = model.predict(test_X, verbose=0)"
      ],
      "execution_count": null,
      "outputs": []
    },
    {
      "cell_type": "code",
      "metadata": {
        "id": "X50SHOiZDexd"
      },
      "source": [
        "#Invert Scalled Value into Actual Value\n",
        "predicted_result = scalerMinMax.inverse_transform(predicted_result.reshape(-1,1))\n",
        "test_y = scalerMinMax.inverse_transform(test_y.reshape(-1,1))"
      ],
      "execution_count": null,
      "outputs": []
    },
    {
      "cell_type": "code",
      "metadata": {
        "id": "7cS41k3GLS7q"
      },
      "source": [
        "#Flatten the Data\n",
        "\n",
        "predicted_result = predicted_result.flatten()\n",
        "test_y = test_y.flatten()"
      ],
      "execution_count": null,
      "outputs": []
    },
    {
      "cell_type": "code",
      "metadata": {
        "id": "Xp6K7zQ6LUZZ",
        "colab": {
          "base_uri": "https://localhost:8080/"
        },
        "outputId": "2d019280-3e62-40bc-fc21-c2ac57f7ae6d"
      },
      "source": [
        "#Check the RMSE and MAE (Testing Process)\n",
        "\n",
        "rmse = np.sqrt(mean_squared_error(test_y, predicted_result))\n",
        "print('Test Root Mean Squared Error:', rmse)\n",
        "\n",
        "mae = (mean_absolute_error(test_y, predicted_result))\n",
        "print('Test Mean Absolute Error:', mae)"
      ],
      "execution_count": null,
      "outputs": [
        {
          "output_type": "stream",
          "text": [
            "Test Root Mean Squared Error: 22.52333145840504\n",
            "Test Mean Absolute Error: 15.816943770682915\n"
          ],
          "name": "stdout"
        }
      ]
    },
    {
      "cell_type": "code",
      "metadata": {
        "id": "GtOClncyLR6C",
        "colab": {
          "base_uri": "https://localhost:8080/",
          "height": 621
        },
        "outputId": "48816be5-cbcb-4f6b-ee18-79b43bb71126"
      },
      "source": [
        "#Visuzalize the Predicted Result and Actual Data Test\n",
        "\n",
        "plt.figure(figsize=(20,10))\n",
        "plt.title(\"Predicted Price\")\n",
        "plt.xlabel('Date')\n",
        "plt.ylabel('Gold Price (USD)')\n",
        "plt.plot(data_test['Date'], predicted_result)\n",
        "plt.plot(data_test['Date'], test_y)\n",
        "plt.legend(['Actual','Prediction Result'], loc='upper right')\n",
        "plt.show()"
      ],
      "execution_count": null,
      "outputs": [
        {
          "output_type": "display_data",
          "data": {
            "image/png": "[encoded data removed]",
            "text/plain": [
              "<Figure size 1440x720 with 1 Axes>"
            ]
          },
          "metadata": {
            "tags": [],
            "needs_background": "light"
          }
        }
      ]
    }
  ]
}