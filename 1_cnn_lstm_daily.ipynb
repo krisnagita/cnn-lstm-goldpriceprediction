{
  "nbformat": 4,
  "nbformat_minor": 0,
  "metadata": {
    "colab": {
      "name": "1-cnn-lstm-daily.ipynb",
      "provenance": [],
      "collapsed_sections": []
    },
    "kernelspec": {
      "name": "python3",
      "display_name": "Python 3"
    },
    "accelerator": "GPU"
  },
  "cells": [
    {
      "cell_type": "markdown",
      "metadata": {
        "id": "Tu9DBBZ_9YpL"
      },
      "source": [
        "# **Gold Price Prediction Using CNN-LSTM**\n",
        "\n",
        "\n"
      ]
    },
    {
      "cell_type": "markdown",
      "metadata": {
        "id": "S1OwGImOXmE9"
      },
      "source": [
        "## Import and Install Library"
      ]
    },
    {
      "cell_type": "code",
      "metadata": {
        "id": "mKDSFjlHXO6d"
      },
      "source": [
        "# !pip install -q keras"
      ],
      "execution_count": null,
      "outputs": []
    },
    {
      "cell_type": "code",
      "metadata": {
        "id": "-dIx5T4VVqNq"
      },
      "source": [
        "import pandas as pd\n",
        "import numpy as np\n",
        "import matplotlib.pyplot as plt\n",
        "import keras\n",
        "import tensorflow as tf\n",
        "from google.colab import drive\n",
        "\n",
        "from sklearn.preprocessing import StandardScaler\n",
        "from sklearn.preprocessing import MinMaxScaler\n",
        "from tensorflow.keras.models import Sequential\n",
        "from tensorflow.keras.layers import Dense, Dropout, TimeDistributed, LSTM, Conv1D\n",
        "from tensorflow.python.keras.layers.pooling import MaxPooling1D\n",
        "from tensorflow.keras.callbacks import EarlyStopping\n",
        "from tensorflow.keras.layers import Flatten\n",
        "\n",
        "import random as python_random\n",
        "\n",
        "from sklearn.metrics import mean_squared_error\n",
        "from sklearn.metrics import mean_absolute_error\n",
        "\n",
        "import datetime"
      ],
      "execution_count": null,
      "outputs": []
    },
    {
      "cell_type": "markdown",
      "metadata": {
        "id": "BkB-IBbPXt3N"
      },
      "source": [
        "## Load Dataset"
      ]
    },
    {
      "cell_type": "code",
      "metadata": {
        "id": "z3M3TMYfXvCk",
        "colab": {
          "base_uri": "https://localhost:8080/"
        },
        "outputId": "e43c2eea-d33b-40e7-8561-241053413aec"
      },
      "source": [
        "#Mount to google drive\n",
        "drive.mount('/content/drive')"
      ],
      "execution_count": null,
      "outputs": [
        {
          "output_type": "stream",
          "text": [
            "Drive already mounted at /content/drive; to attempt to forcibly remount, call drive.mount(\"/content/drive\", force_remount=True).\n"
          ],
          "name": "stdout"
        }
      ]
    },
    {
      "cell_type": "code",
      "metadata": {
        "id": "RVpNndPsX-2c"
      },
      "source": [
        "# !ls \"/content/drive/MyDrive/TugasAkhir/Code/\""
      ],
      "execution_count": null,
      "outputs": []
    },
    {
      "cell_type": "code",
      "metadata": {
        "id": "oszy3Fk5Y-gk"
      },
      "source": [
        "data = pd.read_excel(\"/content/drive/MyDrive/TugasAkhir/Code/Dataset/1-daily.xlsx\")"
      ],
      "execution_count": null,
      "outputs": []
    },
    {
      "cell_type": "code",
      "metadata": {
        "id": "OeMA_gw3Ztfu",
        "colab": {
          "base_uri": "https://localhost:8080/",
          "height": 204
        },
        "outputId": "d86a5a51-6f92-4644-a18c-40cab3b4531b"
      },
      "source": [
        "data.head()"
      ],
      "execution_count": null,
      "outputs": [
        {
          "output_type": "execute_result",
          "data": {
            "text/html": [
              "<div>\n",
              "<style scoped>\n",
              "    .dataframe tbody tr th:only-of-type {\n",
              "        vertical-align: middle;\n",
              "    }\n",
              "\n",
              "    .dataframe tbody tr th {\n",
              "        vertical-align: top;\n",
              "    }\n",
              "\n",
              "    .dataframe thead th {\n",
              "        text-align: right;\n",
              "    }\n",
              "</style>\n",
              "<table border=\"1\" class=\"dataframe\">\n",
              "  <thead>\n",
              "    <tr style=\"text-align: right;\">\n",
              "      <th></th>\n",
              "      <th>Date</th>\n",
              "      <th>Prices</th>\n",
              "    </tr>\n",
              "  </thead>\n",
              "  <tbody>\n",
              "    <tr>\n",
              "      <th>0</th>\n",
              "      <td>1978-12-29</td>\n",
              "      <td>226.00</td>\n",
              "    </tr>\n",
              "    <tr>\n",
              "      <th>1</th>\n",
              "      <td>1979-01-01</td>\n",
              "      <td>226.00</td>\n",
              "    </tr>\n",
              "    <tr>\n",
              "      <th>2</th>\n",
              "      <td>1979-01-02</td>\n",
              "      <td>226.80</td>\n",
              "    </tr>\n",
              "    <tr>\n",
              "      <th>3</th>\n",
              "      <td>1979-01-03</td>\n",
              "      <td>218.60</td>\n",
              "    </tr>\n",
              "    <tr>\n",
              "      <th>4</th>\n",
              "      <td>1979-01-04</td>\n",
              "      <td>223.15</td>\n",
              "    </tr>\n",
              "  </tbody>\n",
              "</table>\n",
              "</div>"
            ],
            "text/plain": [
              "        Date  Prices\n",
              "0 1978-12-29  226.00\n",
              "1 1979-01-01  226.00\n",
              "2 1979-01-02  226.80\n",
              "3 1979-01-03  218.60\n",
              "4 1979-01-04  223.15"
            ]
          },
          "metadata": {
            "tags": []
          },
          "execution_count": 6
        }
      ]
    },
    {
      "cell_type": "code",
      "metadata": {
        "id": "uhoJJS5U7T0X",
        "colab": {
          "base_uri": "https://localhost:8080/",
          "height": 204
        },
        "outputId": "1e7a9269-1099-4e83-96fb-8a8877d4214f"
      },
      "source": [
        "data.tail()"
      ],
      "execution_count": null,
      "outputs": [
        {
          "output_type": "execute_result",
          "data": {
            "text/html": [
              "<div>\n",
              "<style scoped>\n",
              "    .dataframe tbody tr th:only-of-type {\n",
              "        vertical-align: middle;\n",
              "    }\n",
              "\n",
              "    .dataframe tbody tr th {\n",
              "        vertical-align: top;\n",
              "    }\n",
              "\n",
              "    .dataframe thead th {\n",
              "        text-align: right;\n",
              "    }\n",
              "</style>\n",
              "<table border=\"1\" class=\"dataframe\">\n",
              "  <thead>\n",
              "    <tr style=\"text-align: right;\">\n",
              "      <th></th>\n",
              "      <th>Date</th>\n",
              "      <th>Prices</th>\n",
              "    </tr>\n",
              "  </thead>\n",
              "  <tbody>\n",
              "    <tr>\n",
              "      <th>11016</th>\n",
              "      <td>2021-03-22</td>\n",
              "      <td>1736.15</td>\n",
              "    </tr>\n",
              "    <tr>\n",
              "      <th>11017</th>\n",
              "      <td>2021-03-23</td>\n",
              "      <td>1726.20</td>\n",
              "    </tr>\n",
              "    <tr>\n",
              "      <th>11018</th>\n",
              "      <td>2021-03-24</td>\n",
              "      <td>1730.50</td>\n",
              "    </tr>\n",
              "    <tr>\n",
              "      <th>11019</th>\n",
              "      <td>2021-03-25</td>\n",
              "      <td>1737.30</td>\n",
              "    </tr>\n",
              "    <tr>\n",
              "      <th>11020</th>\n",
              "      <td>2021-03-26</td>\n",
              "      <td>1731.80</td>\n",
              "    </tr>\n",
              "  </tbody>\n",
              "</table>\n",
              "</div>"
            ],
            "text/plain": [
              "            Date   Prices\n",
              "11016 2021-03-22  1736.15\n",
              "11017 2021-03-23  1726.20\n",
              "11018 2021-03-24  1730.50\n",
              "11019 2021-03-25  1737.30\n",
              "11020 2021-03-26  1731.80"
            ]
          },
          "metadata": {
            "tags": []
          },
          "execution_count": 7
        }
      ]
    },
    {
      "cell_type": "code",
      "metadata": {
        "id": "gdUc3D5eROwi",
        "colab": {
          "base_uri": "https://localhost:8080/"
        },
        "outputId": "fdcbe462-0473-4a54-e368-4f2fd901f816"
      },
      "source": [
        "data.info()"
      ],
      "execution_count": null,
      "outputs": [
        {
          "output_type": "stream",
          "text": [
            "<class 'pandas.core.frame.DataFrame'>\n",
            "RangeIndex: 11021 entries, 0 to 11020\n",
            "Data columns (total 2 columns):\n",
            " #   Column  Non-Null Count  Dtype         \n",
            "---  ------  --------------  -----         \n",
            " 0   Date    11021 non-null  datetime64[ns]\n",
            " 1   Prices  11021 non-null  float64       \n",
            "dtypes: datetime64[ns](1), float64(1)\n",
            "memory usage: 172.3 KB\n"
          ],
          "name": "stdout"
        }
      ]
    },
    {
      "cell_type": "markdown",
      "metadata": {
        "id": "HXF5U-t7ZzmI"
      },
      "source": [
        "## Pre-Processing"
      ]
    },
    {
      "cell_type": "code",
      "metadata": {
        "id": "Coux8tXMfmOS",
        "colab": {
          "base_uri": "https://localhost:8080/",
          "height": 627
        },
        "outputId": "d645cb70-73c4-4d83-8f09-86aef2d9ffd1"
      },
      "source": [
        "#Check the pattern of dataset\n",
        "\n",
        "plt.figure(figsize=(20,10))\n",
        "plt.plot(data['Date'], data['Prices'])\n",
        "plt.title(\"Data Prices Gold Daily 1980 - 2020 \", fontsize=16)\n",
        "plt.ylabel(\"Prices\", fontsize=14)\n",
        "plt.xlabel(\"Years\", fontsize=14)\n",
        "plt.show()"
      ],
      "execution_count": null,
      "outputs": [
        {
          "output_type": "display_data",
          "data": {
            "image/png": "[encoded data removed]",
            "text/plain": [
              "<Figure size 1440x720 with 1 Axes>"
            ]
          },
          "metadata": {
            "tags": [],
            "needs_background": "light"
          }
        }
      ]
    },
    {
      "cell_type": "code",
      "metadata": {
        "id": "KLFQHeku8cW2"
      },
      "source": [
        "#Filter Data\n",
        "data = data[(data['Date'] >= pd.Timestamp(2005,3,26)) & (data['Date'] <= pd.Timestamp(2021,3,26))]  "
      ],
      "execution_count": null,
      "outputs": []
    },
    {
      "cell_type": "code",
      "metadata": {
        "id": "5B_Pq7jrAQQz"
      },
      "source": [
        "#Check the pattern of dataset after filter\n",
        "\n",
        "# plt.figure(figsize=(20,10))\n",
        "# plt.plot(data['Date'], data['Prices'])\n",
        "# plt.title(\"Data Prices Gold Daily 2005 - 2020 \", fontsize=16)\n",
        "# plt.ylabel(\"Prices\", fontsize=14)\n",
        "# plt.xlabel(\"Years\", fontsize=14)\n",
        "# plt.show()"
      ],
      "execution_count": null,
      "outputs": []
    },
    {
      "cell_type": "code",
      "metadata": {
        "id": "heAXVd5CYl8S",
        "colab": {
          "base_uri": "https://localhost:8080/"
        },
        "outputId": "7a230a95-5cbb-49c1-8f6b-89639adeccef"
      },
      "source": [
        "#Check the types of all atributes\n",
        "data.dtypes"
      ],
      "execution_count": null,
      "outputs": [
        {
          "output_type": "execute_result",
          "data": {
            "text/plain": [
              "Date      datetime64[ns]\n",
              "Prices           float64\n",
              "dtype: object"
            ]
          },
          "metadata": {
            "tags": []
          },
          "execution_count": 12
        }
      ]
    },
    {
      "cell_type": "code",
      "metadata": {
        "id": "naC3sm1Z_9wd",
        "colab": {
          "base_uri": "https://localhost:8080/"
        },
        "outputId": "779379c0-095d-4f4a-ef9e-38fd58fcdf71"
      },
      "source": [
        "data.info()"
      ],
      "execution_count": null,
      "outputs": [
        {
          "output_type": "stream",
          "text": [
            "<class 'pandas.core.frame.DataFrame'>\n",
            "Int64Index: 4175 entries, 6846 to 11020\n",
            "Data columns (total 2 columns):\n",
            " #   Column  Non-Null Count  Dtype         \n",
            "---  ------  --------------  -----         \n",
            " 0   Date    4175 non-null   datetime64[ns]\n",
            " 1   Prices  4175 non-null   float64       \n",
            "dtypes: datetime64[ns](1), float64(1)\n",
            "memory usage: 97.9 KB\n"
          ],
          "name": "stdout"
        }
      ]
    },
    {
      "cell_type": "code",
      "metadata": {
        "id": "CClxn0MAF344",
        "colab": {
          "base_uri": "https://localhost:8080/",
          "height": 204
        },
        "outputId": "e0917c12-1ff5-4234-acca-f3e861f0b032"
      },
      "source": [
        "data.head()"
      ],
      "execution_count": null,
      "outputs": [
        {
          "output_type": "execute_result",
          "data": {
            "text/html": [
              "<div>\n",
              "<style scoped>\n",
              "    .dataframe tbody tr th:only-of-type {\n",
              "        vertical-align: middle;\n",
              "    }\n",
              "\n",
              "    .dataframe tbody tr th {\n",
              "        vertical-align: top;\n",
              "    }\n",
              "\n",
              "    .dataframe thead th {\n",
              "        text-align: right;\n",
              "    }\n",
              "</style>\n",
              "<table border=\"1\" class=\"dataframe\">\n",
              "  <thead>\n",
              "    <tr style=\"text-align: right;\">\n",
              "      <th></th>\n",
              "      <th>Date</th>\n",
              "      <th>Prices</th>\n",
              "    </tr>\n",
              "  </thead>\n",
              "  <tbody>\n",
              "    <tr>\n",
              "      <th>6846</th>\n",
              "      <td>2005-03-28</td>\n",
              "      <td>425.15</td>\n",
              "    </tr>\n",
              "    <tr>\n",
              "      <th>6847</th>\n",
              "      <td>2005-03-29</td>\n",
              "      <td>426.10</td>\n",
              "    </tr>\n",
              "    <tr>\n",
              "      <th>6848</th>\n",
              "      <td>2005-03-30</td>\n",
              "      <td>426.45</td>\n",
              "    </tr>\n",
              "    <tr>\n",
              "      <th>6849</th>\n",
              "      <td>2005-03-31</td>\n",
              "      <td>427.50</td>\n",
              "    </tr>\n",
              "    <tr>\n",
              "      <th>6850</th>\n",
              "      <td>2005-04-01</td>\n",
              "      <td>427.15</td>\n",
              "    </tr>\n",
              "  </tbody>\n",
              "</table>\n",
              "</div>"
            ],
            "text/plain": [
              "           Date  Prices\n",
              "6846 2005-03-28  425.15\n",
              "6847 2005-03-29  426.10\n",
              "6848 2005-03-30  426.45\n",
              "6849 2005-03-31  427.50\n",
              "6850 2005-04-01  427.15"
            ]
          },
          "metadata": {
            "tags": []
          },
          "execution_count": 14
        }
      ]
    },
    {
      "cell_type": "code",
      "metadata": {
        "id": "A4mGAoHW-01e",
        "colab": {
          "base_uri": "https://localhost:8080/"
        },
        "outputId": "b0bd208e-4de7-43c5-da08-542586776cab"
      },
      "source": [
        "#Split into Data Train and Data Test ( 60:40 and 80:20) \n",
        "train_size = int(len(data) * 0.80)\n",
        "test_size = (int(len(data) - train_size))\n",
        "\n",
        "#Data training\n",
        "data_train = data[0:train_size]\n",
        "\n",
        "#Data testing\n",
        "data_test = data[train_size:len(data)]\n",
        "\n",
        "print(\"The amount of data train: \", len(data_train))\n",
        "print(\"The amount of data train: \", len(data_test))"
      ],
      "execution_count": null,
      "outputs": [
        {
          "output_type": "stream",
          "text": [
            "The amount of data train:  3340\n",
            "The amount of data train:  835\n"
          ],
          "name": "stdout"
        }
      ]
    },
    {
      "cell_type": "code",
      "metadata": {
        "id": "IZ6Ix2x6fDgK",
        "colab": {
          "base_uri": "https://localhost:8080/"
        },
        "outputId": "86eb1c82-78fa-4032-d3dd-dd7b86e35647"
      },
      "source": [
        "#Check missing values in data train\n",
        "data_train.isnull().sum()"
      ],
      "execution_count": null,
      "outputs": [
        {
          "output_type": "execute_result",
          "data": {
            "text/plain": [
              "Date      0\n",
              "Prices    0\n",
              "dtype: int64"
            ]
          },
          "metadata": {
            "tags": []
          },
          "execution_count": 16
        }
      ]
    },
    {
      "cell_type": "code",
      "metadata": {
        "id": "1bSDCFwqAa87",
        "colab": {
          "base_uri": "https://localhost:8080/"
        },
        "outputId": "0e7ab3f5-90c6-4587-d979-3bff87b3b10b"
      },
      "source": [
        "#Check missing values in data test\n",
        "data_test.isnull().sum()"
      ],
      "execution_count": null,
      "outputs": [
        {
          "output_type": "execute_result",
          "data": {
            "text/plain": [
              "Date      0\n",
              "Prices    0\n",
              "dtype: int64"
            ]
          },
          "metadata": {
            "tags": []
          },
          "execution_count": 17
        }
      ]
    },
    {
      "cell_type": "code",
      "metadata": {
        "id": "DsoSP7D8ArQ8"
      },
      "source": [
        "#Make data train into numpy array\n",
        "arr_price_train = data_train['Prices'].to_numpy()\n",
        "# arr_date_train = data_train['Date'].to_numpy()\n",
        "\n",
        "#Make data test into numpy array\n",
        "arr_price_test = data_test['Prices'].to_numpy()\n",
        "# arr_date_test = data_test['Date'].to_numpy()"
      ],
      "execution_count": null,
      "outputs": []
    },
    {
      "cell_type": "code",
      "metadata": {
        "id": "74YyC7ptkYA7"
      },
      "source": [
        "# scaler = MinMaxScaler(feature_range=(0, 1))\n",
        "# rescaledX = scaler.fit_transform(X)"
      ],
      "execution_count": null,
      "outputs": []
    },
    {
      "cell_type": "code",
      "metadata": {
        "id": "MuBwDLtmBI36"
      },
      "source": [
        "scalerMinMax = MinMaxScaler(feature_range=(0, 1))\n",
        "# scalerStandard = StandardScaler() \n",
        "\n",
        "#Normalize the data train\n",
        "scaled_data_train = scalerMinMax.fit_transform(arr_price_train.reshape(-1,1))\n",
        "\n",
        "#Normalize the data test\n",
        "scaled_data_test = scalerMinMax.fit_transform(arr_price_test.reshape(-1,1))\n"
      ],
      "execution_count": null,
      "outputs": []
    },
    {
      "cell_type": "code",
      "metadata": {
        "id": "hhZrmB5wBbjO",
        "colab": {
          "base_uri": "https://localhost:8080/"
        },
        "outputId": "ed170a09-4181-47a3-93bf-8b2a1b6e9b41"
      },
      "source": [
        "#Checking the normalize result\n",
        "for i in range(len(scaled_data_train)):\n",
        "    if (i <= 5):\n",
        "        print(scaled_data_train[i])"
      ],
      "execution_count": null,
      "outputs": [
        {
          "output_type": "stream",
          "text": [
            "[0.00722704]\n",
            "[0.0078687]\n",
            "[0.0081051]\n",
            "[0.00881429]\n",
            "[0.00857789]\n",
            "[0.00638276]\n"
          ],
          "name": "stdout"
        }
      ]
    },
    {
      "cell_type": "markdown",
      "metadata": {
        "id": "wI1anp732e06"
      },
      "source": [
        "The first step is to split the input sequences into subsequences that can be processed by the CNN model. For example, we can first split our univariate time series data into input/output samples with four steps as input and one as output. Each sample can then be split into two sub-samples, each with two time steps. The CNN can interpret each subsequence of two time steps and provide a time series of interpretations of the subsequences to the LSTM model to process as input.\n",
        "\n",
        "We can parameterize this and define the number of subsequences as n_seq and the number of time steps per subsequence as n_steps. The input data can then be reshaped to have the required structure"
      ]
    },
    {
      "cell_type": "code",
      "metadata": {
        "id": "W-PUE1tblrTh"
      },
      "source": [
        "#Split a univariate sequence into samples\n",
        "def splitSequences(data, n_steps):\n",
        "    x, y = list(),list()\n",
        "    for i in range(len(data)):\n",
        "        #Find the end of this pattern\n",
        "        end = i + n_steps\n",
        "        #Check if we are beyond the sequence\n",
        "        if end > len(data)-1:\n",
        "            break\n",
        "        #Gather input and outputs part of the pattern\n",
        "        seq_x, seq_y = data[i:end], data[end]\n",
        "        x.append(seq_x)\n",
        "        y.append(seq_y)\n",
        "    return x, y"
      ],
      "execution_count": null,
      "outputs": []
    },
    {
      "cell_type": "code",
      "metadata": {
        "id": "e5oa983a35uD",
        "colab": {
          "base_uri": "https://localhost:8080/"
        },
        "outputId": "3bfe6f66-6f95-416e-fdf1-72392c4bb5c3"
      },
      "source": [
        "len(data_train)"
      ],
      "execution_count": null,
      "outputs": [
        {
          "output_type": "execute_result",
          "data": {
            "text/plain": [
              "3340"
            ]
          },
          "metadata": {
            "tags": []
          },
          "execution_count": 23
        }
      ]
    },
    {
      "cell_type": "code",
      "metadata": {
        "id": "hoZyfT1FB81N"
      },
      "source": [
        "#Scaled data train became the input sequence\n",
        "input_seq_train = scaled_data_train\n",
        "\n",
        "#Scaled data test became the input sequence\n",
        "input_seq_test = scaled_data_test"
      ],
      "execution_count": null,
      "outputs": []
    },
    {
      "cell_type": "code",
      "metadata": {
        "id": "TMSl4SDIBzwU",
        "colab": {
          "base_uri": "https://localhost:8080/"
        },
        "outputId": "f336f23e-447b-4d87-bcb6-2e4eb05ebe8e"
      },
      "source": [
        "#Choose a number of time steps (In this case time steps = 4)\n",
        "\n",
        "n_steps = 4\n",
        "train_X, train_y = splitSequences(input_seq_train, n_steps)\n",
        "test_X, test_y = splitSequences(input_seq_test, n_steps)\n",
        "\n",
        "print(\"The amount of data train: \", len(train_X))\n",
        "print(\"The amount of data train: \", len(test_X))"
      ],
      "execution_count": null,
      "outputs": [
        {
          "output_type": "stream",
          "text": [
            "The amount of data train:  3336\n",
            "The amount of data train:  831\n"
          ],
          "name": "stdout"
        }
      ]
    },
    {
      "cell_type": "code",
      "metadata": {
        "id": "g1ilyUvt8fvT"
      },
      "source": [
        "#Make data into numpy array\n",
        "\n",
        "train_X = np.asarray(train_X)\n",
        "train_y = np.asarray(train_y)\n",
        "\n",
        "test_X = np.asarray(test_X)\n",
        "test_y = np.asarray(test_y)"
      ],
      "execution_count": null,
      "outputs": []
    },
    {
      "cell_type": "code",
      "metadata": {
        "id": "pe_Y6huwmNiW"
      },
      "source": [
        "#Reshape from [samples, timesteps] into[samples, subsequence, timesteps, features]\n",
        "n_features = 1\n",
        "n_steps = 4\n",
        "n_seq = 1\n",
        "\n",
        "# #Reshape for data train\n",
        "train_X = train_X.reshape((train_X.shape[0], n_seq, n_steps, n_features))\n",
        "\n",
        "#Reshape for data test\n",
        "test_X = test_X.reshape((test_X.shape[0], n_seq, n_steps, n_features))"
      ],
      "execution_count": null,
      "outputs": []
    },
    {
      "cell_type": "code",
      "metadata": {
        "id": "H0iF53IlzNYC",
        "colab": {
          "base_uri": "https://localhost:8080/"
        },
        "outputId": "4d99722e-6664-4ee5-ee16-5739c60cbc14"
      },
      "source": [
        "train_X"
      ],
      "execution_count": null,
      "outputs": [
        {
          "output_type": "execute_result",
          "data": {
            "text/plain": [
              "array([[[[0.00722704],\n",
              "         [0.0078687 ],\n",
              "         [0.0081051 ],\n",
              "         [0.00881429]]],\n",
              "\n",
              "\n",
              "       [[[0.0078687 ],\n",
              "         [0.0081051 ],\n",
              "         [0.00881429],\n",
              "         [0.00857789]]],\n",
              "\n",
              "\n",
              "       [[[0.0081051 ],\n",
              "         [0.00881429],\n",
              "         [0.00857789],\n",
              "         [0.00638276]]],\n",
              "\n",
              "\n",
              "       ...,\n",
              "\n",
              "\n",
              "       [[[0.60791598],\n",
              "         [0.60970585],\n",
              "         [0.61159704],\n",
              "         [0.60555199]]],\n",
              "\n",
              "\n",
              "       [[[0.60970585],\n",
              "         [0.61159704],\n",
              "         [0.60555199],\n",
              "         [0.61146196]]],\n",
              "\n",
              "\n",
              "       [[[0.61159704],\n",
              "         [0.60555199],\n",
              "         [0.61146196],\n",
              "         [0.61369086]]]])"
            ]
          },
          "metadata": {
            "tags": []
          },
          "execution_count": 28
        }
      ]
    },
    {
      "cell_type": "markdown",
      "metadata": {
        "id": "snThUCc1cg0r"
      },
      "source": [
        "## Building Model"
      ]
    },
    {
      "cell_type": "markdown",
      "metadata": {
        "id": "IVxCynX6BsCt"
      },
      "source": [
        "![cnn-lstm fix.png](data:image/png;base64,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)"
      ]
    },
    {
      "cell_type": "code",
      "metadata": {
        "id": "UGMKJ19pYlot"
      },
      "source": [
        "#Not get random result\n",
        "\n",
        "np.random.seed(123)\n",
        "python_random.seed(123)\n",
        "tf.random.set_seed(12345)"
      ],
      "execution_count": null,
      "outputs": []
    },
    {
      "cell_type": "code",
      "metadata": {
        "id": "DWPAnFOEnUPw"
      },
      "source": [
        "# Define Model CNN-LSTM\n",
        "\n",
        "model = Sequential()\n",
        "model.add(TimeDistributed(Conv1D(filters=64, kernel_size=2, activation=\"relu\"), input_shape=(None, n_steps, n_features)))\n",
        "model.add(TimeDistributed(Conv1D(filters=128, kernel_size=2)))\n",
        "model.add(TimeDistributed(MaxPooling1D(pool_size=2)))\n",
        "model.add(TimeDistributed(Flatten()))\n",
        "model.add(LSTM(300))\n",
        "# model.add(Dropout(0.1))\n",
        "model.add(Dense(32)) # Code for Fully Connected Layer\n",
        "model.add(Dense(1, activation=\"relu\")) # Output Layer\n",
        "model.compile(optimizer='Adam', loss='mean_squared_error')\n",
        "\n",
        "earlyStop = EarlyStopping(monitor='val_loss', mode='min', verbose=1, patience=30)"
      ],
      "execution_count": null,
      "outputs": []
    },
    {
      "cell_type": "code",
      "metadata": {
        "id": "hBKR6e8saZ1t",
        "colab": {
          "base_uri": "https://localhost:8080/"
        },
        "outputId": "9fbda076-a121-4f2b-c7b3-8818af240da4"
      },
      "source": [
        "model.summary()"
      ],
      "execution_count": null,
      "outputs": [
        {
          "output_type": "stream",
          "text": [
            "Model: \"sequential\"\n",
            "_________________________________________________________________\n",
            "Layer (type)                 Output Shape              Param #   \n",
            "=================================================================\n",
            "time_distributed (TimeDistri (None, None, 3, 64)       192       \n",
            "_________________________________________________________________\n",
            "time_distributed_1 (TimeDist (None, None, 2, 128)      16512     \n",
            "_________________________________________________________________\n",
            "time_distributed_2 (TimeDist (None, None, 1, 128)      0         \n",
            "_________________________________________________________________\n",
            "time_distributed_3 (TimeDist (None, None, 128)         0         \n",
            "_________________________________________________________________\n",
            "lstm (LSTM)                  (None, 300)               514800    \n",
            "_________________________________________________________________\n",
            "dense (Dense)                (None, 32)                9632      \n",
            "_________________________________________________________________\n",
            "dense_1 (Dense)              (None, 1)                 33        \n",
            "=================================================================\n",
            "Total params: 541,169\n",
            "Trainable params: 541,169\n",
            "Non-trainable params: 0\n",
            "_________________________________________________________________\n"
          ],
          "name": "stdout"
        }
      ]
    },
    {
      "cell_type": "markdown",
      "metadata": {
        "id": "gwtnhRBDckxN"
      },
      "source": [
        "## Training Model"
      ]
    },
    {
      "cell_type": "code",
      "metadata": {
        "id": "NTwwJcUpnXNG",
        "colab": {
          "base_uri": "https://localhost:8080/"
        },
        "outputId": "490e384b-270a-42dc-ff5c-f2943f4626ca"
      },
      "source": [
        "#Training Model\n",
        "model_train = model.fit(train_X, train_y, validation_split=0.33, epochs=1000, batch_size=512, verbose=1, callbacks=[earlyStop])"
      ],
      "execution_count": null,
      "outputs": [
        {
          "output_type": "stream",
          "text": [
            "Epoch 1/1000\n",
            "5/5 [==============================] - 4s 156ms/step - loss: 0.1410 - val_loss: 0.0015\n",
            "Epoch 2/1000\n",
            "5/5 [==============================] - 0s 16ms/step - loss: 0.0304 - val_loss: 0.0077\n",
            "Epoch 3/1000\n",
            "5/5 [==============================] - 0s 15ms/step - loss: 0.0083 - val_loss: 0.0184\n",
            "Epoch 4/1000\n",
            "5/5 [==============================] - 0s 15ms/step - loss: 0.0156 - val_loss: 7.1277e-04\n",
            "Epoch 5/1000\n",
            "5/5 [==============================] - 0s 15ms/step - loss: 0.0039 - val_loss: 0.0078\n",
            "Epoch 6/1000\n",
            "5/5 [==============================] - 0s 14ms/step - loss: 0.0040 - val_loss: 6.0170e-04\n",
            "Epoch 7/1000\n",
            "5/5 [==============================] - 0s 15ms/step - loss: 0.0023 - val_loss: 0.0015\n",
            "Epoch 8/1000\n",
            "5/5 [==============================] - 0s 16ms/step - loss: 7.3758e-04 - val_loss: 0.0015\n",
            "Epoch 9/1000\n",
            "5/5 [==============================] - 0s 16ms/step - loss: 0.0011 - val_loss: 1.3038e-04\n",
            "Epoch 10/1000\n",
            "5/5 [==============================] - 0s 15ms/step - loss: 4.5993e-04 - val_loss: 4.7297e-04\n",
            "Epoch 11/1000\n",
            "5/5 [==============================] - 0s 16ms/step - loss: 3.9552e-04 - val_loss: 3.8627e-04\n",
            "Epoch 12/1000\n",
            "5/5 [==============================] - 0s 14ms/step - loss: 3.8115e-04 - val_loss: 1.7810e-04\n",
            "Epoch 13/1000\n",
            "5/5 [==============================] - 0s 15ms/step - loss: 2.4111e-04 - val_loss: 1.4604e-04\n",
            "Epoch 14/1000\n",
            "5/5 [==============================] - 0s 15ms/step - loss: 2.4630e-04 - val_loss: 2.1417e-04\n",
            "Epoch 15/1000\n",
            "5/5 [==============================] - 0s 14ms/step - loss: 2.5069e-04 - val_loss: 1.3341e-04\n",
            "Epoch 16/1000\n",
            "5/5 [==============================] - 0s 15ms/step - loss: 2.0958e-04 - val_loss: 9.9777e-05\n",
            "Epoch 17/1000\n",
            "5/5 [==============================] - 0s 17ms/step - loss: 2.0655e-04 - val_loss: 1.5881e-04\n",
            "Epoch 18/1000\n",
            "5/5 [==============================] - 0s 15ms/step - loss: 2.0613e-04 - val_loss: 1.1555e-04\n",
            "Epoch 19/1000\n",
            "5/5 [==============================] - 0s 16ms/step - loss: 2.0037e-04 - val_loss: 1.0920e-04\n",
            "Epoch 20/1000\n",
            "5/5 [==============================] - 0s 15ms/step - loss: 1.9791e-04 - val_loss: 1.3449e-04\n",
            "Epoch 21/1000\n",
            "5/5 [==============================] - 0s 17ms/step - loss: 1.9852e-04 - val_loss: 1.1206e-04\n",
            "Epoch 22/1000\n",
            "5/5 [==============================] - 0s 16ms/step - loss: 1.9646e-04 - val_loss: 1.1800e-04\n",
            "Epoch 23/1000\n",
            "5/5 [==============================] - 0s 15ms/step - loss: 1.9644e-04 - val_loss: 1.1919e-04\n",
            "Epoch 24/1000\n",
            "5/5 [==============================] - 0s 15ms/step - loss: 1.9541e-04 - val_loss: 1.1001e-04\n",
            "Epoch 25/1000\n",
            "5/5 [==============================] - 0s 15ms/step - loss: 1.9543e-04 - val_loss: 1.1823e-04\n",
            "Epoch 26/1000\n",
            "5/5 [==============================] - 0s 16ms/step - loss: 1.9500e-04 - val_loss: 1.1432e-04\n",
            "Epoch 27/1000\n",
            "5/5 [==============================] - 0s 15ms/step - loss: 1.9434e-04 - val_loss: 1.1429e-04\n",
            "Epoch 28/1000\n",
            "5/5 [==============================] - 0s 14ms/step - loss: 1.9415e-04 - val_loss: 1.1418e-04\n",
            "Epoch 29/1000\n",
            "5/5 [==============================] - 0s 15ms/step - loss: 1.9373e-04 - val_loss: 1.1006e-04\n",
            "Epoch 30/1000\n",
            "5/5 [==============================] - 0s 16ms/step - loss: 1.9353e-04 - val_loss: 1.0819e-04\n",
            "Epoch 31/1000\n",
            "5/5 [==============================] - 0s 15ms/step - loss: 1.9302e-04 - val_loss: 1.0933e-04\n",
            "Epoch 32/1000\n",
            "5/5 [==============================] - 0s 16ms/step - loss: 1.9248e-04 - val_loss: 1.0612e-04\n",
            "Epoch 33/1000\n",
            "5/5 [==============================] - 0s 15ms/step - loss: 1.9216e-04 - val_loss: 1.0888e-04\n",
            "Epoch 34/1000\n",
            "5/5 [==============================] - 0s 15ms/step - loss: 1.9163e-04 - val_loss: 1.0264e-04\n",
            "Epoch 35/1000\n",
            "5/5 [==============================] - 0s 15ms/step - loss: 1.9182e-04 - val_loss: 1.0773e-04\n",
            "Epoch 36/1000\n",
            "5/5 [==============================] - 0s 14ms/step - loss: 1.9248e-04 - val_loss: 1.0115e-04\n",
            "Epoch 37/1000\n",
            "5/5 [==============================] - 0s 15ms/step - loss: 1.9103e-04 - val_loss: 1.0059e-04\n",
            "Epoch 38/1000\n",
            "5/5 [==============================] - 0s 15ms/step - loss: 1.9026e-04 - val_loss: 1.0435e-04\n",
            "Epoch 39/1000\n",
            "5/5 [==============================] - 0s 15ms/step - loss: 1.8935e-04 - val_loss: 9.7990e-05\n",
            "Epoch 40/1000\n",
            "5/5 [==============================] - 0s 16ms/step - loss: 1.8898e-04 - val_loss: 1.0177e-04\n",
            "Epoch 41/1000\n",
            "5/5 [==============================] - 0s 16ms/step - loss: 1.8855e-04 - val_loss: 9.8246e-05\n",
            "Epoch 42/1000\n",
            "5/5 [==============================] - 0s 15ms/step - loss: 1.8891e-04 - val_loss: 1.0104e-04\n",
            "Epoch 43/1000\n",
            "5/5 [==============================] - 0s 16ms/step - loss: 1.8915e-04 - val_loss: 9.6971e-05\n",
            "Epoch 44/1000\n",
            "5/5 [==============================] - 0s 15ms/step - loss: 1.8950e-04 - val_loss: 9.9136e-05\n",
            "Epoch 45/1000\n",
            "5/5 [==============================] - 0s 15ms/step - loss: 1.8703e-04 - val_loss: 9.9158e-05\n",
            "Epoch 46/1000\n",
            "5/5 [==============================] - 0s 15ms/step - loss: 1.8652e-04 - val_loss: 9.7123e-05\n",
            "Epoch 47/1000\n",
            "5/5 [==============================] - 0s 16ms/step - loss: 1.8748e-04 - val_loss: 9.6465e-05\n",
            "Epoch 48/1000\n",
            "5/5 [==============================] - 0s 15ms/step - loss: 1.9068e-04 - val_loss: 1.0358e-04\n",
            "Epoch 49/1000\n",
            "5/5 [==============================] - 0s 15ms/step - loss: 1.8928e-04 - val_loss: 9.6671e-05\n",
            "Epoch 50/1000\n",
            "5/5 [==============================] - 0s 15ms/step - loss: 1.8489e-04 - val_loss: 9.7513e-05\n",
            "Epoch 51/1000\n",
            "5/5 [==============================] - 0s 15ms/step - loss: 1.8488e-04 - val_loss: 9.7800e-05\n",
            "Epoch 52/1000\n",
            "5/5 [==============================] - 0s 14ms/step - loss: 1.8508e-04 - val_loss: 9.5885e-05\n",
            "Epoch 53/1000\n",
            "5/5 [==============================] - 0s 14ms/step - loss: 1.8531e-04 - val_loss: 9.9105e-05\n",
            "Epoch 54/1000\n",
            "5/5 [==============================] - 0s 15ms/step - loss: 1.8376e-04 - val_loss: 9.5485e-05\n",
            "Epoch 55/1000\n",
            "5/5 [==============================] - 0s 15ms/step - loss: 1.8437e-04 - val_loss: 1.0234e-04\n",
            "Epoch 56/1000\n",
            "5/5 [==============================] - 0s 16ms/step - loss: 1.8349e-04 - val_loss: 9.6449e-05\n",
            "Epoch 57/1000\n",
            "5/5 [==============================] - 0s 16ms/step - loss: 1.9052e-04 - val_loss: 1.1060e-04\n",
            "Epoch 58/1000\n",
            "5/5 [==============================] - 0s 15ms/step - loss: 1.8830e-04 - val_loss: 9.5108e-05\n",
            "Epoch 59/1000\n",
            "5/5 [==============================] - 0s 15ms/step - loss: 1.8229e-04 - val_loss: 9.9834e-05\n",
            "Epoch 60/1000\n",
            "5/5 [==============================] - 0s 15ms/step - loss: 1.8338e-04 - val_loss: 9.7108e-05\n",
            "Epoch 61/1000\n",
            "5/5 [==============================] - 0s 15ms/step - loss: 1.8212e-04 - val_loss: 9.4847e-05\n",
            "Epoch 62/1000\n",
            "5/5 [==============================] - 0s 15ms/step - loss: 1.8165e-04 - val_loss: 1.0383e-04\n",
            "Epoch 63/1000\n",
            "5/5 [==============================] - 0s 15ms/step - loss: 1.8310e-04 - val_loss: 9.4511e-05\n",
            "Epoch 64/1000\n",
            "5/5 [==============================] - 0s 18ms/step - loss: 1.8091e-04 - val_loss: 1.0031e-04\n",
            "Epoch 65/1000\n",
            "5/5 [==============================] - 0s 16ms/step - loss: 1.8128e-04 - val_loss: 9.4284e-05\n",
            "Epoch 66/1000\n",
            "5/5 [==============================] - 0s 15ms/step - loss: 1.8188e-04 - val_loss: 9.8988e-05\n",
            "Epoch 67/1000\n",
            "5/5 [==============================] - 0s 14ms/step - loss: 1.7983e-04 - val_loss: 9.4062e-05\n",
            "Epoch 68/1000\n",
            "5/5 [==============================] - 0s 15ms/step - loss: 1.8004e-04 - val_loss: 1.0465e-04\n",
            "Epoch 69/1000\n",
            "5/5 [==============================] - 0s 15ms/step - loss: 1.8127e-04 - val_loss: 9.3883e-05\n",
            "Epoch 70/1000\n",
            "5/5 [==============================] - 0s 16ms/step - loss: 1.7972e-04 - val_loss: 1.0192e-04\n",
            "Epoch 71/1000\n",
            "5/5 [==============================] - 0s 15ms/step - loss: 1.7928e-04 - val_loss: 9.3610e-05\n",
            "Epoch 72/1000\n",
            "5/5 [==============================] - 0s 16ms/step - loss: 1.7946e-04 - val_loss: 9.8197e-05\n",
            "Epoch 73/1000\n",
            "5/5 [==============================] - 0s 15ms/step - loss: 1.7894e-04 - val_loss: 9.7216e-05\n",
            "Epoch 74/1000\n",
            "5/5 [==============================] - 0s 16ms/step - loss: 1.8011e-04 - val_loss: 9.5368e-05\n",
            "Epoch 75/1000\n",
            "5/5 [==============================] - 0s 14ms/step - loss: 1.8334e-04 - val_loss: 1.2707e-04\n",
            "Epoch 76/1000\n",
            "5/5 [==============================] - 0s 15ms/step - loss: 1.8816e-04 - val_loss: 9.4807e-05\n",
            "Epoch 77/1000\n",
            "5/5 [==============================] - 0s 15ms/step - loss: 1.8182e-04 - val_loss: 9.6626e-05\n",
            "Epoch 78/1000\n",
            "5/5 [==============================] - 0s 15ms/step - loss: 1.7929e-04 - val_loss: 1.0058e-04\n",
            "Epoch 79/1000\n",
            "5/5 [==============================] - 0s 15ms/step - loss: 1.8421e-04 - val_loss: 9.9601e-05\n",
            "Epoch 80/1000\n",
            "5/5 [==============================] - 0s 15ms/step - loss: 1.8623e-04 - val_loss: 1.2165e-04\n",
            "Epoch 81/1000\n",
            "5/5 [==============================] - 0s 16ms/step - loss: 1.8462e-04 - val_loss: 9.2414e-05\n",
            "Epoch 82/1000\n",
            "5/5 [==============================] - 0s 16ms/step - loss: 1.7889e-04 - val_loss: 9.2674e-05\n",
            "Epoch 83/1000\n",
            "5/5 [==============================] - 0s 16ms/step - loss: 1.8067e-04 - val_loss: 1.1435e-04\n",
            "Epoch 84/1000\n",
            "5/5 [==============================] - 0s 15ms/step - loss: 1.8263e-04 - val_loss: 9.8294e-05\n",
            "Epoch 85/1000\n",
            "5/5 [==============================] - 0s 16ms/step - loss: 1.8324e-04 - val_loss: 1.0548e-04\n",
            "Epoch 86/1000\n",
            "5/5 [==============================] - 0s 15ms/step - loss: 1.7665e-04 - val_loss: 9.1928e-05\n",
            "Epoch 87/1000\n",
            "5/5 [==============================] - 0s 17ms/step - loss: 1.7527e-04 - val_loss: 9.4689e-05\n",
            "Epoch 88/1000\n",
            "5/5 [==============================] - 0s 15ms/step - loss: 1.7405e-04 - val_loss: 9.1771e-05\n",
            "Epoch 89/1000\n",
            "5/5 [==============================] - 0s 15ms/step - loss: 1.7898e-04 - val_loss: 1.0322e-04\n",
            "Epoch 90/1000\n",
            "5/5 [==============================] - 0s 15ms/step - loss: 1.7570e-04 - val_loss: 9.1332e-05\n",
            "Epoch 91/1000\n",
            "5/5 [==============================] - 0s 15ms/step - loss: 1.7350e-04 - val_loss: 9.5247e-05\n",
            "Epoch 92/1000\n",
            "5/5 [==============================] - 0s 16ms/step - loss: 1.7289e-04 - val_loss: 9.0625e-05\n",
            "Epoch 93/1000\n",
            "5/5 [==============================] - 0s 15ms/step - loss: 1.7358e-04 - val_loss: 9.4353e-05\n",
            "Epoch 94/1000\n",
            "5/5 [==============================] - 0s 15ms/step - loss: 1.7243e-04 - val_loss: 9.3152e-05\n",
            "Epoch 95/1000\n",
            "5/5 [==============================] - 0s 16ms/step - loss: 1.7146e-04 - val_loss: 9.0722e-05\n",
            "Epoch 96/1000\n",
            "5/5 [==============================] - 0s 17ms/step - loss: 1.7150e-04 - val_loss: 9.2349e-05\n",
            "Epoch 97/1000\n",
            "5/5 [==============================] - 0s 15ms/step - loss: 1.7075e-04 - val_loss: 9.0114e-05\n",
            "Epoch 98/1000\n",
            "5/5 [==============================] - 0s 15ms/step - loss: 1.7097e-04 - val_loss: 9.5135e-05\n",
            "Epoch 99/1000\n",
            "5/5 [==============================] - 0s 15ms/step - loss: 1.7049e-04 - val_loss: 8.9881e-05\n",
            "Epoch 100/1000\n",
            "5/5 [==============================] - 0s 15ms/step - loss: 1.6958e-04 - val_loss: 9.3858e-05\n",
            "Epoch 101/1000\n",
            "5/5 [==============================] - 0s 15ms/step - loss: 1.7114e-04 - val_loss: 9.7035e-05\n",
            "Epoch 102/1000\n",
            "5/5 [==============================] - 0s 15ms/step - loss: 1.6940e-04 - val_loss: 8.8987e-05\n",
            "Epoch 103/1000\n",
            "5/5 [==============================] - 0s 16ms/step - loss: 1.6919e-04 - val_loss: 9.3629e-05\n",
            "Epoch 104/1000\n",
            "5/5 [==============================] - 0s 15ms/step - loss: 1.6910e-04 - val_loss: 9.5087e-05\n",
            "Epoch 105/1000\n",
            "5/5 [==============================] - 0s 15ms/step - loss: 1.6943e-04 - val_loss: 9.5310e-05\n",
            "Epoch 106/1000\n",
            "5/5 [==============================] - 0s 15ms/step - loss: 1.6945e-04 - val_loss: 8.9831e-05\n",
            "Epoch 107/1000\n",
            "5/5 [==============================] - 0s 15ms/step - loss: 1.7090e-04 - val_loss: 1.0067e-04\n",
            "Epoch 108/1000\n",
            "5/5 [==============================] - 0s 15ms/step - loss: 1.6868e-04 - val_loss: 8.9536e-05\n",
            "Epoch 109/1000\n",
            "5/5 [==============================] - 0s 16ms/step - loss: 1.6613e-04 - val_loss: 9.3752e-05\n",
            "Epoch 110/1000\n",
            "5/5 [==============================] - 0s 15ms/step - loss: 1.6612e-04 - val_loss: 8.7352e-05\n",
            "Epoch 111/1000\n",
            "5/5 [==============================] - 0s 15ms/step - loss: 1.6650e-04 - val_loss: 9.3070e-05\n",
            "Epoch 112/1000\n",
            "5/5 [==============================] - 0s 17ms/step - loss: 1.6662e-04 - val_loss: 8.7027e-05\n",
            "Epoch 113/1000\n",
            "5/5 [==============================] - 0s 16ms/step - loss: 1.6775e-04 - val_loss: 8.7654e-05\n",
            "Epoch 114/1000\n",
            "5/5 [==============================] - 0s 15ms/step - loss: 1.6751e-04 - val_loss: 9.8006e-05\n",
            "Epoch 115/1000\n",
            "5/5 [==============================] - 0s 15ms/step - loss: 1.6788e-04 - val_loss: 9.9080e-05\n",
            "Epoch 116/1000\n",
            "5/5 [==============================] - 0s 14ms/step - loss: 1.6677e-04 - val_loss: 9.2727e-05\n",
            "Epoch 117/1000\n",
            "5/5 [==============================] - 0s 15ms/step - loss: 1.6688e-04 - val_loss: 1.1182e-04\n",
            "Epoch 118/1000\n",
            "5/5 [==============================] - 0s 16ms/step - loss: 1.6718e-04 - val_loss: 8.8885e-05\n",
            "Epoch 119/1000\n",
            "5/5 [==============================] - 0s 16ms/step - loss: 1.6456e-04 - val_loss: 8.6459e-05\n",
            "Epoch 120/1000\n",
            "5/5 [==============================] - 0s 15ms/step - loss: 1.6822e-04 - val_loss: 8.5792e-05\n",
            "Epoch 121/1000\n",
            "5/5 [==============================] - 0s 15ms/step - loss: 1.6730e-04 - val_loss: 1.0329e-04\n",
            "Epoch 122/1000\n",
            "5/5 [==============================] - 0s 17ms/step - loss: 1.6379e-04 - val_loss: 8.7550e-05\n",
            "Epoch 123/1000\n",
            "5/5 [==============================] - 0s 15ms/step - loss: 1.6197e-04 - val_loss: 8.5103e-05\n",
            "Epoch 124/1000\n",
            "5/5 [==============================] - 0s 14ms/step - loss: 1.6118e-04 - val_loss: 9.9402e-05\n",
            "Epoch 125/1000\n",
            "5/5 [==============================] - 0s 15ms/step - loss: 1.6458e-04 - val_loss: 8.4602e-05\n",
            "Epoch 126/1000\n",
            "5/5 [==============================] - 0s 16ms/step - loss: 1.6128e-04 - val_loss: 8.4389e-05\n",
            "Epoch 127/1000\n",
            "5/5 [==============================] - 0s 15ms/step - loss: 1.6338e-04 - val_loss: 8.6662e-05\n",
            "Epoch 128/1000\n",
            "5/5 [==============================] - 0s 15ms/step - loss: 1.6039e-04 - val_loss: 9.5111e-05\n",
            "Epoch 129/1000\n",
            "5/5 [==============================] - 0s 16ms/step - loss: 1.6170e-04 - val_loss: 8.9159e-05\n",
            "Epoch 130/1000\n",
            "5/5 [==============================] - 0s 15ms/step - loss: 1.6181e-04 - val_loss: 9.6586e-05\n",
            "Epoch 131/1000\n",
            "5/5 [==============================] - 0s 15ms/step - loss: 1.6143e-04 - val_loss: 8.6404e-05\n",
            "Epoch 132/1000\n",
            "5/5 [==============================] - 0s 15ms/step - loss: 1.6309e-04 - val_loss: 8.4669e-05\n",
            "Epoch 133/1000\n",
            "5/5 [==============================] - 0s 14ms/step - loss: 1.5780e-04 - val_loss: 8.3275e-05\n",
            "Epoch 134/1000\n",
            "5/5 [==============================] - 0s 16ms/step - loss: 1.5950e-04 - val_loss: 8.9813e-05\n",
            "Epoch 135/1000\n",
            "5/5 [==============================] - 0s 16ms/step - loss: 1.5849e-04 - val_loss: 8.9335e-05\n",
            "Epoch 136/1000\n",
            "5/5 [==============================] - 0s 15ms/step - loss: 1.5718e-04 - val_loss: 8.2526e-05\n",
            "Epoch 137/1000\n",
            "5/5 [==============================] - 0s 15ms/step - loss: 1.5721e-04 - val_loss: 8.2318e-05\n",
            "Epoch 138/1000\n",
            "5/5 [==============================] - 0s 15ms/step - loss: 1.5652e-04 - val_loss: 8.4435e-05\n",
            "Epoch 139/1000\n",
            "5/5 [==============================] - 0s 16ms/step - loss: 1.5569e-04 - val_loss: 8.7584e-05\n",
            "Epoch 140/1000\n",
            "5/5 [==============================] - 0s 15ms/step - loss: 1.5635e-04 - val_loss: 8.2628e-05\n",
            "Epoch 141/1000\n",
            "5/5 [==============================] - 0s 16ms/step - loss: 1.5494e-04 - val_loss: 8.1548e-05\n",
            "Epoch 142/1000\n",
            "5/5 [==============================] - 0s 16ms/step - loss: 1.5530e-04 - val_loss: 8.9855e-05\n",
            "Epoch 143/1000\n",
            "5/5 [==============================] - 0s 15ms/step - loss: 1.5680e-04 - val_loss: 1.0553e-04\n",
            "Epoch 144/1000\n",
            "5/5 [==============================] - 0s 15ms/step - loss: 1.6108e-04 - val_loss: 8.4283e-05\n",
            "Epoch 145/1000\n",
            "5/5 [==============================] - 0s 17ms/step - loss: 1.6649e-04 - val_loss: 9.5356e-05\n",
            "Epoch 146/1000\n",
            "5/5 [==============================] - 0s 15ms/step - loss: 1.6447e-04 - val_loss: 8.7513e-05\n",
            "Epoch 147/1000\n",
            "5/5 [==============================] - 0s 15ms/step - loss: 1.6524e-04 - val_loss: 8.0683e-05\n",
            "Epoch 148/1000\n",
            "5/5 [==============================] - 0s 17ms/step - loss: 1.5478e-04 - val_loss: 8.9952e-05\n",
            "Epoch 149/1000\n",
            "5/5 [==============================] - 0s 16ms/step - loss: 1.5428e-04 - val_loss: 9.8234e-05\n",
            "Epoch 150/1000\n",
            "5/5 [==============================] - 0s 15ms/step - loss: 1.5864e-04 - val_loss: 8.0050e-05\n",
            "Epoch 151/1000\n",
            "5/5 [==============================] - 0s 15ms/step - loss: 1.5272e-04 - val_loss: 7.9863e-05\n",
            "Epoch 152/1000\n",
            "5/5 [==============================] - 0s 15ms/step - loss: 1.5205e-04 - val_loss: 7.9710e-05\n",
            "Epoch 153/1000\n",
            "5/5 [==============================] - 0s 15ms/step - loss: 1.5478e-04 - val_loss: 8.0278e-05\n",
            "Epoch 154/1000\n",
            "5/5 [==============================] - 0s 15ms/step - loss: 1.5508e-04 - val_loss: 8.3724e-05\n",
            "Epoch 155/1000\n",
            "5/5 [==============================] - 0s 15ms/step - loss: 1.5040e-04 - val_loss: 9.7866e-05\n",
            "Epoch 156/1000\n",
            "5/5 [==============================] - 0s 16ms/step - loss: 1.5573e-04 - val_loss: 8.9062e-05\n",
            "Epoch 157/1000\n",
            "5/5 [==============================] - 0s 16ms/step - loss: 1.5389e-04 - val_loss: 8.6330e-05\n",
            "Epoch 158/1000\n",
            "5/5 [==============================] - 0s 18ms/step - loss: 1.5245e-04 - val_loss: 7.8537e-05\n",
            "Epoch 159/1000\n",
            "5/5 [==============================] - 0s 16ms/step - loss: 1.4999e-04 - val_loss: 8.2734e-05\n",
            "Epoch 160/1000\n",
            "5/5 [==============================] - 0s 15ms/step - loss: 1.5755e-04 - val_loss: 7.9460e-05\n",
            "Epoch 161/1000\n",
            "5/5 [==============================] - 0s 16ms/step - loss: 1.5628e-04 - val_loss: 8.3548e-05\n",
            "Epoch 162/1000\n",
            "5/5 [==============================] - 0s 16ms/step - loss: 1.6573e-04 - val_loss: 7.8657e-05\n",
            "Epoch 163/1000\n",
            "5/5 [==============================] - 0s 15ms/step - loss: 1.5798e-04 - val_loss: 8.3096e-05\n",
            "Epoch 164/1000\n",
            "5/5 [==============================] - 0s 16ms/step - loss: 1.5026e-04 - val_loss: 8.7741e-05\n",
            "Epoch 165/1000\n",
            "5/5 [==============================] - 0s 15ms/step - loss: 1.4810e-04 - val_loss: 8.2068e-05\n",
            "Epoch 166/1000\n",
            "5/5 [==============================] - 0s 14ms/step - loss: 1.4821e-04 - val_loss: 7.9335e-05\n",
            "Epoch 167/1000\n",
            "5/5 [==============================] - 0s 14ms/step - loss: 1.4795e-04 - val_loss: 8.6799e-05\n",
            "Epoch 168/1000\n",
            "5/5 [==============================] - 0s 15ms/step - loss: 1.4720e-04 - val_loss: 8.6244e-05\n",
            "Epoch 169/1000\n",
            "5/5 [==============================] - 0s 16ms/step - loss: 1.5339e-04 - val_loss: 7.6839e-05\n",
            "Epoch 170/1000\n",
            "5/5 [==============================] - 0s 16ms/step - loss: 1.4745e-04 - val_loss: 7.8965e-05\n",
            "Epoch 171/1000\n",
            "5/5 [==============================] - 0s 15ms/step - loss: 1.4533e-04 - val_loss: 7.9271e-05\n",
            "Epoch 172/1000\n",
            "5/5 [==============================] - 0s 15ms/step - loss: 1.4730e-04 - val_loss: 8.1310e-05\n",
            "Epoch 173/1000\n",
            "5/5 [==============================] - 0s 15ms/step - loss: 1.4585e-04 - val_loss: 8.0440e-05\n",
            "Epoch 174/1000\n",
            "5/5 [==============================] - 0s 16ms/step - loss: 1.4450e-04 - val_loss: 7.5965e-05\n",
            "Epoch 175/1000\n",
            "5/5 [==============================] - 0s 16ms/step - loss: 1.4389e-04 - val_loss: 8.0949e-05\n",
            "Epoch 176/1000\n",
            "5/5 [==============================] - 0s 15ms/step - loss: 1.4322e-04 - val_loss: 8.4956e-05\n",
            "Epoch 177/1000\n",
            "5/5 [==============================] - 0s 15ms/step - loss: 1.4498e-04 - val_loss: 7.9201e-05\n",
            "Epoch 178/1000\n",
            "5/5 [==============================] - 0s 15ms/step - loss: 1.4184e-04 - val_loss: 7.5054e-05\n",
            "Epoch 179/1000\n",
            "5/5 [==============================] - 0s 15ms/step - loss: 1.4358e-04 - val_loss: 7.4496e-05\n",
            "Epoch 180/1000\n",
            "5/5 [==============================] - 0s 16ms/step - loss: 1.4120e-04 - val_loss: 7.6648e-05\n",
            "Epoch 181/1000\n",
            "5/5 [==============================] - 0s 15ms/step - loss: 1.4134e-04 - val_loss: 7.6874e-05\n",
            "Epoch 182/1000\n",
            "5/5 [==============================] - 0s 15ms/step - loss: 1.4278e-04 - val_loss: 8.1551e-05\n",
            "Epoch 183/1000\n",
            "5/5 [==============================] - 0s 15ms/step - loss: 1.4756e-04 - val_loss: 7.6016e-05\n",
            "Epoch 184/1000\n",
            "5/5 [==============================] - 0s 14ms/step - loss: 1.4361e-04 - val_loss: 8.7755e-05\n",
            "Epoch 185/1000\n",
            "5/5 [==============================] - 0s 15ms/step - loss: 1.4126e-04 - val_loss: 7.5418e-05\n",
            "Epoch 186/1000\n",
            "5/5 [==============================] - 0s 16ms/step - loss: 1.4116e-04 - val_loss: 8.1094e-05\n",
            "Epoch 187/1000\n",
            "5/5 [==============================] - 0s 15ms/step - loss: 1.4025e-04 - val_loss: 7.4046e-05\n",
            "Epoch 188/1000\n",
            "5/5 [==============================] - 0s 15ms/step - loss: 1.3859e-04 - val_loss: 7.8424e-05\n",
            "Epoch 189/1000\n",
            "5/5 [==============================] - 0s 15ms/step - loss: 1.3841e-04 - val_loss: 7.3035e-05\n",
            "Epoch 190/1000\n",
            "5/5 [==============================] - 0s 15ms/step - loss: 1.3993e-04 - val_loss: 7.4527e-05\n",
            "Epoch 191/1000\n",
            "5/5 [==============================] - 0s 16ms/step - loss: 1.3825e-04 - val_loss: 7.2920e-05\n",
            "Epoch 192/1000\n",
            "5/5 [==============================] - 0s 15ms/step - loss: 1.3900e-04 - val_loss: 7.2412e-05\n",
            "Epoch 193/1000\n",
            "5/5 [==============================] - 0s 14ms/step - loss: 1.3906e-04 - val_loss: 7.1905e-05\n",
            "Epoch 194/1000\n",
            "5/5 [==============================] - 0s 15ms/step - loss: 1.3691e-04 - val_loss: 7.2450e-05\n",
            "Epoch 195/1000\n",
            "5/5 [==============================] - 0s 15ms/step - loss: 1.3841e-04 - val_loss: 7.2335e-05\n",
            "Epoch 196/1000\n",
            "5/5 [==============================] - 0s 16ms/step - loss: 1.3835e-04 - val_loss: 7.5647e-05\n",
            "Epoch 197/1000\n",
            "5/5 [==============================] - 0s 15ms/step - loss: 1.3752e-04 - val_loss: 7.1304e-05\n",
            "Epoch 198/1000\n",
            "5/5 [==============================] - 0s 15ms/step - loss: 1.3685e-04 - val_loss: 7.1358e-05\n",
            "Epoch 199/1000\n",
            "5/5 [==============================] - 0s 18ms/step - loss: 1.3931e-04 - val_loss: 9.2409e-05\n",
            "Epoch 200/1000\n",
            "5/5 [==============================] - 0s 17ms/step - loss: 1.4256e-04 - val_loss: 9.6635e-05\n",
            "Epoch 201/1000\n",
            "5/5 [==============================] - 0s 15ms/step - loss: 1.4419e-04 - val_loss: 7.9374e-05\n",
            "Epoch 202/1000\n",
            "5/5 [==============================] - 0s 15ms/step - loss: 1.3770e-04 - val_loss: 8.5091e-05\n",
            "Epoch 203/1000\n",
            "5/5 [==============================] - 0s 18ms/step - loss: 1.3755e-04 - val_loss: 1.0197e-04\n",
            "Epoch 204/1000\n",
            "5/5 [==============================] - 0s 16ms/step - loss: 1.3864e-04 - val_loss: 7.3712e-05\n",
            "Epoch 205/1000\n",
            "5/5 [==============================] - 0s 15ms/step - loss: 1.3290e-04 - val_loss: 7.1113e-05\n",
            "Epoch 206/1000\n",
            "5/5 [==============================] - 0s 15ms/step - loss: 1.3197e-04 - val_loss: 7.6232e-05\n",
            "Epoch 207/1000\n",
            "5/5 [==============================] - 0s 16ms/step - loss: 1.3631e-04 - val_loss: 6.9685e-05\n",
            "Epoch 208/1000\n",
            "5/5 [==============================] - 0s 15ms/step - loss: 1.3521e-04 - val_loss: 7.7169e-05\n",
            "Epoch 209/1000\n",
            "5/5 [==============================] - 0s 15ms/step - loss: 1.3834e-04 - val_loss: 6.9039e-05\n",
            "Epoch 210/1000\n",
            "5/5 [==============================] - 0s 15ms/step - loss: 1.3172e-04 - val_loss: 6.8883e-05\n",
            "Epoch 211/1000\n",
            "5/5 [==============================] - 0s 16ms/step - loss: 1.3309e-04 - val_loss: 7.5652e-05\n",
            "Epoch 212/1000\n",
            "5/5 [==============================] - 0s 19ms/step - loss: 1.3488e-04 - val_loss: 8.3377e-05\n",
            "Epoch 213/1000\n",
            "5/5 [==============================] - 0s 15ms/step - loss: 1.3710e-04 - val_loss: 7.9450e-05\n",
            "Epoch 214/1000\n",
            "5/5 [==============================] - 0s 15ms/step - loss: 1.4690e-04 - val_loss: 7.0154e-05\n",
            "Epoch 215/1000\n",
            "5/5 [==============================] - 0s 15ms/step - loss: 1.5542e-04 - val_loss: 8.2431e-05\n",
            "Epoch 216/1000\n",
            "5/5 [==============================] - 0s 18ms/step - loss: 1.5208e-04 - val_loss: 1.3418e-04\n",
            "Epoch 217/1000\n",
            "5/5 [==============================] - 0s 15ms/step - loss: 1.5307e-04 - val_loss: 1.3663e-04\n",
            "Epoch 218/1000\n",
            "5/5 [==============================] - 0s 17ms/step - loss: 1.4972e-04 - val_loss: 8.3227e-05\n",
            "Epoch 219/1000\n",
            "5/5 [==============================] - 0s 15ms/step - loss: 1.2711e-04 - val_loss: 7.1468e-05\n",
            "Epoch 220/1000\n",
            "5/5 [==============================] - 0s 15ms/step - loss: 1.2487e-04 - val_loss: 8.3554e-05\n",
            "Epoch 221/1000\n",
            "5/5 [==============================] - 0s 15ms/step - loss: 1.2964e-04 - val_loss: 1.1968e-04\n",
            "Epoch 222/1000\n",
            "5/5 [==============================] - 0s 15ms/step - loss: 1.4477e-04 - val_loss: 8.6001e-05\n",
            "Epoch 223/1000\n",
            "5/5 [==============================] - 0s 15ms/step - loss: 1.5400e-04 - val_loss: 6.5116e-05\n",
            "Epoch 224/1000\n",
            "5/5 [==============================] - 0s 15ms/step - loss: 1.4263e-04 - val_loss: 7.3209e-05\n",
            "Epoch 225/1000\n",
            "5/5 [==============================] - 0s 17ms/step - loss: 1.4536e-04 - val_loss: 7.9032e-05\n",
            "Epoch 226/1000\n",
            "5/5 [==============================] - 0s 16ms/step - loss: 1.4987e-04 - val_loss: 7.8493e-05\n",
            "Epoch 227/1000\n",
            "5/5 [==============================] - 0s 16ms/step - loss: 1.3996e-04 - val_loss: 9.1847e-05\n",
            "Epoch 228/1000\n",
            "5/5 [==============================] - 0s 15ms/step - loss: 1.4217e-04 - val_loss: 8.5298e-05\n",
            "Epoch 229/1000\n",
            "5/5 [==============================] - 0s 15ms/step - loss: 1.4021e-04 - val_loss: 6.4350e-05\n",
            "Epoch 230/1000\n",
            "5/5 [==============================] - 0s 16ms/step - loss: 1.2392e-04 - val_loss: 6.9767e-05\n",
            "Epoch 231/1000\n",
            "5/5 [==============================] - 0s 15ms/step - loss: 1.3057e-04 - val_loss: 6.4063e-05\n",
            "Epoch 232/1000\n",
            "5/5 [==============================] - 0s 16ms/step - loss: 1.2496e-04 - val_loss: 8.1703e-05\n",
            "Epoch 233/1000\n",
            "5/5 [==============================] - 0s 16ms/step - loss: 1.2829e-04 - val_loss: 7.0267e-05\n",
            "Epoch 234/1000\n",
            "5/5 [==============================] - 0s 15ms/step - loss: 1.2161e-04 - val_loss: 6.3546e-05\n",
            "Epoch 235/1000\n",
            "5/5 [==============================] - 0s 15ms/step - loss: 1.2656e-04 - val_loss: 6.3690e-05\n",
            "Epoch 236/1000\n",
            "5/5 [==============================] - 0s 15ms/step - loss: 1.2242e-04 - val_loss: 6.3846e-05\n",
            "Epoch 237/1000\n",
            "5/5 [==============================] - 0s 17ms/step - loss: 1.2474e-04 - val_loss: 6.3086e-05\n",
            "Epoch 238/1000\n",
            "5/5 [==============================] - 0s 15ms/step - loss: 1.2136e-04 - val_loss: 7.5062e-05\n",
            "Epoch 239/1000\n",
            "5/5 [==============================] - 0s 16ms/step - loss: 1.2535e-04 - val_loss: 7.6749e-05\n",
            "Epoch 240/1000\n",
            "5/5 [==============================] - 0s 16ms/step - loss: 1.2947e-04 - val_loss: 6.2803e-05\n",
            "Epoch 241/1000\n",
            "5/5 [==============================] - 0s 15ms/step - loss: 1.2909e-04 - val_loss: 8.4499e-05\n",
            "Epoch 242/1000\n",
            "5/5 [==============================] - 0s 17ms/step - loss: 1.4644e-04 - val_loss: 8.5804e-05\n",
            "Epoch 243/1000\n",
            "5/5 [==============================] - 0s 16ms/step - loss: 1.3072e-04 - val_loss: 6.2822e-05\n",
            "Epoch 244/1000\n",
            "5/5 [==============================] - 0s 16ms/step - loss: 1.2358e-04 - val_loss: 8.2605e-05\n",
            "Epoch 245/1000\n",
            "5/5 [==============================] - 0s 15ms/step - loss: 1.3687e-04 - val_loss: 9.4603e-05\n",
            "Epoch 246/1000\n",
            "5/5 [==============================] - 0s 15ms/step - loss: 1.2217e-04 - val_loss: 6.5268e-05\n",
            "Epoch 247/1000\n",
            "5/5 [==============================] - 0s 14ms/step - loss: 1.1847e-04 - val_loss: 6.2327e-05\n",
            "Epoch 248/1000\n",
            "5/5 [==============================] - 0s 15ms/step - loss: 1.1761e-04 - val_loss: 6.9268e-05\n",
            "Epoch 249/1000\n",
            "5/5 [==============================] - 0s 19ms/step - loss: 1.1871e-04 - val_loss: 6.1556e-05\n",
            "Epoch 250/1000\n",
            "5/5 [==============================] - 0s 16ms/step - loss: 1.1808e-04 - val_loss: 6.5288e-05\n",
            "Epoch 251/1000\n",
            "5/5 [==============================] - 0s 15ms/step - loss: 1.2119e-04 - val_loss: 6.2303e-05\n",
            "Epoch 252/1000\n",
            "5/5 [==============================] - 0s 16ms/step - loss: 1.1896e-04 - val_loss: 7.4013e-05\n",
            "Epoch 253/1000\n",
            "5/5 [==============================] - 0s 15ms/step - loss: 1.2173e-04 - val_loss: 6.1272e-05\n",
            "Epoch 254/1000\n",
            "5/5 [==============================] - 0s 15ms/step - loss: 1.3148e-04 - val_loss: 7.3281e-05\n",
            "Epoch 255/1000\n",
            "5/5 [==============================] - 0s 15ms/step - loss: 1.2253e-04 - val_loss: 6.2859e-05\n",
            "Epoch 256/1000\n",
            "5/5 [==============================] - 0s 17ms/step - loss: 1.1777e-04 - val_loss: 6.4154e-05\n",
            "Epoch 257/1000\n",
            "5/5 [==============================] - 0s 15ms/step - loss: 1.1584e-04 - val_loss: 6.2475e-05\n",
            "Epoch 258/1000\n",
            "5/5 [==============================] - 0s 15ms/step - loss: 1.1735e-04 - val_loss: 6.8633e-05\n",
            "Epoch 259/1000\n",
            "5/5 [==============================] - 0s 16ms/step - loss: 1.1916e-04 - val_loss: 6.0500e-05\n",
            "Epoch 260/1000\n",
            "5/5 [==============================] - 0s 15ms/step - loss: 1.1632e-04 - val_loss: 7.0825e-05\n",
            "Epoch 261/1000\n",
            "5/5 [==============================] - 0s 17ms/step - loss: 1.1457e-04 - val_loss: 6.0348e-05\n",
            "Epoch 262/1000\n",
            "5/5 [==============================] - 0s 18ms/step - loss: 1.1548e-04 - val_loss: 6.4366e-05\n",
            "Epoch 263/1000\n",
            "5/5 [==============================] - 0s 16ms/step - loss: 1.1671e-04 - val_loss: 6.0931e-05\n",
            "Epoch 264/1000\n",
            "5/5 [==============================] - 0s 15ms/step - loss: 1.1664e-04 - val_loss: 6.3185e-05\n",
            "Epoch 265/1000\n",
            "5/5 [==============================] - 0s 15ms/step - loss: 1.1459e-04 - val_loss: 6.0073e-05\n",
            "Epoch 266/1000\n",
            "5/5 [==============================] - 0s 16ms/step - loss: 1.1624e-04 - val_loss: 6.0161e-05\n",
            "Epoch 267/1000\n",
            "5/5 [==============================] - 0s 14ms/step - loss: 1.1564e-04 - val_loss: 1.0340e-04\n",
            "Epoch 268/1000\n",
            "5/5 [==============================] - 0s 14ms/step - loss: 1.2993e-04 - val_loss: 6.8752e-05\n",
            "Epoch 269/1000\n",
            "5/5 [==============================] - 0s 15ms/step - loss: 1.2679e-04 - val_loss: 7.6150e-05\n",
            "Epoch 270/1000\n",
            "5/5 [==============================] - 0s 15ms/step - loss: 1.3206e-04 - val_loss: 8.1552e-05\n",
            "Epoch 271/1000\n",
            "5/5 [==============================] - 0s 17ms/step - loss: 1.2585e-04 - val_loss: 8.6993e-05\n",
            "Epoch 272/1000\n",
            "5/5 [==============================] - 0s 15ms/step - loss: 1.2809e-04 - val_loss: 7.9480e-05\n",
            "Epoch 273/1000\n",
            "5/5 [==============================] - 0s 15ms/step - loss: 1.2867e-04 - val_loss: 6.0272e-05\n",
            "Epoch 274/1000\n",
            "5/5 [==============================] - 0s 14ms/step - loss: 1.3177e-04 - val_loss: 1.5536e-04\n",
            "Epoch 275/1000\n",
            "5/5 [==============================] - 0s 17ms/step - loss: 1.3626e-04 - val_loss: 6.8535e-05\n",
            "Epoch 276/1000\n",
            "5/5 [==============================] - 0s 15ms/step - loss: 1.2560e-04 - val_loss: 6.0971e-05\n",
            "Epoch 277/1000\n",
            "5/5 [==============================] - 0s 16ms/step - loss: 1.1412e-04 - val_loss: 6.1750e-05\n",
            "Epoch 278/1000\n",
            "5/5 [==============================] - 0s 19ms/step - loss: 1.2166e-04 - val_loss: 7.3069e-05\n",
            "Epoch 279/1000\n",
            "5/5 [==============================] - 0s 14ms/step - loss: 1.1638e-04 - val_loss: 6.0225e-05\n",
            "Epoch 280/1000\n",
            "5/5 [==============================] - 0s 15ms/step - loss: 1.2470e-04 - val_loss: 1.0146e-04\n",
            "Epoch 281/1000\n",
            "5/5 [==============================] - 0s 16ms/step - loss: 1.3992e-04 - val_loss: 6.0168e-05\n",
            "Epoch 282/1000\n",
            "5/5 [==============================] - 0s 16ms/step - loss: 1.2738e-04 - val_loss: 6.6397e-05\n",
            "Epoch 283/1000\n",
            "5/5 [==============================] - 0s 15ms/step - loss: 1.1165e-04 - val_loss: 6.0154e-05\n",
            "Epoch 284/1000\n",
            "5/5 [==============================] - 0s 16ms/step - loss: 1.1136e-04 - val_loss: 6.1868e-05\n",
            "Epoch 285/1000\n",
            "5/5 [==============================] - 0s 15ms/step - loss: 1.1568e-04 - val_loss: 6.0531e-05\n",
            "Epoch 286/1000\n",
            "5/5 [==============================] - 0s 16ms/step - loss: 1.1471e-04 - val_loss: 6.9880e-05\n",
            "Epoch 287/1000\n",
            "5/5 [==============================] - 0s 15ms/step - loss: 1.1951e-04 - val_loss: 6.2296e-05\n",
            "Epoch 288/1000\n",
            "5/5 [==============================] - 0s 16ms/step - loss: 1.1888e-04 - val_loss: 7.2812e-05\n",
            "Epoch 289/1000\n",
            "5/5 [==============================] - 0s 15ms/step - loss: 1.2784e-04 - val_loss: 6.2655e-05\n",
            "Epoch 290/1000\n",
            "5/5 [==============================] - 0s 15ms/step - loss: 1.2332e-04 - val_loss: 1.0011e-04\n",
            "Epoch 291/1000\n",
            "5/5 [==============================] - 0s 16ms/step - loss: 1.2234e-04 - val_loss: 6.2671e-05\n",
            "Epoch 292/1000\n",
            "5/5 [==============================] - 0s 15ms/step - loss: 1.1216e-04 - val_loss: 5.8533e-05\n",
            "Epoch 293/1000\n",
            "5/5 [==============================] - 0s 18ms/step - loss: 1.1055e-04 - val_loss: 5.9096e-05\n",
            "Epoch 294/1000\n",
            "5/5 [==============================] - 0s 16ms/step - loss: 1.1115e-04 - val_loss: 7.2414e-05\n",
            "Epoch 295/1000\n",
            "5/5 [==============================] - 0s 15ms/step - loss: 1.1664e-04 - val_loss: 7.2689e-05\n",
            "Epoch 296/1000\n",
            "5/5 [==============================] - 0s 16ms/step - loss: 1.1766e-04 - val_loss: 6.8079e-05\n",
            "Epoch 297/1000\n",
            "5/5 [==============================] - 0s 15ms/step - loss: 1.1883e-04 - val_loss: 6.0575e-05\n",
            "Epoch 298/1000\n",
            "5/5 [==============================] - 0s 15ms/step - loss: 1.1813e-04 - val_loss: 1.3841e-04\n",
            "Epoch 299/1000\n",
            "5/5 [==============================] - 0s 17ms/step - loss: 1.3142e-04 - val_loss: 5.9906e-05\n",
            "Epoch 300/1000\n",
            "5/5 [==============================] - 0s 19ms/step - loss: 1.2308e-04 - val_loss: 5.8601e-05\n",
            "Epoch 301/1000\n",
            "5/5 [==============================] - 0s 16ms/step - loss: 1.1072e-04 - val_loss: 7.1625e-05\n",
            "Epoch 302/1000\n",
            "5/5 [==============================] - 0s 15ms/step - loss: 1.0952e-04 - val_loss: 5.8227e-05\n",
            "Epoch 303/1000\n",
            "5/5 [==============================] - 0s 15ms/step - loss: 1.1015e-04 - val_loss: 6.6272e-05\n",
            "Epoch 304/1000\n",
            "5/5 [==============================] - 0s 17ms/step - loss: 1.1061e-04 - val_loss: 6.0862e-05\n",
            "Epoch 305/1000\n",
            "5/5 [==============================] - 0s 16ms/step - loss: 1.1150e-04 - val_loss: 6.2694e-05\n",
            "Epoch 306/1000\n",
            "5/5 [==============================] - 0s 15ms/step - loss: 1.1049e-04 - val_loss: 6.0879e-05\n",
            "Epoch 307/1000\n",
            "5/5 [==============================] - 0s 16ms/step - loss: 1.0961e-04 - val_loss: 5.9045e-05\n",
            "Epoch 308/1000\n",
            "5/5 [==============================] - 0s 16ms/step - loss: 1.2085e-04 - val_loss: 5.8350e-05\n",
            "Epoch 309/1000\n",
            "5/5 [==============================] - 0s 15ms/step - loss: 1.1184e-04 - val_loss: 8.0326e-05\n",
            "Epoch 310/1000\n",
            "5/5 [==============================] - 0s 15ms/step - loss: 1.2174e-04 - val_loss: 5.9704e-05\n",
            "Epoch 311/1000\n",
            "5/5 [==============================] - 0s 16ms/step - loss: 1.1551e-04 - val_loss: 1.1568e-04\n",
            "Epoch 312/1000\n",
            "5/5 [==============================] - 0s 15ms/step - loss: 1.4623e-04 - val_loss: 1.7691e-04\n",
            "Epoch 313/1000\n",
            "5/5 [==============================] - 0s 17ms/step - loss: 1.6128e-04 - val_loss: 6.3781e-05\n",
            "Epoch 314/1000\n",
            "5/5 [==============================] - 0s 19ms/step - loss: 1.2848e-04 - val_loss: 9.8557e-05\n",
            "Epoch 315/1000\n",
            "5/5 [==============================] - 0s 18ms/step - loss: 1.3672e-04 - val_loss: 6.3813e-05\n",
            "Epoch 316/1000\n",
            "5/5 [==============================] - 0s 15ms/step - loss: 1.3554e-04 - val_loss: 1.2789e-04\n",
            "Epoch 317/1000\n",
            "5/5 [==============================] - 0s 15ms/step - loss: 1.2979e-04 - val_loss: 6.5439e-05\n",
            "Epoch 318/1000\n",
            "5/5 [==============================] - 0s 16ms/step - loss: 1.2805e-04 - val_loss: 7.8882e-05\n",
            "Epoch 319/1000\n",
            "5/5 [==============================] - 0s 17ms/step - loss: 1.3337e-04 - val_loss: 9.4421e-05\n",
            "Epoch 320/1000\n",
            "5/5 [==============================] - 0s 16ms/step - loss: 1.2513e-04 - val_loss: 1.4491e-04\n",
            "Epoch 321/1000\n",
            "5/5 [==============================] - 0s 17ms/step - loss: 1.4378e-04 - val_loss: 9.1232e-05\n",
            "Epoch 322/1000\n",
            "5/5 [==============================] - 0s 15ms/step - loss: 1.2896e-04 - val_loss: 6.9560e-05\n",
            "Epoch 323/1000\n",
            "5/5 [==============================] - 0s 16ms/step - loss: 1.2720e-04 - val_loss: 7.5929e-05\n",
            "Epoch 324/1000\n",
            "5/5 [==============================] - 0s 15ms/step - loss: 1.1421e-04 - val_loss: 6.8472e-05\n",
            "Epoch 325/1000\n",
            "5/5 [==============================] - 0s 16ms/step - loss: 1.1254e-04 - val_loss: 7.1412e-05\n",
            "Epoch 326/1000\n",
            "5/5 [==============================] - 0s 17ms/step - loss: 1.1694e-04 - val_loss: 6.1473e-05\n",
            "Epoch 327/1000\n",
            "5/5 [==============================] - 0s 15ms/step - loss: 1.1324e-04 - val_loss: 5.8213e-05\n",
            "Epoch 328/1000\n",
            "5/5 [==============================] - 0s 16ms/step - loss: 1.1164e-04 - val_loss: 9.1732e-05\n",
            "Epoch 329/1000\n",
            "5/5 [==============================] - 0s 16ms/step - loss: 1.2172e-04 - val_loss: 1.0364e-04\n",
            "Epoch 330/1000\n",
            "5/5 [==============================] - 0s 15ms/step - loss: 1.2922e-04 - val_loss: 7.2149e-05\n",
            "Epoch 331/1000\n",
            "5/5 [==============================] - 0s 16ms/step - loss: 1.3137e-04 - val_loss: 7.2489e-05\n",
            "Epoch 332/1000\n",
            "5/5 [==============================] - 0s 16ms/step - loss: 1.3691e-04 - val_loss: 1.7063e-04\n",
            "Epoch 333/1000\n",
            "5/5 [==============================] - 0s 15ms/step - loss: 1.6919e-04 - val_loss: 1.1799e-04\n",
            "Epoch 334/1000\n",
            "5/5 [==============================] - 0s 16ms/step - loss: 1.6582e-04 - val_loss: 1.3677e-04\n",
            "Epoch 335/1000\n",
            "5/5 [==============================] - 0s 16ms/step - loss: 1.6632e-04 - val_loss: 5.8018e-05\n",
            "Epoch 336/1000\n",
            "5/5 [==============================] - 0s 17ms/step - loss: 1.2522e-04 - val_loss: 1.0381e-04\n",
            "Epoch 337/1000\n",
            "5/5 [==============================] - 0s 17ms/step - loss: 1.2434e-04 - val_loss: 6.0053e-05\n",
            "Epoch 338/1000\n",
            "5/5 [==============================] - 0s 16ms/step - loss: 1.1739e-04 - val_loss: 6.2891e-05\n",
            "Epoch 339/1000\n",
            "5/5 [==============================] - 0s 15ms/step - loss: 1.2134e-04 - val_loss: 5.7989e-05\n",
            "Epoch 340/1000\n",
            "5/5 [==============================] - 0s 15ms/step - loss: 1.1727e-04 - val_loss: 1.0997e-04\n",
            "Epoch 341/1000\n",
            "5/5 [==============================] - 0s 16ms/step - loss: 1.2425e-04 - val_loss: 5.9410e-05\n",
            "Epoch 342/1000\n",
            "5/5 [==============================] - 0s 15ms/step - loss: 1.2217e-04 - val_loss: 7.0811e-05\n",
            "Epoch 343/1000\n",
            "5/5 [==============================] - 0s 16ms/step - loss: 1.2051e-04 - val_loss: 7.1218e-05\n",
            "Epoch 344/1000\n",
            "5/5 [==============================] - 0s 16ms/step - loss: 1.1631e-04 - val_loss: 5.9301e-05\n",
            "Epoch 345/1000\n",
            "5/5 [==============================] - 0s 16ms/step - loss: 1.1151e-04 - val_loss: 6.1963e-05\n",
            "Epoch 346/1000\n",
            "5/5 [==============================] - 0s 16ms/step - loss: 1.1078e-04 - val_loss: 6.3768e-05\n",
            "Epoch 347/1000\n",
            "5/5 [==============================] - 0s 17ms/step - loss: 1.1273e-04 - val_loss: 7.1326e-05\n",
            "Epoch 348/1000\n",
            "5/5 [==============================] - 0s 16ms/step - loss: 1.1464e-04 - val_loss: 7.7758e-05\n",
            "Epoch 349/1000\n",
            "5/5 [==============================] - 0s 15ms/step - loss: 1.1575e-04 - val_loss: 5.9057e-05\n",
            "Epoch 350/1000\n",
            "5/5 [==============================] - 0s 16ms/step - loss: 1.1617e-04 - val_loss: 5.9613e-05\n",
            "Epoch 351/1000\n",
            "5/5 [==============================] - 0s 17ms/step - loss: 1.1718e-04 - val_loss: 8.2725e-05\n",
            "Epoch 352/1000\n",
            "5/5 [==============================] - 0s 16ms/step - loss: 1.1402e-04 - val_loss: 6.9202e-05\n",
            "Epoch 353/1000\n",
            "5/5 [==============================] - 0s 16ms/step - loss: 1.0825e-04 - val_loss: 7.1521e-05\n",
            "Epoch 354/1000\n",
            "5/5 [==============================] - 0s 17ms/step - loss: 1.1130e-04 - val_loss: 5.9450e-05\n",
            "Epoch 355/1000\n",
            "5/5 [==============================] - 0s 16ms/step - loss: 1.0965e-04 - val_loss: 5.9547e-05\n",
            "Epoch 356/1000\n",
            "5/5 [==============================] - 0s 16ms/step - loss: 1.0824e-04 - val_loss: 6.2522e-05\n",
            "Epoch 357/1000\n",
            "5/5 [==============================] - 0s 18ms/step - loss: 1.0755e-04 - val_loss: 5.7608e-05\n",
            "Epoch 358/1000\n",
            "5/5 [==============================] - 0s 16ms/step - loss: 1.0830e-04 - val_loss: 6.7312e-05\n",
            "Epoch 359/1000\n",
            "5/5 [==============================] - 0s 16ms/step - loss: 1.1483e-04 - val_loss: 5.7478e-05\n",
            "Epoch 360/1000\n",
            "5/5 [==============================] - 0s 15ms/step - loss: 1.3765e-04 - val_loss: 1.1475e-04\n",
            "Epoch 361/1000\n",
            "5/5 [==============================] - 0s 16ms/step - loss: 1.2894e-04 - val_loss: 6.9647e-05\n",
            "Epoch 362/1000\n",
            "5/5 [==============================] - 0s 17ms/step - loss: 1.2588e-04 - val_loss: 6.7644e-05\n",
            "Epoch 363/1000\n",
            "5/5 [==============================] - 0s 17ms/step - loss: 1.3516e-04 - val_loss: 8.9697e-05\n",
            "Epoch 364/1000\n",
            "5/5 [==============================] - 0s 16ms/step - loss: 1.1667e-04 - val_loss: 7.2933e-05\n",
            "Epoch 365/1000\n",
            "5/5 [==============================] - 0s 16ms/step - loss: 1.1066e-04 - val_loss: 7.3851e-05\n",
            "Epoch 366/1000\n",
            "5/5 [==============================] - 0s 16ms/step - loss: 1.1234e-04 - val_loss: 7.6498e-05\n",
            "Epoch 367/1000\n",
            "5/5 [==============================] - 0s 16ms/step - loss: 1.1444e-04 - val_loss: 6.8982e-05\n",
            "Epoch 368/1000\n",
            "5/5 [==============================] - 0s 17ms/step - loss: 1.2766e-04 - val_loss: 7.0022e-05\n",
            "Epoch 369/1000\n",
            "5/5 [==============================] - 0s 16ms/step - loss: 1.1275e-04 - val_loss: 6.0872e-05\n",
            "Epoch 370/1000\n",
            "5/5 [==============================] - 0s 16ms/step - loss: 1.0984e-04 - val_loss: 6.3116e-05\n",
            "Epoch 371/1000\n",
            "5/5 [==============================] - 0s 16ms/step - loss: 1.0824e-04 - val_loss: 7.4582e-05\n",
            "Epoch 372/1000\n",
            "5/5 [==============================] - 0s 16ms/step - loss: 1.0976e-04 - val_loss: 5.7565e-05\n",
            "Epoch 373/1000\n",
            "5/5 [==============================] - 0s 15ms/step - loss: 1.1011e-04 - val_loss: 7.2231e-05\n",
            "Epoch 374/1000\n",
            "5/5 [==============================] - 0s 17ms/step - loss: 1.1050e-04 - val_loss: 5.8842e-05\n",
            "Epoch 375/1000\n",
            "5/5 [==============================] - 0s 17ms/step - loss: 1.0957e-04 - val_loss: 5.9803e-05\n",
            "Epoch 376/1000\n",
            "5/5 [==============================] - 0s 17ms/step - loss: 1.0858e-04 - val_loss: 6.2591e-05\n",
            "Epoch 377/1000\n",
            "5/5 [==============================] - 0s 16ms/step - loss: 1.0620e-04 - val_loss: 5.7321e-05\n",
            "Epoch 378/1000\n",
            "5/5 [==============================] - 0s 17ms/step - loss: 1.0960e-04 - val_loss: 6.6947e-05\n",
            "Epoch 379/1000\n",
            "5/5 [==============================] - 0s 17ms/step - loss: 1.1030e-04 - val_loss: 5.7193e-05\n",
            "Epoch 380/1000\n",
            "5/5 [==============================] - 0s 16ms/step - loss: 1.1245e-04 - val_loss: 9.4259e-05\n",
            "Epoch 381/1000\n",
            "5/5 [==============================] - 0s 17ms/step - loss: 1.1457e-04 - val_loss: 5.8731e-05\n",
            "Epoch 382/1000\n",
            "5/5 [==============================] - 0s 16ms/step - loss: 1.1870e-04 - val_loss: 8.9529e-05\n",
            "Epoch 383/1000\n",
            "5/5 [==============================] - 0s 17ms/step - loss: 1.1542e-04 - val_loss: 6.1120e-05\n",
            "Epoch 384/1000\n",
            "5/5 [==============================] - 0s 16ms/step - loss: 1.1100e-04 - val_loss: 7.1239e-05\n",
            "Epoch 385/1000\n",
            "5/5 [==============================] - 0s 19ms/step - loss: 1.0792e-04 - val_loss: 1.0405e-04\n",
            "Epoch 386/1000\n",
            "5/5 [==============================] - 0s 17ms/step - loss: 1.2116e-04 - val_loss: 6.6230e-05\n",
            "Epoch 387/1000\n",
            "5/5 [==============================] - 0s 16ms/step - loss: 1.2476e-04 - val_loss: 8.7055e-05\n",
            "Epoch 388/1000\n",
            "5/5 [==============================] - 0s 18ms/step - loss: 1.2438e-04 - val_loss: 5.8203e-05\n",
            "Epoch 389/1000\n",
            "5/5 [==============================] - 0s 16ms/step - loss: 1.1548e-04 - val_loss: 5.7219e-05\n",
            "Epoch 390/1000\n",
            "5/5 [==============================] - 0s 16ms/step - loss: 1.0965e-04 - val_loss: 7.6336e-05\n",
            "Epoch 391/1000\n",
            "5/5 [==============================] - 0s 16ms/step - loss: 1.1223e-04 - val_loss: 9.0249e-05\n",
            "Epoch 392/1000\n",
            "5/5 [==============================] - 0s 20ms/step - loss: 1.2304e-04 - val_loss: 6.6922e-05\n",
            "Epoch 393/1000\n",
            "5/5 [==============================] - 0s 17ms/step - loss: 1.3201e-04 - val_loss: 6.8088e-05\n",
            "Epoch 394/1000\n",
            "5/5 [==============================] - 0s 17ms/step - loss: 1.1920e-04 - val_loss: 6.4562e-05\n",
            "Epoch 395/1000\n",
            "5/5 [==============================] - 0s 16ms/step - loss: 1.1176e-04 - val_loss: 6.3880e-05\n",
            "Epoch 396/1000\n",
            "5/5 [==============================] - 0s 16ms/step - loss: 1.1926e-04 - val_loss: 6.0587e-05\n",
            "Epoch 397/1000\n",
            "5/5 [==============================] - 0s 18ms/step - loss: 1.2205e-04 - val_loss: 5.7146e-05\n",
            "Epoch 398/1000\n",
            "5/5 [==============================] - 0s 16ms/step - loss: 1.3196e-04 - val_loss: 1.2129e-04\n",
            "Epoch 399/1000\n",
            "5/5 [==============================] - 0s 17ms/step - loss: 1.3847e-04 - val_loss: 8.3937e-05\n",
            "Epoch 400/1000\n",
            "5/5 [==============================] - 0s 19ms/step - loss: 1.2091e-04 - val_loss: 6.5299e-05\n",
            "Epoch 401/1000\n",
            "5/5 [==============================] - 0s 17ms/step - loss: 1.1117e-04 - val_loss: 8.6229e-05\n",
            "Epoch 402/1000\n",
            "5/5 [==============================] - 0s 16ms/step - loss: 1.1868e-04 - val_loss: 6.5893e-05\n",
            "Epoch 403/1000\n",
            "5/5 [==============================] - 0s 16ms/step - loss: 1.1284e-04 - val_loss: 5.7491e-05\n",
            "Epoch 404/1000\n",
            "5/5 [==============================] - 0s 16ms/step - loss: 1.0655e-04 - val_loss: 5.7029e-05\n",
            "Epoch 405/1000\n",
            "5/5 [==============================] - 0s 17ms/step - loss: 1.0873e-04 - val_loss: 5.7265e-05\n",
            "Epoch 406/1000\n",
            "5/5 [==============================] - 0s 16ms/step - loss: 1.0670e-04 - val_loss: 5.7716e-05\n",
            "Epoch 407/1000\n",
            "5/5 [==============================] - 0s 16ms/step - loss: 1.0814e-04 - val_loss: 5.9307e-05\n",
            "Epoch 408/1000\n",
            "5/5 [==============================] - 0s 16ms/step - loss: 1.0849e-04 - val_loss: 6.4611e-05\n",
            "Epoch 409/1000\n",
            "5/5 [==============================] - 0s 18ms/step - loss: 1.1129e-04 - val_loss: 6.1801e-05\n",
            "Epoch 410/1000\n",
            "5/5 [==============================] - 0s 18ms/step - loss: 1.1221e-04 - val_loss: 8.9193e-05\n",
            "Epoch 411/1000\n",
            "5/5 [==============================] - 0s 16ms/step - loss: 1.1316e-04 - val_loss: 5.6985e-05\n",
            "Epoch 412/1000\n",
            "5/5 [==============================] - 0s 16ms/step - loss: 1.0773e-04 - val_loss: 5.8813e-05\n",
            "Epoch 413/1000\n",
            "5/5 [==============================] - 0s 17ms/step - loss: 1.1509e-04 - val_loss: 7.8120e-05\n",
            "Epoch 414/1000\n",
            "5/5 [==============================] - 0s 18ms/step - loss: 1.1463e-04 - val_loss: 6.6781e-05\n",
            "Epoch 415/1000\n",
            "5/5 [==============================] - 0s 16ms/step - loss: 1.2531e-04 - val_loss: 6.1414e-05\n",
            "Epoch 416/1000\n",
            "5/5 [==============================] - 0s 17ms/step - loss: 1.2585e-04 - val_loss: 1.1692e-04\n",
            "Epoch 417/1000\n",
            "5/5 [==============================] - 0s 16ms/step - loss: 1.2440e-04 - val_loss: 6.3067e-05\n",
            "Epoch 418/1000\n",
            "5/5 [==============================] - 0s 17ms/step - loss: 1.1383e-04 - val_loss: 6.3868e-05\n",
            "Epoch 419/1000\n",
            "5/5 [==============================] - 0s 17ms/step - loss: 1.0699e-04 - val_loss: 5.6829e-05\n",
            "Epoch 420/1000\n",
            "5/5 [==============================] - 0s 17ms/step - loss: 1.0585e-04 - val_loss: 6.4171e-05\n",
            "Epoch 421/1000\n",
            "5/5 [==============================] - 0s 17ms/step - loss: 1.1510e-04 - val_loss: 8.2849e-05\n",
            "Epoch 422/1000\n",
            "5/5 [==============================] - 0s 17ms/step - loss: 1.1618e-04 - val_loss: 5.7251e-05\n",
            "Epoch 423/1000\n",
            "5/5 [==============================] - 0s 17ms/step - loss: 1.1331e-04 - val_loss: 5.8648e-05\n",
            "Epoch 424/1000\n",
            "5/5 [==============================] - 0s 17ms/step - loss: 1.0811e-04 - val_loss: 7.9116e-05\n",
            "Epoch 425/1000\n",
            "5/5 [==============================] - 0s 18ms/step - loss: 1.2060e-04 - val_loss: 7.2010e-05\n",
            "Epoch 426/1000\n",
            "5/5 [==============================] - 0s 18ms/step - loss: 1.1854e-04 - val_loss: 8.0100e-05\n",
            "Epoch 427/1000\n",
            "5/5 [==============================] - 0s 16ms/step - loss: 1.1535e-04 - val_loss: 5.7134e-05\n",
            "Epoch 428/1000\n",
            "5/5 [==============================] - 0s 16ms/step - loss: 1.1565e-04 - val_loss: 5.6824e-05\n",
            "Epoch 429/1000\n",
            "5/5 [==============================] - 0s 20ms/step - loss: 1.0888e-04 - val_loss: 6.3941e-05\n",
            "Epoch 430/1000\n",
            "5/5 [==============================] - 0s 17ms/step - loss: 1.0769e-04 - val_loss: 7.3540e-05\n",
            "Epoch 431/1000\n",
            "5/5 [==============================] - 0s 19ms/step - loss: 1.1125e-04 - val_loss: 5.7661e-05\n",
            "Epoch 432/1000\n",
            "5/5 [==============================] - 0s 17ms/step - loss: 1.0836e-04 - val_loss: 7.0175e-05\n",
            "Epoch 433/1000\n",
            "5/5 [==============================] - 0s 17ms/step - loss: 1.0860e-04 - val_loss: 6.4280e-05\n",
            "Epoch 434/1000\n",
            "5/5 [==============================] - 0s 17ms/step - loss: 1.0893e-04 - val_loss: 6.2688e-05\n",
            "Epoch 435/1000\n",
            "5/5 [==============================] - 0s 18ms/step - loss: 1.1120e-04 - val_loss: 8.5550e-05\n",
            "Epoch 436/1000\n",
            "5/5 [==============================] - 0s 16ms/step - loss: 1.1229e-04 - val_loss: 6.2388e-05\n",
            "Epoch 437/1000\n",
            "5/5 [==============================] - 0s 16ms/step - loss: 1.1004e-04 - val_loss: 7.5217e-05\n",
            "Epoch 438/1000\n",
            "5/5 [==============================] - 0s 17ms/step - loss: 1.1428e-04 - val_loss: 6.7783e-05\n",
            "Epoch 439/1000\n",
            "5/5 [==============================] - 0s 17ms/step - loss: 1.2515e-04 - val_loss: 1.0689e-04\n",
            "Epoch 440/1000\n",
            "5/5 [==============================] - 0s 17ms/step - loss: 1.2007e-04 - val_loss: 5.8421e-05\n",
            "Epoch 441/1000\n",
            "5/5 [==============================] - 0s 17ms/step - loss: 1.2379e-04 - val_loss: 5.7972e-05\n",
            "Epoch 442/1000\n",
            "5/5 [==============================] - 0s 15ms/step - loss: 1.2081e-04 - val_loss: 1.3409e-04\n",
            "Epoch 443/1000\n",
            "5/5 [==============================] - 0s 19ms/step - loss: 1.4480e-04 - val_loss: 1.2187e-04\n",
            "Epoch 444/1000\n",
            "5/5 [==============================] - 0s 16ms/step - loss: 1.4101e-04 - val_loss: 1.5206e-04\n",
            "Epoch 445/1000\n",
            "5/5 [==============================] - 0s 17ms/step - loss: 1.4558e-04 - val_loss: 1.4529e-04\n",
            "Epoch 446/1000\n",
            "5/5 [==============================] - 0s 17ms/step - loss: 1.5347e-04 - val_loss: 7.0360e-05\n",
            "Epoch 447/1000\n",
            "5/5 [==============================] - 0s 16ms/step - loss: 1.1760e-04 - val_loss: 1.1458e-04\n",
            "Epoch 448/1000\n",
            "5/5 [==============================] - 0s 16ms/step - loss: 1.3481e-04 - val_loss: 1.0252e-04\n",
            "Epoch 449/1000\n",
            "5/5 [==============================] - 0s 17ms/step - loss: 1.2810e-04 - val_loss: 1.0541e-04\n",
            "Epoch 450/1000\n",
            "5/5 [==============================] - 0s 17ms/step - loss: 1.3267e-04 - val_loss: 6.4092e-05\n",
            "Epoch 451/1000\n",
            "5/5 [==============================] - 0s 17ms/step - loss: 1.2278e-04 - val_loss: 6.0288e-05\n",
            "Epoch 452/1000\n",
            "5/5 [==============================] - 0s 17ms/step - loss: 1.1135e-04 - val_loss: 6.4624e-05\n",
            "Epoch 453/1000\n",
            "5/5 [==============================] - 0s 16ms/step - loss: 1.1175e-04 - val_loss: 6.3510e-05\n",
            "Epoch 454/1000\n",
            "5/5 [==============================] - 0s 19ms/step - loss: 1.0762e-04 - val_loss: 7.7415e-05\n",
            "Epoch 455/1000\n",
            "5/5 [==============================] - 0s 16ms/step - loss: 1.1624e-04 - val_loss: 6.6954e-05\n",
            "Epoch 456/1000\n",
            "5/5 [==============================] - 0s 17ms/step - loss: 1.1657e-04 - val_loss: 7.8425e-05\n",
            "Epoch 457/1000\n",
            "5/5 [==============================] - 0s 17ms/step - loss: 1.2555e-04 - val_loss: 5.7424e-05\n",
            "Epoch 458/1000\n",
            "5/5 [==============================] - 0s 16ms/step - loss: 1.1456e-04 - val_loss: 7.3153e-05\n",
            "Epoch 00458: early stopping\n"
          ],
          "name": "stdout"
        }
      ]
    },
    {
      "cell_type": "code",
      "metadata": {
        "id": "Jia2AuRNhbd6",
        "colab": {
          "base_uri": "https://localhost:8080/",
          "height": 621
        },
        "outputId": "5fcca72c-33f4-44bb-cbc5-3e29d9a9cc1b"
      },
      "source": [
        "#Loss Visualization for data training and validation\n",
        "\n",
        "plt.figure(figsize=(15,10))\n",
        "plt.plot(model_train.history['loss'])\n",
        "plt.plot(model_train.history['val_loss'])\n",
        "plt.title('Model Performance')\n",
        "plt.xlabel('Epoch')\n",
        "plt.ylabel('Loss')\n",
        "plt.legend(['Train','Validation'], loc='upper right')\n",
        "plt.show()"
      ],
      "execution_count": null,
      "outputs": [
        {
          "output_type": "display_data",
          "data": {
            "image/png": "[encoded data removed]",
            "text/plain": [
              "<Figure size 1080x720 with 1 Axes>"
            ]
          },
          "metadata": {
            "tags": [],
            "needs_background": "light"
          }
        }
      ]
    },
    {
      "cell_type": "code",
      "metadata": {
        "id": "hdERW9EDqi6k"
      },
      "source": [
        "result = model.predict(train_X)"
      ],
      "execution_count": null,
      "outputs": []
    },
    {
      "cell_type": "code",
      "metadata": {
        "id": "xFdVI87HKZhv",
        "colab": {
          "base_uri": "https://localhost:8080/"
        },
        "outputId": "7794e02b-52bc-4376-dd82-43f48242b3ca"
      },
      "source": [
        "train_y.shape"
      ],
      "execution_count": null,
      "outputs": [
        {
          "output_type": "execute_result",
          "data": {
            "text/plain": [
              "(3336, 1)"
            ]
          },
          "metadata": {
            "tags": []
          },
          "execution_count": 35
        }
      ]
    },
    {
      "cell_type": "code",
      "metadata": {
        "id": "65qYrb8Q2XSV",
        "colab": {
          "base_uri": "https://localhost:8080/"
        },
        "outputId": "dcb6e024-8ae2-4880-d72e-81f193fbe2f3"
      },
      "source": [
        "result.shape"
      ],
      "execution_count": null,
      "outputs": [
        {
          "output_type": "execute_result",
          "data": {
            "text/plain": [
              "(3336, 1)"
            ]
          },
          "metadata": {
            "tags": []
          },
          "execution_count": 36
        }
      ]
    },
    {
      "cell_type": "code",
      "metadata": {
        "id": "kUrNIJocPNWs"
      },
      "source": [
        "#Invert Scalled Value into Actual Value\n",
        "\n",
        "result = scalerMinMax.inverse_transform(result.reshape(-1,1))\n",
        "train_y = scalerMinMax.inverse_transform(train_y.reshape(-1,1))"
      ],
      "execution_count": null,
      "outputs": []
    },
    {
      "cell_type": "code",
      "metadata": {
        "id": "kgvy01zdJStf"
      },
      "source": [
        "#Flatten the Data\n",
        "\n",
        "result = result.flatten()\n",
        "train_y = train_y.flatten()"
      ],
      "execution_count": null,
      "outputs": []
    },
    {
      "cell_type": "code",
      "metadata": {
        "id": "KTSl0BqIQRc_",
        "colab": {
          "base_uri": "https://localhost:8080/"
        },
        "outputId": "e27b45fe-38bc-406d-813a-9d63a810e737"
      },
      "source": [
        "#Check the RMSE and MAE (Training Process)\n",
        "\n",
        "rmse_train = np.sqrt(mean_squared_error(train_y, result))\n",
        "print('Train Root Mean Squared Error:', rmse_train)\n",
        "\n",
        "mae_train = (mean_absolute_error(train_y, result))\n",
        "print('Train Mean Absolute Error:', mae_train)"
      ],
      "execution_count": null,
      "outputs": [
        {
          "output_type": "stream",
          "text": [
            "Train Root Mean Squared Error: 8.863951471743581\n",
            "Train Mean Absolute Error: 6.126235458322782\n"
          ],
          "name": "stdout"
        }
      ]
    },
    {
      "cell_type": "code",
      "metadata": {
        "id": "1SEw1kHNywbP"
      },
      "source": [
        "#Make the length date the same with result\n",
        "data_train = data_train[4:]\n",
        "data_test = data_test[4:]"
      ],
      "execution_count": null,
      "outputs": []
    },
    {
      "cell_type": "code",
      "metadata": {
        "id": "jTqcX8yrHG38",
        "colab": {
          "base_uri": "https://localhost:8080/",
          "height": 204
        },
        "outputId": "4f41d2db-1355-49c6-c5a7-809e11d3556c"
      },
      "source": [
        "data_train.head()"
      ],
      "execution_count": null,
      "outputs": [
        {
          "output_type": "execute_result",
          "data": {
            "text/html": [
              "<div>\n",
              "<style scoped>\n",
              "    .dataframe tbody tr th:only-of-type {\n",
              "        vertical-align: middle;\n",
              "    }\n",
              "\n",
              "    .dataframe tbody tr th {\n",
              "        vertical-align: top;\n",
              "    }\n",
              "\n",
              "    .dataframe thead th {\n",
              "        text-align: right;\n",
              "    }\n",
              "</style>\n",
              "<table border=\"1\" class=\"dataframe\">\n",
              "  <thead>\n",
              "    <tr style=\"text-align: right;\">\n",
              "      <th></th>\n",
              "      <th>Date</th>\n",
              "      <th>Prices</th>\n",
              "    </tr>\n",
              "  </thead>\n",
              "  <tbody>\n",
              "    <tr>\n",
              "      <th>6850</th>\n",
              "      <td>2005-04-01</td>\n",
              "      <td>427.15</td>\n",
              "    </tr>\n",
              "    <tr>\n",
              "      <th>6851</th>\n",
              "      <td>2005-04-04</td>\n",
              "      <td>423.90</td>\n",
              "    </tr>\n",
              "    <tr>\n",
              "      <th>6852</th>\n",
              "      <td>2005-04-05</td>\n",
              "      <td>424.60</td>\n",
              "    </tr>\n",
              "    <tr>\n",
              "      <th>6853</th>\n",
              "      <td>2005-04-06</td>\n",
              "      <td>425.75</td>\n",
              "    </tr>\n",
              "    <tr>\n",
              "      <th>6854</th>\n",
              "      <td>2005-04-07</td>\n",
              "      <td>428.00</td>\n",
              "    </tr>\n",
              "  </tbody>\n",
              "</table>\n",
              "</div>"
            ],
            "text/plain": [
              "           Date  Prices\n",
              "6850 2005-04-01  427.15\n",
              "6851 2005-04-04  423.90\n",
              "6852 2005-04-05  424.60\n",
              "6853 2005-04-06  425.75\n",
              "6854 2005-04-07  428.00"
            ]
          },
          "metadata": {
            "tags": []
          },
          "execution_count": 41
        }
      ]
    },
    {
      "cell_type": "code",
      "metadata": {
        "id": "_7qMIFzpqyO0",
        "colab": {
          "base_uri": "https://localhost:8080/",
          "height": 621
        },
        "outputId": "48ef7bae-7e5b-48a9-ad54-094e0d27c020"
      },
      "source": [
        "#Visuzalize the Predicted Result and Actual Data Train\n",
        "\n",
        "plt.figure(figsize=(20,10))\n",
        "plt.title(\"Training Predicted Price\")\n",
        "plt.xlabel('Date')\n",
        "plt.ylabel('Price')\n",
        "plt.plot(data_train['Date'],result)\n",
        "plt.plot(data_train['Date'],train_y)\n",
        "plt.legend(['True','Predict'], loc='upper right')\n",
        "plt.show()"
      ],
      "execution_count": null,
      "outputs": [
        {
          "output_type": "display_data",
          "data": {
            "image/png": "[encoded data removed]",
            "text/plain": [
              "<Figure size 1440x720 with 1 Axes>"
            ]
          },
          "metadata": {
            "tags": [],
            "needs_background": "light"
          }
        }
      ]
    },
    {
      "cell_type": "markdown",
      "metadata": {
        "id": "8kGNBcCKeXFO"
      },
      "source": [
        "## Testing"
      ]
    },
    {
      "cell_type": "code",
      "metadata": {
        "id": "5OzXHKXXK9uc"
      },
      "source": [
        "#Testing\n",
        "predicted_result = model.predict(test_X, verbose=0)"
      ],
      "execution_count": null,
      "outputs": []
    },
    {
      "cell_type": "code",
      "metadata": {
        "id": "X50SHOiZDexd"
      },
      "source": [
        "#Invert Scalled Value into Actual Value\n",
        "predicted_result = scalerMinMax.inverse_transform(predicted_result.reshape(-1,1))\n",
        "test_y = scalerMinMax.inverse_transform(test_y.reshape(-1,1))"
      ],
      "execution_count": null,
      "outputs": []
    },
    {
      "cell_type": "code",
      "metadata": {
        "id": "7cS41k3GLS7q"
      },
      "source": [
        "#Flatten the Data\n",
        "\n",
        "predicted_result = predicted_result.flatten()\n",
        "test_y = test_y.flatten()"
      ],
      "execution_count": null,
      "outputs": []
    },
    {
      "cell_type": "code",
      "metadata": {
        "id": "Xp6K7zQ6LUZZ",
        "colab": {
          "base_uri": "https://localhost:8080/"
        },
        "outputId": "e7559b24-56d9-447f-8199-def9786239f5"
      },
      "source": [
        "#Check the RMSE and MAE (Testing Process)\n",
        "\n",
        "rmse = np.sqrt(mean_squared_error(test_y, predicted_result))\n",
        "print('Test Root Mean Squared Error:', rmse)\n",
        "\n",
        "mae = (mean_absolute_error(test_y, predicted_result))\n",
        "print('Test Mean Absolute Error:', mae)"
      ],
      "execution_count": null,
      "outputs": [
        {
          "output_type": "stream",
          "text": [
            "Test Root Mean Squared Error: 15.532460618906702\n",
            "Test Mean Absolute Error: 10.330025888895157\n"
          ],
          "name": "stdout"
        }
      ]
    },
    {
      "cell_type": "code",
      "metadata": {
        "id": "GtOClncyLR6C",
        "colab": {
          "base_uri": "https://localhost:8080/",
          "height": 621
        },
        "outputId": "decbc63c-a671-4bc2-806a-c7f91683caf0"
      },
      "source": [
        "#Visuzalize the Predicted Result and Actual Data Test\n",
        "\n",
        "plt.figure(figsize=(20,10))\n",
        "plt.title(\"Predicted Price\")\n",
        "plt.xlabel('Date')\n",
        "plt.ylabel('Gold Price (USD)')\n",
        "plt.plot(data_test['Date'], predicted_result)\n",
        "plt.plot(data_test['Date'], test_y)\n",
        "plt.legend(['Actual','Prediction Result'], loc='upper right')\n",
        "plt.show()"
      ],
      "execution_count": null,
      "outputs": [
        {
          "output_type": "display_data",
          "data": {
            "image/png": "[encoded data removed]",
            "text/plain": [
              "<Figure size 1440x720 with 1 Axes>"
            ]
          },
          "metadata": {
            "tags": [],
            "needs_background": "light"
          }
        }
      ]
    }
  ]
}